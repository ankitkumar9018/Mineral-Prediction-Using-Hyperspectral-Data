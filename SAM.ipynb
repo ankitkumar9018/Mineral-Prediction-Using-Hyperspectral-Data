{
 "cells": [
  {
   "cell_type": "markdown",
   "id": "fba4423f",
   "metadata": {},
   "source": [
    "# Loading python libraries\n",
    "#### Python is developed under an OSI-approved open source license, making it freely usable and distributable, even for commercial use."
   ]
  },
  {
   "cell_type": "code",
   "execution_count": 1,
   "id": "9d303b1b",
   "metadata": {},
   "outputs": [],
   "source": [
    "import numpy as np\n",
    "import pandas as pd\n",
    "import matplotlib.pyplot as plt\n",
    "import scipy\n",
    "import os\n",
    "import glob\n",
    "from sklearn import preprocessing\n",
    "from pysptools import spectro as sp\n",
    "from pysptools import distance\n",
    "from IPython.display import display\n",
    "import ipywidgets as widgets\n",
    "from math import*\n",
    "from ipywidgets import IntProgress"
   ]
  },
  {
   "cell_type": "markdown",
   "id": "070b19a6",
   "metadata": {},
   "source": [
    "# Loading Functions\n",
    "\n",
    "* Widegets\n",
    "    * on_value_change_min - this function monitors the change in value of the slider\n",
    "    * on_value_change_max - this function monitors the change in value of the slider\n",
    "* FolderAndFileProcessing\n",
    "    * ReadFilePaths - This function takes input as source folder and file extension and returns the path of all the files inside the folder with the supplied extension\n",
    "    * ReadFile - This functions purpose is to read individual file, it takes file path, rows to skip while reading the file and type of seperation as input\n",
    "    * GetValuesFromFile - This function uses ReadFile read a file and then filters out desired column\n",
    "    * WriteDictToExcel - This function is used to write the output of the analysis to excel file\n",
    "    * combine_dicts - This function is used to combine two dictionaries in python into one dictionary\n",
    "* SpectraComparision(all functions normalizes and removes continum after subsetting the spectral signals)\n",
    "    * SFF - This function takes reference spectra and user input spectrum as input and process the signals using root mean squared algorithm and generates the score table with most probable mineral having the least score\n",
    "    * SAM - This function takes reference spectra and user input spectrum as input and process the signals using root mean squared algorithm and generates the score table with most probable mineral having the least score\n",
    "    * SFF_CrossCorrelation - This function takes reference spectra and user input spectrum as input and process the signals using cross-correlation algorithm and generates the score table with most probable mineral having the highest score(closer to 1) and least probable mineral having the lowest score(closer to -1)\n",
    "    * SpectralInformationDivergence - Computes the spectral information divergence between two vectors."
   ]
  },
  {
   "cell_type": "code",
   "execution_count": 2,
   "id": "ef3566c1",
   "metadata": {},
   "outputs": [],
   "source": [
    "### https://dataaspirant.com/five-most-popular-similarity-measures-implementation-in-python/\n",
    "### https://towardsdatascience.com/four-ways-to-quantify-synchrony-between-time-series-data-b99136c4a9c9\n",
    "\n",
    "class Widegets:\n",
    "    def on_value_change_min(change):\n",
    "        new_min = change['new']\n",
    "        #print(change['name'])\n",
    "        if new_min + 100 > maxWavelength.value:\n",
    "            minWavelength.value = maxWavelength.value - 100\n",
    "\n",
    "    def on_value_change_max(change):\n",
    "        new_max = change['new']\n",
    "        if minWavelength.value > new_max - 100:\n",
    "            maxWavelength.value = minWavelength.value + 100\n",
    "        \n",
    "class FolderAndFileProcessing:\n",
    "    def ReadFilePaths(source, ext):\n",
    "        return glob.glob(source + \"/**/*.\" + ext, recursive = True)\n",
    "    \n",
    "    def ReadFile(file, rowToSkip, seperation):\n",
    "        return pd.read_csv(file ,skiprows = rowToSkip, sep = seperation) \n",
    "    \n",
    "    def GetValuesFromFile(file, rowToSkip, seperation, column):\n",
    "        fileData = FolderAndFileProcessing.ReadFile(file , rowToSkip, seperation)\n",
    "        return fileData[column]\n",
    "    \n",
    "    def WriteDictToExcel(targetPath, filename, dictionary):\n",
    "        df = pd.DataFrame.from_dict(dictionary)\n",
    "        os.makedirs(targetPath, exist_ok=True)\n",
    "        df.to_excel(targetPath+filename)\n",
    "    \n",
    "    def combine_dicts(a, b):\n",
    "        for key in b:\n",
    "            if key in a:\n",
    "                b[key] = b[key] + a[key]\n",
    "        c = {**a, **b}\n",
    "        return c\n",
    "        \n",
    "class SpectraComparision:\n",
    "    \n",
    "    def SFF_CrossCorrelation(fileList, spectraValue, fileListContinumRemoval, waveLength, minIndex, maxIndex):\n",
    "        mineralScore = {}\n",
    "        normalized_spectraValue = preprocessing.normalize([spectraValue])[0]\n",
    "        try:\n",
    "            continumRemoved_spectraValue = sp.convex_hull_removal(normalized_spectraValue[minIndex:maxIndex], waveLength[minIndex:maxIndex])[0]\n",
    "        except:\n",
    "            return mineralScore\n",
    "        for index in range(len(fileList)):\n",
    "            continumRemoved_idealReflectance = fileListContinumRemoval[index]\n",
    "            result = np.corrcoef(continumRemoved_spectraValue, continumRemoved_idealReflectance)\n",
    "            score = result[0, 1]\n",
    "            mineralScore[fileList[index].split('/')[-1].replace('_AREF.txt','').replace('s07_ASD_','')] = score\n",
    "        mineralScore = sorted(mineralScore.items(), key=lambda x: x[1], reverse=True)\n",
    "        return mineralScore\n",
    "    \n",
    "    def SFF(fileList, spectraValue, fileListContinumRemoval, waveLength, minIndex, maxIndex):\n",
    "        mineralScore = {}\n",
    "        normalized_spectraValue = preprocessing.normalize([spectraValue])[0]\n",
    "        try:\n",
    "            continumRemoved_spectraValue = sp.convex_hull_removal(normalized_spectraValue[minIndex:maxIndex], waveLength[minIndex:maxIndex])[0]\n",
    "        except:\n",
    "            return mineralScore\n",
    "        for index in range(len(fileList)):\n",
    "            continumRemoved_idealReflectance = fileListContinumRemoval[index]\n",
    "            result = np.array(continumRemoved_spectraValue) - np.array(continumRemoved_idealReflectance)\n",
    "            score = np.sqrt(np.mean(result**2))\n",
    "            score = 1 - score\n",
    "            mineralScore[fileList[index].split('/')[-1].replace('_AREF.txt','').replace('s07_ASD_','')] = score\n",
    "        mineralScore = sorted(mineralScore.items(), key=lambda x: x[1])\n",
    "        return mineralScore\n",
    "    \n",
    "    def CosineSimilarityContinumRemoved(fileList, spectraValue, fileListContinumRemoval, waveLength, minIndex, maxIndex):\n",
    "        mineralScore = {}\n",
    "        normalized_spectraValue = preprocessing.normalize([spectraValue])[0]\n",
    "        try:\n",
    "            continumRemoved_spectraValue = sp.convex_hull_removal(normalized_spectraValue[minIndex:maxIndex], waveLength[minIndex:maxIndex])[0]\n",
    "        except:\n",
    "            return mineralScore\n",
    "        for index in range(len(fileList)):\n",
    "            continumRemoved_idealReflectance = fileListContinumRemoval[index]\n",
    "            score = SpectraComparision.cosine_similarity(continumRemoved_spectraValue, continumRemoved_idealReflectance)\n",
    "            mineralScore[fileList[index].split('/')[-1].replace('_AREF.txt','').replace('s07_ASD_','')] = score\n",
    "        mineralScore = sorted(mineralScore.items(), key=lambda x: x[1])\n",
    "        return mineralScore\n",
    "    \n",
    "    def computeSimilarityContinumRemoved(fileList, spectraValue, fileListContinumRemoval, waveLength, minIndex, maxIndex):\n",
    "        mineralScore = {}\n",
    "        normalized_spectraValue = preprocessing.normalize([spectraValue])[0]\n",
    "        try:\n",
    "            continumRemoved_spectraValue = sp.convex_hull_removal(normalized_spectraValue[minIndex:maxIndex], waveLength[minIndex:maxIndex])[0]\n",
    "        except:\n",
    "            return mineralScore\n",
    "        for index in range(len(fileList)):\n",
    "            continumRemoved_idealReflectance = fileListContinumRemoval[index]\n",
    "            score = SpectraComparision.compute_similarity(continumRemoved_spectraValue, continumRemoved_idealReflectance)\n",
    "            mineralScore[fileList[index].split('/')[-1].replace('_AREF.txt','').replace('s07_ASD_','')] = score\n",
    "        mineralScore = sorted(mineralScore.items(), key=lambda x: x[1])\n",
    "        return mineralScore\n",
    "    \n",
    "    def SAM(fileList, spectraValue, fileListContinumRemoval, waveLength, minIndex, maxIndex):\n",
    "        mineralScore = {}\n",
    "        normalized_spectraValue = preprocessing.normalize([spectraValue[minIndex:maxIndex]])[0]\n",
    "        try:\n",
    "            continumRemoved_spectraValue = normalized_spectraValue\n",
    "            #continumRemoved_spectraValue = sp.convex_hull_removal(normalized_spectraValue[minIndex:maxIndex], waveLength[minIndex:maxIndex])[0]\n",
    "        except:\n",
    "            return mineralScore\n",
    "        for index in range(len(fileList)):\n",
    "            continumRemoved_idealReflectance = fileListContinumRemoval[index]\n",
    "            score = distance.SAM(continumRemoved_spectraValue, continumRemoved_idealReflectance)\n",
    "            score = 1 - score\n",
    "            mineralScore[fileList[index].split('/')[-1].replace('_AREF.txt','').replace('s07_ASD_','')] = score\n",
    "        mineralScore = sorted(mineralScore.items(), key=lambda x: x[1])\n",
    "        return mineralScore\n",
    "\n",
    "    def chebyshev(fileList, spectraValue, fileListContinumRemoval, waveLength, minIndex, maxIndex):\n",
    "        mineralScore = {}\n",
    "        normalized_spectraValue = preprocessing.normalize([spectraValue])[0]\n",
    "        try:\n",
    "            continumRemoved_spectraValue = sp.convex_hull_removal(normalized_spectraValue[minIndex:maxIndex], waveLength[minIndex:maxIndex])[0]\n",
    "        except:\n",
    "            return mineralScore\n",
    "        for index in range(len(fileList)):\n",
    "            continumRemoved_idealReflectance = fileListContinumRemoval[index]\n",
    "            score = distance.chebyshev(np.array(continumRemoved_spectraValue), np.array(continumRemoved_idealReflectance))\n",
    "            mineralScore[fileList[index].split('/')[-1].replace('_AREF.txt','').replace('s07_ASD_','')] = score\n",
    "        mineralScore = sorted(mineralScore.items(), key=lambda x: x[1])\n",
    "        return mineralScore\n",
    "\n",
    "    def SpectralInformationDivergence(fileList, spectraValue, fileListContinumRemoval, waveLength, minIndex, maxIndex):\n",
    "        mineralScore = {}\n",
    "        normalized_spectraValue = preprocessing.normalize([spectraValue])[0]\n",
    "        try:\n",
    "            continumRemoved_spectraValue = sp.convex_hull_removal(normalized_spectraValue[minIndex:maxIndex], waveLength[minIndex:maxIndex])[0]\n",
    "        except:\n",
    "            return mineralScore\n",
    "        for index in range(len(fileList)):\n",
    "            continumRemoved_idealReflectance = fileListContinumRemoval[index]\n",
    "            score = distance.SID(continumRemoved_spectraValue, continumRemoved_idealReflectance)\n",
    "            score = 1 - score\n",
    "            mineralScore[fileList[index].split('/')[-1].replace('_AREF.txt','').replace('s07_ASD_','')] = score\n",
    "        mineralScore = sorted(mineralScore.items(), key=lambda x: x[1])\n",
    "        return mineralScore\n",
    "    \n",
    "    def compute_similarity(ref_rec,input_rec,weightage=[0.33,0.33,0.33]):\n",
    "        ref_rec = np.array(ref_rec)\n",
    "        input_rec = np.array(input_rec)\n",
    "        ## Time domain similarity\n",
    "        ref_time = np.correlate(ref_rec,ref_rec)    \n",
    "        inp_time = np.correlate(ref_rec,input_rec)\n",
    "        diff_time = abs(ref_time-inp_time)\n",
    "\n",
    "        ## Freq domain similarity\n",
    "        ref_freq = np.correlate(np.fft.fft(ref_rec),np.fft.fft(ref_rec)) \n",
    "        inp_freq = np.correlate(np.fft.fft(ref_rec),np.fft.fft(input_rec))\n",
    "        diff_freq = abs(ref_freq-inp_freq)\n",
    "\n",
    "        ## Power similarity\n",
    "        ref_power = np.sum(ref_rec**2)\n",
    "        inp_power = np.sum(input_rec**2)\n",
    "        diff_power = abs(ref_power-inp_power)\n",
    "        \n",
    "        return float(weightage[0]*diff_time+weightage[1]*diff_freq+weightage[2]*diff_power)\n",
    "    \n",
    "\n",
    "    \n",
    "    def square_rooted(x):\n",
    "        return round(sqrt(sum([a*a for a in x])),3)\n",
    " \n",
    "    def cosine_similarity(x,y):\n",
    "        numerator = sum(a*b for a,b in zip(x,y))\n",
    "        denominator = SpectraComparision.square_rooted(x)* SpectraComparision.square_rooted(y)\n",
    "        #return round(numerator/float(denominator),3)\n",
    "        return numerator/float(denominator)\n",
    "    "
   ]
  },
  {
   "cell_type": "markdown",
   "id": "49bd9a47",
   "metadata": {},
   "source": [
    "### Variable Declarations"
   ]
  },
  {
   "cell_type": "code",
   "execution_count": 3,
   "id": "ab966d87",
   "metadata": {},
   "outputs": [
    {
     "name": "stdout",
     "output_type": "stream",
     "text": [
      "Enter the totlal number of features you want to anaylze: 1\n"
     ]
    }
   ],
   "source": [
    "##txt file declarations\n",
    "#txtPath = \"../data/enviData/cleanFolder/\"\n",
    "txtPath = \"../data/enviData/ENVIFilesUsgsProcessed/\"\n",
    "extensionTxt= 'txt'\n",
    "indidualplotlimit = 15\n",
    "limit = 6\n",
    "\n",
    "###sed file declarations\n",
    "#sedPath = \"../data/vulcano/16062019/\"\n",
    "sedPath = \"../data/vulcano/\"\n",
    "extensionSed= 'sed'\n",
    "\n",
    "minWavelength = []\n",
    "maxWavelength = []\n",
    "\n",
    "minIndex = []\n",
    "maxIndex = []\n",
    "\n",
    "\n",
    "numberOfFeatureToAnalyze = int(input(\"Enter the totlal number of features you want to anaylze: \"))\n"
   ]
  },
  {
   "cell_type": "markdown",
   "id": "a90f10ff",
   "metadata": {},
   "source": [
    "# Image Selection\n",
    "### Select if you want to plot graph or not"
   ]
  },
  {
   "cell_type": "code",
   "execution_count": 4,
   "id": "c30016aa",
   "metadata": {},
   "outputs": [],
   "source": [
    "toggleButton = widgets.ToggleButtons(\n",
    "    options=['No Image', 'Image'],\n",
    "    description='Select:',\n",
    "    disabled=False,\n",
    "    button_style='', # 'success', 'info', 'warning', 'danger' or ''\n",
    "    tooltips=['Generates only excel file', 'Generates excel files with graph plots'],\n",
    "#    icons=['check'] * 3\n",
    ")\n",
    "#toggleButton.observe(Widegets.on_value_change_toggle, names='value')"
   ]
  },
  {
   "cell_type": "code",
   "execution_count": 6,
   "id": "1781197d",
   "metadata": {},
   "outputs": [
    {
     "data": {
      "application/vnd.jupyter.widget-view+json": {
       "model_id": "37c3443888b9456d9f81655c0c3e64d3",
       "version_major": 2,
       "version_minor": 0
      },
      "text/plain": [
       "ToggleButtons(description='Select:', index=1, options=('No Image', 'Image'), tooltips=('Generates only excel f…"
      ]
     },
     "metadata": {},
     "output_type": "display_data"
    }
   ],
   "source": [
    "display(toggleButton)"
   ]
  },
  {
   "cell_type": "code",
   "execution_count": null,
   "id": "8311287e",
   "metadata": {},
   "outputs": [],
   "source": []
  },
  {
   "cell_type": "markdown",
   "id": "ecb10c33",
   "metadata": {},
   "source": [
    "# Full Plot\n",
    "### Select if you want to plot graph for the entire spectral range"
   ]
  },
  {
   "cell_type": "code",
   "execution_count": 7,
   "id": "4a30f054",
   "metadata": {},
   "outputs": [],
   "source": [
    "toggleButtonFullPlot = widgets.ToggleButtons(\n",
    "    options=['Yes', 'No'],\n",
    "    description='Select:',\n",
    "    disabled=False,\n",
    "    button_style='', # 'success', 'info', 'warning', 'danger' or ''\n",
    "    tooltips=['Also Generates Full plot', 'Only generates plot of selected region'],\n",
    "#    icons=['check'] * 3\n",
    ")"
   ]
  },
  {
   "cell_type": "code",
   "execution_count": 9,
   "id": "18e71a71",
   "metadata": {},
   "outputs": [
    {
     "data": {
      "application/vnd.jupyter.widget-view+json": {
       "model_id": "07a9f7935ca840be83803328bb63376c",
       "version_major": 2,
       "version_minor": 0
      },
      "text/plain": [
       "ToggleButtons(description='Select:', index=1, options=('Yes', 'No'), tooltips=('Also Generates Full plot', 'On…"
      ]
     },
     "metadata": {},
     "output_type": "display_data"
    }
   ],
   "source": [
    "display(toggleButtonFullPlot)"
   ]
  },
  {
   "cell_type": "markdown",
   "id": "b539ee2a",
   "metadata": {},
   "source": [
    "# Individual plots\n",
    "### Select if you want to plot the graph for all the minerals together or each probale output as sepererate graph plot"
   ]
  },
  {
   "cell_type": "code",
   "execution_count": 10,
   "id": "be759864",
   "metadata": {},
   "outputs": [],
   "source": [
    "toggleButtonIndividualPlot = widgets.ToggleButtons(\n",
    "    options=['Yes', 'No'],\n",
    "    description='Select:',\n",
    "    disabled=False,\n",
    "    button_style='', # 'success', 'info', 'warning', 'danger' or ''\n",
    "    tooltips=['Generates Individual plots', 'Generates Combined Plots'],\n",
    "#    icons=['check'] * 3\n",
    ")"
   ]
  },
  {
   "cell_type": "code",
   "execution_count": 12,
   "id": "f9b851b2",
   "metadata": {},
   "outputs": [
    {
     "data": {
      "application/vnd.jupyter.widget-view+json": {
       "model_id": "5781b6ac99f1457fb1513fe71c02fadd",
       "version_major": 2,
       "version_minor": 0
      },
      "text/plain": [
       "ToggleButtons(description='Select:', options=('Yes', 'No'), tooltips=('Generates Individual plots', 'Generates…"
      ]
     },
     "metadata": {},
     "output_type": "display_data"
    }
   ],
   "source": [
    "display(toggleButtonIndividualPlot)"
   ]
  },
  {
   "cell_type": "markdown",
   "id": "6515c8d1",
   "metadata": {},
   "source": [
    "# Declaring dynamic functions\n",
    "### Creating dynamic functions so the code if more adaptable and not hardcoded"
   ]
  },
  {
   "cell_type": "code",
   "execution_count": 13,
   "id": "fa70d8ca",
   "metadata": {},
   "outputs": [],
   "source": [
    "for i in range(numberOfFeatureToAnalyze):\n",
    "    exec(f\"\"\"def on_value_change_min_{i}(change): \n",
    "         new_min = change['new']\n",
    "         if new_min + 100 > maxWavelength[{i}].value:\n",
    "             minWavelength[{i}].value = maxWavelength[{i}].value - 100\"\"\")\n",
    "    \n",
    "    exec(f\"\"\"def on_value_change_max_{i}(change): \n",
    "         new_max = change['new']\n",
    "         if minWavelength[{i}].value > new_max - 100:\n",
    "             maxWavelength[{i}].value = minWavelength[{i}].value + 100\"\"\")"
   ]
  },
  {
   "cell_type": "code",
   "execution_count": null,
   "id": "0f5a1477",
   "metadata": {},
   "outputs": [],
   "source": []
  },
  {
   "cell_type": "code",
   "execution_count": 14,
   "id": "e10090aa",
   "metadata": {},
   "outputs": [],
   "source": [
    "###Descibing wavelengths\n",
    "for ind in range(numberOfFeatureToAnalyze):\n",
    "    minWavelength.append(widgets.IntSlider(value=350, min=350, max=2500))\n",
    "    maxWavelength.append(widgets.IntSlider(value=2500, min=350, max=2500))\n",
    "    minWavelength[ind].description = 'min wav'\n",
    "    maxWavelength[ind].description = 'max wav'\n",
    "        \n",
    "    minWavelength[ind].observe(globals()['on_value_change_min_'+ str(ind)], names='value')\n",
    "    maxWavelength[ind].observe(globals()['on_value_change_max_'+ str(ind)], names='value')"
   ]
  },
  {
   "cell_type": "markdown",
   "id": "5be077eb",
   "metadata": {},
   "source": [
    "# Select the wavelength range\n",
    "### Select the range to subset the data"
   ]
  },
  {
   "cell_type": "code",
   "execution_count": 15,
   "id": "47ea5fdc",
   "metadata": {},
   "outputs": [
    {
     "name": "stdout",
     "output_type": "stream",
     "text": [
      "feature1\n"
     ]
    },
    {
     "data": {
      "application/vnd.jupyter.widget-view+json": {
       "model_id": "48aed5c5972a4a8abfabd8ae7d8a2022",
       "version_major": 2,
       "version_minor": 0
      },
      "text/plain": [
       "IntSlider(value=350, description='min wav', max=2500, min=350)"
      ]
     },
     "metadata": {},
     "output_type": "display_data"
    },
    {
     "data": {
      "application/vnd.jupyter.widget-view+json": {
       "model_id": "560b304d9bb044a9a1773e7b1c865446",
       "version_major": 2,
       "version_minor": 0
      },
      "text/plain": [
       "IntSlider(value=2500, description='max wav', max=2500, min=350)"
      ]
     },
     "metadata": {},
     "output_type": "display_data"
    }
   ],
   "source": [
    "for ind in range(numberOfFeatureToAnalyze):\n",
    "    print('feature' + str(ind+1))\n",
    "    display(minWavelength[ind], maxWavelength[ind])"
   ]
  },
  {
   "cell_type": "code",
   "execution_count": 16,
   "id": "38620cad",
   "metadata": {},
   "outputs": [],
   "source": [
    "minIndex = []\n",
    "maxIndex = []\n",
    "for ind in range(numberOfFeatureToAnalyze):\n",
    "    minIndex.append(minWavelength[ind].value - 350)\n",
    "    maxIndex.append(maxWavelength[ind].value - 350 + 1)"
   ]
  },
  {
   "cell_type": "code",
   "execution_count": 17,
   "id": "f44b3f53",
   "metadata": {},
   "outputs": [
    {
     "data": {
      "text/plain": [
       "1051"
      ]
     },
     "execution_count": 17,
     "metadata": {},
     "output_type": "execute_result"
    }
   ],
   "source": [
    "maxIndex[0]"
   ]
  },
  {
   "cell_type": "markdown",
   "id": "c96be281",
   "metadata": {},
   "source": [
    "# Populating paths\n",
    "### Getting the paths to both reference spectrum and user input spectrum"
   ]
  },
  {
   "cell_type": "code",
   "execution_count": 18,
   "id": "ef81bce4",
   "metadata": {},
   "outputs": [],
   "source": [
    "txt_files = FolderAndFileProcessing.ReadFilePaths(txtPath,extensionTxt)\n",
    "sed_files = FolderAndFileProcessing.ReadFilePaths(sedPath,extensionSed)"
   ]
  },
  {
   "cell_type": "markdown",
   "id": "dc475914",
   "metadata": {},
   "source": [
    "# Defining wavelength range"
   ]
  },
  {
   "cell_type": "code",
   "execution_count": 19,
   "id": "280599f8",
   "metadata": {},
   "outputs": [],
   "source": [
    "waveLength = list(range(350,2501))"
   ]
  },
  {
   "cell_type": "markdown",
   "id": "ac3178d5",
   "metadata": {},
   "source": [
    "# Continium removal after splicing the data\n",
    "### Splice the ideal spectral data and remove the continium"
   ]
  },
  {
   "cell_type": "code",
   "execution_count": 20,
   "id": "cceacbe6",
   "metadata": {},
   "outputs": [
    {
     "data": {
      "application/vnd.jupyter.widget-view+json": {
       "model_id": "ee69eb7387484f2a97d0dc5a2e876ecc",
       "version_major": 2,
       "version_minor": 0
      },
      "text/plain": [
       "IntProgress(value=0, max=481)"
      ]
     },
     "metadata": {},
     "output_type": "display_data"
    }
   ],
   "source": [
    "max_count = len(txt_files)\n",
    "for ind in range(numberOfFeatureToAnalyze):\n",
    "    minIndexTemp = minIndex[ind]\n",
    "    maxIndexTemp = maxIndex[ind]\n",
    "    globals()['fileListContinumRemoval_'+str(ind)] = []\n",
    "    globals()['progreesBar'+str(ind)] = IntProgress(min=0, max=max_count) # instantiate the bar\n",
    "    display(globals()['progreesBar'+str(ind)]) # display the bar\n",
    "\n",
    "    for index in range(len(txt_files)):\n",
    "        idealReflectance = FolderAndFileProcessing.GetValuesFromFile(txt_files[index], 0, ' ','reflectance')\n",
    "        normalized_idealReflectance = preprocessing.normalize([idealReflectance[minIndexTemp:maxIndexTemp]])[0]\n",
    "        continumRemoved_idealReflectance = normalized_idealReflectance\n",
    "        #continumRemoved_idealReflectance = sp.convex_hull_removal(normalized_idealReflectance[minIndexTemp:maxIndexTemp], waveLength[minIndexTemp:maxIndexTemp])[0]\n",
    "        globals()['fileListContinumRemoval_'+str(ind)].append(continumRemoved_idealReflectance)\n",
    "        globals()['progreesBar'+str(ind)].style = {'description_width': 'initial'}\n",
    "        globals()['progreesBar'+str(ind)].description = 'Loading ideal files feature '+ str(ind + 1) + ': ' + str(index + 1) + '/' + str(max_count)\n",
    "        globals()['progreesBar'+str(ind)].value += 1 # signal to increment the progress bar\n",
    "        \n",
    "        "
   ]
  },
  {
   "cell_type": "markdown",
   "id": "2a77a943",
   "metadata": {},
   "source": [
    "### Remove the continium from the entire wavelegth of ideal spectral data "
   ]
  },
  {
   "cell_type": "code",
   "execution_count": 21,
   "id": "0c502e5d",
   "metadata": {},
   "outputs": [],
   "source": [
    "\n",
    "fileListContinumRemoval = []\n",
    "max_count = len(txt_files)\n",
    "\n",
    "if toggleButtonFullPlot.value == 'Yes':\n",
    "    progreesBar = IntProgress(min=0, max=max_count) # instantiate the bar\n",
    "    display(progreesBar) # display the bar\n",
    "    \n",
    "    for index in range(len(txt_files)):\n",
    "        idealReflectance = FolderAndFileProcessing.GetValuesFromFile(txt_files[index], 0, ' ','reflectance')\n",
    "        normalized_idealReflectance = preprocessing.normalize([idealReflectance])[0]\n",
    "        continumRemoved_idealReflectance = sp.convex_hull_removal(normalized_idealReflectance, waveLength)[0]\n",
    "        fileListContinumRemoval.append(continumRemoved_idealReflectance)\n",
    "        #counter = counter + 1\n",
    "        #print('processed ' + str(counter))\n",
    "        progreesBar.style = {'description_width': 'initial'}\n",
    "        progreesBar.description = 'Loading ideal files ' + str(index + 1)\n",
    "        progreesBar.value += 1 # signal to increment the progress bar"
   ]
  },
  {
   "cell_type": "markdown",
   "id": "f51e8510",
   "metadata": {},
   "source": [
    "# Analysis\n",
    "### Taking user data as input and writing the result in similar type of folder structure with weighted output for each input data stored with similar name in an excel file and graph plots stored as png"
   ]
  },
  {
   "cell_type": "code",
   "execution_count": 22,
   "id": "365bcb5b",
   "metadata": {},
   "outputs": [
    {
     "data": {
      "application/vnd.jupyter.widget-view+json": {
       "model_id": "d41b7344df204c839767444f83a5bd4c",
       "version_major": 2,
       "version_minor": 0
      },
      "text/plain": [
       "IntProgress(value=0, max=370)"
      ]
     },
     "metadata": {},
     "output_type": "display_data"
    }
   ],
   "source": [
    "max_countSed = len(sed_files)\n",
    "progreesBarSed = IntProgress(min=0, max=max_countSed) \n",
    "display(progreesBarSed)\n",
    "targetFolderToReplace = '/data'\n",
    "targetFolderNewName = '/SAM_700-1400_15Top'\n",
    "\n",
    "for index in range(len(sed_files)):\n",
    "    totalDict = {}\n",
    "    targetfilename = sed_files[index].replace(targetFolderToReplace, targetFolderNewName).split('/')[-1].replace('.sed','.xlsx')\n",
    "    list_string = sed_files[index].replace(targetFolderToReplace, targetFolderNewName).split('/')[0:-1]\n",
    "    targetPath = '/'.join(list_string) + '/'\n",
    "    testData = FolderAndFileProcessing.GetValuesFromFile(sed_files[index], 26, '\\t','Reflect. [1.0]')\n",
    "    minIndexTemp = 0\n",
    "    maxIndexTemp = 0\n",
    "    for indexRange in range(numberOfFeatureToAnalyze):\n",
    "        minIndexTemp = minIndex[indexRange]\n",
    "        maxIndexTemp = maxIndex[indexRange]\n",
    "        dictMineralValue = SpectraComparision.SAM(txt_files, testData, globals()['fileListContinumRemoval_'+str(indexRange)], waveLength, minIndexTemp, maxIndexTemp)\n",
    "        if len(totalDict) == 0:\n",
    "            totalDict = dict(dictMineralValue)\n",
    "        else:\n",
    "            tempDict = dict(dictMineralValue)\n",
    "            totalDict = FolderAndFileProcessing.combine_dicts(totalDict, tempDict)\n",
    "    totalDict = {k: v / numberOfFeatureToAnalyze for k, v in dict(totalDict).items()}\n",
    "    totalDict = sorted(totalDict.items(), key=lambda x: x[1], reverse=True)\n",
    "    FolderAndFileProcessing.WriteDictToExcel(targetPath, targetfilename, totalDict)\n",
    "    \n",
    "    \n",
    "    if toggleButton.value == 'No Image':\n",
    "        continue\n",
    "    \n",
    "    \n",
    "    if toggleButtonIndividualPlot.value == 'No':\n",
    "        \n",
    "        try:\n",
    "            counterMineral = 0\n",
    "            mineralNameList = [i for i,j in totalDict]\n",
    "            mineralNameListPruned = [i.split(' ')[0] for i in mineralNameList]\n",
    "            #mineralNameListDict = dict.fromkeys(set(mineralNameListPruned), False)\n",
    "            \n",
    "            normalized_spectraValue = preprocessing.normalize([testData])[0]\n",
    "            \n",
    "            minIndexTemp = 0\n",
    "            maxIndexTemp = 0\n",
    "            \n",
    "            for indexRange in range(numberOfFeatureToAnalyze):\n",
    "                minIndexTemp = minIndex[indexRange]\n",
    "                maxIndexTemp = maxIndex[indexRange]\n",
    "                \n",
    "                continumRemoved_spectraValue = sp.convex_hull_removal(normalized_spectraValue[minIndexTemp:maxIndexTemp], waveLength[minIndexTemp:maxIndexTemp])[0]\n",
    "                xaxis = list(range(minWavelength[indexRange].value,maxWavelength[indexRange].value + 1))\n",
    "                fig = plt.figure(figsize=(24, 12))\n",
    "                plt.plot(xaxis, continumRemoved_spectraValue, label = targetfilename.replace('.xlsx',''))\n",
    "                \n",
    "                indexForWhile = 0\n",
    "                counterMineral = 0\n",
    "                mineralNameListDict = dict.fromkeys(set(mineralNameListPruned), False)\n",
    "                while counterMineral < limit:\n",
    "                    mineralName = totalDict[indexForWhile][0]\n",
    "                    \n",
    "                    if mineralNameListDict[mineralName.split(' ')[0]] == False:\n",
    "                        imagePath = list(s for s in txt_files if mineralName.lower() in s.lower())[0]\n",
    "                        signal = globals()['fileListContinumRemoval_'+str(indexRange)][txt_files.index(imagePath)]\n",
    "                        plt.plot(xaxis, signal, label = mineralName)\n",
    "                        mineralNameListDict[mineralName.split(' ')[0]] = True\n",
    "                        counterMineral = counterMineral + 1\n",
    "                    \n",
    "                    indexForWhile = indexForWhile + 1\n",
    "                imageLabelRange = '_' + str(minIndexTemp + 350) + '_' + str(maxIndexTemp + 350 - 1)\n",
    "                plt.legend(loc=\"lower right\")\n",
    "                plt.savefig(sed_files[index].replace(targetFolderToReplace, targetFolderNewName).replace('.sed',imageLabelRange + '.png'), dpi=500)\n",
    "                plt.close()\n",
    "        except:\n",
    "            continue\n",
    "        \n",
    "        if toggleButtonFullPlot.value == 'Yes':\n",
    "            try:\n",
    "                counterMineral = 0\n",
    "                mineralNameList = [i for i,j in totalDict]\n",
    "                mineralNameListPruned = [i.split(' ')[0] for i in mineralNameList]\n",
    "                \n",
    "                normalized_spectraValue = preprocessing.normalize([testData])[0]\n",
    "                continumRemoved_spectraValue = sp.convex_hull_removal(normalized_spectraValue, waveLength)[0]\n",
    "                \n",
    "                \n",
    "                    \n",
    "                fig = plt.figure(figsize=(24, 12))\n",
    "                plt.plot(waveLength, continumRemoved_spectraValue, label = targetfilename.replace('.xlsx',''))\n",
    "                    \n",
    "                indexForWhile = 0\n",
    "                counterMineral = 0\n",
    "                mineralNameListDict = dict.fromkeys(set(mineralNameListPruned), False)\n",
    "                while counterMineral < limit:\n",
    "                    mineralName = totalDict[indexForWhile][0]\n",
    "                    \n",
    "                    if mineralNameListDict[mineralName.split(' ')[0]] == False:\n",
    "                        imagePath = list(s for s in txt_files if mineralName.lower() in s.lower())[0]\n",
    "                        signal = continumRemoved_spectraValue[txt_files.index(imagePath)]\n",
    "                        plt.plot(waveLength, signal, label = mineralName)\n",
    "                        mineralNameListDict[mineralName.split(' ')[0]] = True\n",
    "                        counterMineral = counterMineral + 1\n",
    "                    \n",
    "                    indexForWhile = indexForWhile + 1\n",
    "                imageLabelRange = '_FullPlot'\n",
    "                plt.legend(loc=\"lower right\")\n",
    "                plt.savefig(sed_files[index].replace(targetFolderToReplace, targetFolderNewName).replace('.sed',imageLabelRange + '.png'), dpi=500)\n",
    "                plt.close()\n",
    "            except:\n",
    "                continue\n",
    "            \n",
    "            \n",
    "            \n",
    "            \n",
    "            \n",
    "            \n",
    "        \n",
    "     \n",
    "    \n",
    "    \n",
    "    else:\n",
    "        try:\n",
    "            counterMineral = 0\n",
    "            mineralNameList = [i for i,j in totalDict]\n",
    "            mineralNameListPruned = [i.split(' ')[0] for i in mineralNameList]\n",
    "            #mineralNameListDict = dict.fromkeys(set(mineralNameListPruned), False)\n",
    "        \n",
    "            normalized_spectraValue = preprocessing.normalize([testData[minIndexTemp:maxIndexTemp]])[0]\n",
    "            \n",
    "            minIndexTemp = 0\n",
    "            maxIndexTemp = 0\n",
    "            \n",
    "            for indexRange in range(numberOfFeatureToAnalyze):\n",
    "                minIndexTemp = minIndex[indexRange]\n",
    "                maxIndexTemp = maxIndex[indexRange]\n",
    "                \n",
    "                continumRemoved_spectraValue = sp.convex_hull_removal(normalized_spectraValue, waveLength[minIndexTemp:maxIndexTemp])[0]\n",
    "                #continumRemoved_spectraValue = sp.convex_hull_removal(normalized_spectraValue[minIndexTemp:maxIndexTemp], waveLength[minIndexTemp:maxIndexTemp])[0]\n",
    "                xaxis = list(range(minWavelength[indexRange].value,maxWavelength[indexRange].value + 1))\n",
    "                \n",
    "                indexForWhile = 0\n",
    "                counterMineral = 0\n",
    "                mineralNameListDict = dict.fromkeys(set(mineralNameListPruned), False)\n",
    "                while counterMineral < indidualplotlimit:\n",
    "                    mineralName = totalDict[indexForWhile][0]\n",
    "                    \n",
    "                    if mineralNameListDict[mineralName.split(' ')[0]] == False:\n",
    "                        fig = plt.figure(figsize=(24, 12))\n",
    "                        plt.plot(xaxis, continumRemoved_spectraValue, label = targetfilename.replace('.xlsx',''))\n",
    "                        \n",
    "                        \n",
    "                        imagePath = list(s for s in txt_files if mineralName.lower() in s.lower())[0]\n",
    "                        signal = globals()['fileListContinumRemoval_'+str(indexRange)][txt_files.index(imagePath)]\n",
    "                        signal = sp.convex_hull_removal(signal, waveLength[minIndexTemp:maxIndexTemp])[0]\n",
    "                        plt.plot(xaxis, signal, label = mineralName)\n",
    "                        mineralNameListDict[mineralName.split(' ')[0]] = True\n",
    "                        counterMineral = counterMineral + 1\n",
    "                        \n",
    "                        targertFolderImages = sed_files[index].replace(targetFolderToReplace, targetFolderNewName).replace('.sed','') + '/'\n",
    "                        \n",
    "                        os.makedirs(targertFolderImages, exist_ok=True)\n",
    "                        imageLabelRange = '_' + str(minIndexTemp + 350) + '_' + str(maxIndexTemp + 350 - 1)\n",
    "                        individualImagePath = targertFolderImages + str(counterMineral) + '_' + mineralName.split('_')[0] + imageLabelRange + '.png'\n",
    "                        \n",
    "                        plt.legend(loc=\"lower right\")\n",
    "                        plt.savefig(individualImagePath, dpi=100)\n",
    "                        plt.close()\n",
    "                    \n",
    "                    indexForWhile = indexForWhile + 1\n",
    "        except:\n",
    "            continue\n",
    "            \n",
    "        \n",
    "        if toggleButtonFullPlot.value == 'Yes':\n",
    "            try:\n",
    "                counterMineral = 0\n",
    "                mineralNameList = [i for i,j in totalDict]\n",
    "                mineralNameListPruned = [i.split(' ')[0] for i in mineralNameList]\n",
    "            \n",
    "                normalized_spectraValue = preprocessing.normalize([testData])[0]\n",
    "                continumRemoved_spectraValue = sp.convex_hull_removal(normalized_spectraValue, waveLength)[0]\n",
    "                \n",
    "                \n",
    "                for indexRange in range(numberOfFeatureToAnalyze):\n",
    "                    \n",
    "                    indexForWhile = 0\n",
    "                    counterMineral = 0\n",
    "                    mineralNameListDict = dict.fromkeys(set(mineralNameListPruned), False)\n",
    "                    while counterMineral < indidualplotlimit:\n",
    "                        mineralName = totalDict[indexForWhile][0]\n",
    "                        \n",
    "                        if mineralNameListDict[mineralName.split(' ')[0]] == False:\n",
    "                            fig = plt.figure(figsize=(24, 12))\n",
    "                            plt.plot(waveLength, continumRemoved_spectraValue, label = targetfilename.replace('.xlsx',''))\n",
    "                            \n",
    "                            \n",
    "                            imagePath = list(s for s in txt_files if mineralName.lower() in s.lower())[0]\n",
    "                            signal = fileListContinumRemoval[txt_files.index(imagePath)]\n",
    "                            plt.plot(waveLength, signal, label = mineralName)\n",
    "                            mineralNameListDict[mineralName.split(' ')[0]] = True\n",
    "                            counterMineral = counterMineral + 1\n",
    "                            \n",
    "                            targertFolderImages = sed_files[index].replace(targetFolderToReplace, targetFolderNewName).replace('.sed','') + '/fullWavelength/'\n",
    "                            \n",
    "                            os.makedirs(targertFolderImages, exist_ok=True)\n",
    "                            individualImagePath =  targertFolderImages + str(counterMineral) + '_' + mineralName.split('_')[0] + '.png'\n",
    "                            \n",
    "                            plt.legend(loc=\"lower right\") \n",
    "                            plt.savefig(individualImagePath, dpi=100)\n",
    "                            plt.close()\n",
    "                        \n",
    "                        indexForWhile = indexForWhile + 1\n",
    "            except:\n",
    "                continue\n",
    "             \n",
    "            \n",
    "    progreesBarSed.style = {'description_width': 'initial'}\n",
    "    progreesBarSed.description = 'Processing files ' + str(index + 1)\n",
    "    progreesBarSed.value += 1 # signal to increment the progress bar\n",
    "            "
   ]
  },
  {
   "cell_type": "code",
   "execution_count": null,
   "id": "2acc889c",
   "metadata": {},
   "outputs": [],
   "source": []
  },
  {
   "cell_type": "markdown",
   "id": "92dd7f3d",
   "metadata": {},
   "source": [
    "# Testing Section\n",
    "### Everything below this section is to test new machanism or to check if something goes wrong above"
   ]
  },
  {
   "cell_type": "code",
   "execution_count": 36,
   "id": "6d062add",
   "metadata": {},
   "outputs": [],
   "source": [
    "###sed file declarations\n",
    "testSedPath = \"../testMineral/\"\n",
    "testSed_files = FolderAndFileProcessing.ReadFilePaths(testSedPath,extensionTxt)"
   ]
  },
  {
   "cell_type": "code",
   "execution_count": null,
   "id": "75283689",
   "metadata": {},
   "outputs": [],
   "source": [
    "for index in range(len(testSed_files)):\n",
    "    testData = FolderAndFileProcessing.GetValuesFromFile(testSed_files[index], 0, ' ','reflectance')\n",
    "    dictMineralValue = SpectraComparision.SFF(txt_files, testData,fileListContinumRemoval, waveLength, minIndex, maxIndex)\n",
    "    targetfilename = testSed_files[index].replace('/testMineral','/testDataScoreRemoved').split('/')[-1].replace('.txt','.xlsx')\n",
    "    list_string = testSed_files[index].replace('/testMineral','/testDataScoreRemoved').split('/')[0:-1]\n",
    "    targetPath = '/'.join(list_string) + '/'\n",
    "    FolderAndFileProcessing.WriteDictToExcel(targetPath, targetfilename, dictMineralValue)"
   ]
  },
  {
   "cell_type": "code",
   "execution_count": null,
   "id": "89f7e5ce",
   "metadata": {},
   "outputs": [],
   "source": [
    "for index in range(len(testSed_files)):\n",
    "    testData = FolderAndFileProcessing.GetValuesFromFile(testSed_files[index], 26, '\\t','Reflect. [1.0]')\n",
    "    dictMineralValue = SpectraComparision.CosineSimilarityContinumRemoved(txt_files, testData,fileListContinumRemoval, waveLength, minIndex, maxIndex)\n",
    "    targetfilename = testSed_files[index].replace('/testData','/testDataScoreRemoved').split('/')[-1].replace('.sed','.xlsx')\n",
    "    list_string = testSed_files[index].replace('/testData','/testDataScoreRemoved').split('/')[0:-1]\n",
    "    targetPath = '/'.join(list_string) + '/'\n",
    "    FolderAndFileProcessing.WriteDictToExcel(targetPath, targetfilename, dictMineralValue)"
   ]
  },
  {
   "cell_type": "code",
   "execution_count": null,
   "id": "6afa2194",
   "metadata": {},
   "outputs": [],
   "source": [
    "testSed_files[0]"
   ]
  },
  {
   "cell_type": "code",
   "execution_count": 31,
   "id": "d441ca33",
   "metadata": {},
   "outputs": [],
   "source": [
    "tt = pd.read_csv(testSed_files[0] ,skiprows = 26, sep = '\\t')"
   ]
  },
  {
   "cell_type": "code",
   "execution_count": 32,
   "id": "54ac6002",
   "metadata": {},
   "outputs": [],
   "source": [
    "ww = tt['Reflect. [1.0]']"
   ]
  },
  {
   "cell_type": "code",
   "execution_count": 33,
   "id": "eb797783",
   "metadata": {},
   "outputs": [
    {
     "data": {
      "text/plain": [
       "[<matplotlib.lines.Line2D at 0x7f875e6f2520>]"
      ]
     },
     "execution_count": 33,
     "metadata": {},
     "output_type": "execute_result"
    },
    {
     "data": {
      "image/png": "[encoded data removed]",
      "text/plain": [
       "<Figure size 432x288 with 1 Axes>"
      ]
     },
     "metadata": {
      "needs_background": "light"
     },
     "output_type": "display_data"
    }
   ],
   "source": [
    "plt.plot(ww)"
   ]
  },
  {
   "cell_type": "code",
   "execution_count": 34,
   "id": "da1cd9b0",
   "metadata": {},
   "outputs": [],
   "source": [
    "aa = sp.convex_hull_removal(ww,list(range(350,2501)))"
   ]
  },
  {
   "cell_type": "code",
   "execution_count": 35,
   "id": "5aabb83f",
   "metadata": {},
   "outputs": [
    {
     "data": {
      "text/plain": [
       "[<matplotlib.lines.Line2D at 0x7f875e60fca0>]"
      ]
     },
     "execution_count": 35,
     "metadata": {},
     "output_type": "execute_result"
    },
    {
     "data": {
      "image/png": "[encoded data removed]",
      "text/plain": [
       "<Figure size 432x288 with 1 Axes>"
      ]
     },
     "metadata": {
      "needs_background": "light"
     },
     "output_type": "display_data"
    }
   ],
   "source": [
    "plt.plot(aa[0])"
   ]
  },
  {
   "cell_type": "code",
   "execution_count": null,
   "id": "8a9d0278",
   "metadata": {},
   "outputs": [],
   "source": [
    "plt.plot(fileListContinumRemoval[0])"
   ]
  },
  {
   "cell_type": "code",
   "execution_count": null,
   "id": "bd6efa5e",
   "metadata": {},
   "outputs": [],
   "source": [
    "def compute_similarity(ref_rec,input_rec,weightage=[0.33,0.33,0.33]):\n",
    "    ## Time domain similarity\n",
    "    ref_time = np.correlate(ref_rec,ref_rec)    \n",
    "    inp_time = np.correlate(ref_rec,input_rec)\n",
    "    diff_time = abs(ref_time-inp_time)\n",
    "\n",
    "    ## Freq domain similarity\n",
    "    ref_freq = np.correlate(np.fft.fft(ref_rec),np.fft.fft(ref_rec)) \n",
    "    inp_freq = np.correlate(np.fft.fft(ref_rec),np.fft.fft(input_rec))\n",
    "    diff_freq = abs(ref_freq-inp_freq)\n",
    "\n",
    "    ## Power similarity\n",
    "    ref_power = np.sum(ref_rec**2)\n",
    "    inp_power = np.sum(input_rec**2)\n",
    "    diff_power = abs(ref_power-inp_power)\n",
    "\n",
    "    return float(weightage[0]*diff_time+weightage[1]*diff_freq+weightage[2]*diff_power)"
   ]
  },
  {
   "cell_type": "code",
   "execution_count": null,
   "id": "24d19322",
   "metadata": {},
   "outputs": [],
   "source": [
    "compute_similarity(np.array(fileListContinumRemoval[6]), np.array(aa[0]))"
   ]
  },
  {
   "cell_type": "code",
   "execution_count": null,
   "id": "08ea472f",
   "metadata": {},
   "outputs": [],
   "source": [
    "aa[0]"
   ]
  },
  {
   "cell_type": "code",
   "execution_count": null,
   "id": "3553e964",
   "metadata": {},
   "outputs": [],
   "source": [
    "ref_time"
   ]
  },
  {
   "cell_type": "code",
   "execution_count": null,
   "id": "52882b51",
   "metadata": {},
   "outputs": [],
   "source": [
    "len(minIndex)"
   ]
  },
  {
   "cell_type": "code",
   "execution_count": null,
   "id": "581f5dda",
   "metadata": {},
   "outputs": [],
   "source": []
  }
 ],
 "metadata": {
  "kernelspec": {
   "display_name": "Python 3 (ipykernel)",
   "language": "python",
   "name": "python3"
  },
  "language_info": {
   "codemirror_mode": {
    "name": "ipython",
    "version": 3
   },
   "file_extension": ".py",
   "mimetype": "text/x-python",
   "name": "python",
   "nbconvert_exporter": "python",
   "pygments_lexer": "ipython3",
   "version": "3.8.12"
  }
 },
 "nbformat": 4,
 "nbformat_minor": 5
}
