{
 "cells": [
  {
   "cell_type": "code",
   "execution_count": 16,
   "id": "9d303b1b",
   "metadata": {},
   "outputs": [],
   "source": [
    "import numpy as np\n",
    "import pandas as pd\n",
    "import matplotlib.pyplot as plt\n",
    "import scipy\n",
    "from scipy import signal\n",
    "import os\n",
    "import glob\n",
    "from sklearn import preprocessing\n",
    "from pysptools import spectro as sp\n",
    "from IPython.display import display\n",
    "import ipywidgets as widgets\n",
    "from math import*\n",
    "import peakutils\n",
    "import rampy as rp"
   ]
  },
  {
   "cell_type": "code",
   "execution_count": 30,
   "id": "5f7e8cf2",
   "metadata": {},
   "outputs": [
    {
     "name": "stderr",
     "output_type": "stream",
     "text": [
      "/Users/ankit/opt/anaconda3/lib/python3.8/site-packages/pandas/util/_decorators.py:311: ParserWarning: Falling back to the 'python' engine because the 'c' engine does not support regex separators (separators > 1 char and different from '\\s+' are interpreted as regex); you can avoid this warning by specifying engine='python'.\n",
      "  return func(*args, **kwargs)\n"
     ]
    },
    {
     "data": {
      "text/html": [
       "<div>\n",
       "<style scoped>\n",
       "    .dataframe tbody tr th:only-of-type {\n",
       "        vertical-align: middle;\n",
       "    }\n",
       "\n",
       "    .dataframe tbody tr th {\n",
       "        vertical-align: top;\n",
       "    }\n",
       "\n",
       "    .dataframe thead th {\n",
       "        text-align: right;\n",
       "    }\n",
       "</style>\n",
       "<table border=\"1\" class=\"dataframe\">\n",
       "  <thead>\n",
       "    <tr style=\"text-align: right;\">\n",
       "      <th></th>\n",
       "      <th>0</th>\n",
       "      <th>1</th>\n",
       "      <th>2</th>\n",
       "    </tr>\n",
       "  </thead>\n",
       "  <tbody>\n",
       "    <tr>\n",
       "      <th>0</th>\n",
       "      <td>2.079480</td>\n",
       "      <td>0.315865</td>\n",
       "      <td>0.517816</td>\n",
       "    </tr>\n",
       "    <tr>\n",
       "      <th>1</th>\n",
       "      <td>2.080320</td>\n",
       "      <td>0.315796</td>\n",
       "      <td>0.517862</td>\n",
       "    </tr>\n",
       "    <tr>\n",
       "      <th>2</th>\n",
       "      <td>2.081150</td>\n",
       "      <td>0.315818</td>\n",
       "      <td>0.518006</td>\n",
       "    </tr>\n",
       "    <tr>\n",
       "      <th>3</th>\n",
       "      <td>2.081990</td>\n",
       "      <td>0.315742</td>\n",
       "      <td>0.518229</td>\n",
       "    </tr>\n",
       "    <tr>\n",
       "      <th>4</th>\n",
       "      <td>2.082830</td>\n",
       "      <td>0.315502</td>\n",
       "      <td>0.518363</td>\n",
       "    </tr>\n",
       "    <tr>\n",
       "      <th>...</th>\n",
       "      <td>...</td>\n",
       "      <td>...</td>\n",
       "      <td>...</td>\n",
       "    </tr>\n",
       "    <tr>\n",
       "      <th>2282</th>\n",
       "      <td>24.569420</td>\n",
       "      <td>0.036933</td>\n",
       "      <td>0.030219</td>\n",
       "    </tr>\n",
       "    <tr>\n",
       "      <th>2283</th>\n",
       "      <td>24.686420</td>\n",
       "      <td>0.033442</td>\n",
       "      <td>0.040512</td>\n",
       "    </tr>\n",
       "    <tr>\n",
       "      <th>2284</th>\n",
       "      <td>24.804541</td>\n",
       "      <td>0.028722</td>\n",
       "      <td>0.054419</td>\n",
       "    </tr>\n",
       "    <tr>\n",
       "      <th>2285</th>\n",
       "      <td>24.923800</td>\n",
       "      <td>0.042052</td>\n",
       "      <td>0.058723</td>\n",
       "    </tr>\n",
       "    <tr>\n",
       "      <th>2286</th>\n",
       "      <td>25.044201</td>\n",
       "      <td>0.048541</td>\n",
       "      <td>0.053722</td>\n",
       "    </tr>\n",
       "  </tbody>\n",
       "</table>\n",
       "<p>2287 rows × 3 columns</p>\n",
       "</div>"
      ],
      "text/plain": [
       "              0         1         2\n",
       "0      2.079480  0.315865  0.517816\n",
       "1      2.080320  0.315796  0.517862\n",
       "2      2.081150  0.315818  0.518006\n",
       "3      2.081990  0.315742  0.518229\n",
       "4      2.082830  0.315502  0.518363\n",
       "...         ...       ...       ...\n",
       "2282  24.569420  0.036933  0.030219\n",
       "2283  24.686420  0.033442  0.040512\n",
       "2284  24.804541  0.028722  0.054419\n",
       "2285  24.923800  0.042052  0.058723\n",
       "2286  25.044201  0.048541  0.053722\n",
       "\n",
       "[2287 rows x 3 columns]"
      ]
     },
     "execution_count": 30,
     "metadata": {},
     "output_type": "execute_result"
    }
   ],
   "source": [
    "#path = \"../data/vulcano/MIR/vulcanello_valley_samplesMBaque_MIR.res.txt\"\n",
    "#pd.read_csv(path, skiprows = 12, sep = '  ', header = None)\n",
    "pd.read_csv(path, skiprows = 4, sep = '  ', header = None)"
   ]
  },
  {
   "cell_type": "code",
   "execution_count": 31,
   "id": "2cfdce13",
   "metadata": {},
   "outputs": [
    {
     "name": "stderr",
     "output_type": "stream",
     "text": [
      "/Users/ankit/opt/anaconda3/lib/python3.8/site-packages/pandas/util/_decorators.py:311: ParserWarning: Falling back to the 'python' engine because the 'c' engine does not support regex separators (separators > 1 char and different from '\\s+' are interpreted as regex); you can avoid this warning by specifying engine='python'.\n",
      "  return func(*args, **kwargs)\n"
     ]
    },
    {
     "data": {
      "text/plain": [
       "3"
      ]
     },
     "execution_count": 31,
     "metadata": {},
     "output_type": "execute_result"
    }
   ],
   "source": [
    "path = \"../data/vulcano/MIR/astrobay_samplesMBaque_MIR.res.txt\"\n",
    "\n",
    "\n",
    "temp = pd.read_csv(path, skiprows = 12, sep = '  ', header = None)\n",
    "newList = []\n",
    "x_old = temp[0] * 1000\n",
    "#newList.append(temp[1])\n",
    "#newList.append(temp[2])\n",
    "#x_old\n",
    "temp.shape[1]"
   ]
  },
  {
   "cell_type": "code",
   "execution_count": 32,
   "id": "2b415049",
   "metadata": {},
   "outputs": [],
   "source": [
    "for index in range(temp.shape[1]):\n",
    "    if index == 0:\n",
    "        continue\n",
    "    else:\n",
    "        newList.append(temp[index])"
   ]
  },
  {
   "cell_type": "code",
   "execution_count": 33,
   "id": "0ba4581e",
   "metadata": {},
   "outputs": [],
   "source": [
    "#for index in range(len(txt_files)):\n",
    "#    if txt_files[index].find('_NIC4') > 0 :\n",
    "#        newList.append(txt_files[index])\n",
    "    #envi = pd.read_fwf(txt_files[index], skiprows = 1, header = None)"
   ]
  },
  {
   "cell_type": "code",
   "execution_count": 34,
   "id": "1e6fc483",
   "metadata": {},
   "outputs": [],
   "source": [
    "for index in range(len(newList)):\n",
    "    #normalized_spectraValue = preprocessing.normalize([newList[index]])[0]\n",
    "    normalized_spectraValue = newList[index]\n",
    "    x_new = np.arange(2080, 25000., 1.)\n",
    "    y_new = rp.resample(x_old, normalized_spectraValue, x_new, fill_value=\"extrapolate\")\n",
    "    mir = pd.DataFrame(x_new)\n",
    "    mir[1] = y_new\n",
    "    mir.columns = ['wave','reflectance']\n",
    "    mir.to_csv(\"../example/astrobay_small_samples_MIR.res_\"+ str(index) +\".txt\", index=None, sep=' ')"
   ]
  },
  {
   "cell_type": "code",
   "execution_count": 55,
   "id": "4709cccf",
   "metadata": {},
   "outputs": [
    {
     "data": {
      "text/plain": [
       "0      -1.230000e+34\n",
       "1      -1.230000e+34\n",
       "2      -1.230000e+34\n",
       "3      -1.230000e+34\n",
       "4      -1.230000e+34\n",
       "            ...     \n",
       "4590   -1.230000e+34\n",
       "4591   -1.230000e+34\n",
       "4592   -1.230000e+34\n",
       "4593   -1.230000e+34\n",
       "4594   -1.230000e+34\n",
       "Name: 0, Length: 4595, dtype: float64"
      ]
     },
     "execution_count": 55,
     "metadata": {},
     "output_type": "execute_result"
    }
   ],
   "source": [
    "y = pd.read_csv(newList[45], skiprows = 1, header = None)\n",
    "y[0]"
   ]
  },
  {
   "cell_type": "code",
   "execution_count": 88,
   "id": "c28ebadf",
   "metadata": {},
   "outputs": [],
   "source": [
    "\n",
    "\n",
    "\n",
    "x = pd.read_csv('../data/enviData/MIR/splib07b_Wavelengths_NIC4_Nicolet_1.12-216microns.txt', skiprows = 1, header = None, sep=',')\n",
    "\n",
    "\n",
    "\n",
    "\n"
   ]
  },
  {
   "cell_type": "code",
   "execution_count": 92,
   "id": "a3152531",
   "metadata": {},
   "outputs": [
    {
     "data": {
      "text/plain": [
       "[<matplotlib.lines.Line2D at 0x7fd72e305220>]"
      ]
     },
     "execution_count": 92,
     "metadata": {},
     "output_type": "execute_result"
    },
    {
     "data": {
      "image/png": "[encoded data removed]",
      "text/plain": [
       "<Figure size 432x288 with 1 Axes>"
      ]
     },
     "metadata": {
      "needs_background": "light"
     },
     "output_type": "display_data"
    }
   ],
   "source": [
    "plt.plot(newList[0][0], normalized_spectraValue)"
   ]
  },
  {
   "cell_type": "code",
   "execution_count": 93,
   "id": "0ca1790d",
   "metadata": {},
   "outputs": [
    {
     "data": {
      "text/plain": [
       "0.296728"
      ]
     },
     "execution_count": 93,
     "metadata": {},
     "output_type": "execute_result"
    }
   ],
   "source": [
    "newList"
   ]
  },
  {
   "cell_type": "code",
   "execution_count": null,
   "id": "76477a85",
   "metadata": {},
   "outputs": [],
   "source": []
  }
 ],
 "metadata": {
  "kernelspec": {
   "display_name": "Python 3 (ipykernel)",
   "language": "python",
   "name": "python3"
  },
  "language_info": {
   "codemirror_mode": {
    "name": "ipython",
    "version": 3
   },
   "file_extension": ".py",
   "mimetype": "text/x-python",
   "name": "python",
   "nbconvert_exporter": "python",
   "pygments_lexer": "ipython3",
   "version": "3.8.12"
  }
 },
 "nbformat": 4,
 "nbformat_minor": 5
}
