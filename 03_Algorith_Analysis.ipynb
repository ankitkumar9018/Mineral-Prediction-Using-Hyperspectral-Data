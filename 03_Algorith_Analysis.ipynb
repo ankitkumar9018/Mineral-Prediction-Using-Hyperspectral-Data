{
 "cells": [
  {
   "cell_type": "markdown",
   "id": "fba4423f",
   "metadata": {},
   "source": [
    "# Loading python libraries\n",
    "#### Python is developed under an OSI-approved open source license, making it freely usable and distributable, even for commercial use."
   ]
  },
  {
   "cell_type": "code",
   "execution_count": 1,
   "id": "9d303b1b",
   "metadata": {},
   "outputs": [],
   "source": [
    "import numpy as np\n",
    "import pandas as pd\n",
    "import matplotlib.pyplot as plt\n",
    "import scipy\n",
    "import os\n",
    "import glob\n",
    "from sklearn import preprocessing\n",
    "from pysptools import spectro as sp\n",
    "from pysptools import distance\n",
    "from IPython.display import display\n",
    "import ipywidgets as widgets\n",
    "from math import*\n",
    "from ipywidgets import IntProgress\n",
    "from sklearn.metrics import mean_squared_error, r2_score"
   ]
  },
  {
   "cell_type": "markdown",
   "id": "070b19a6",
   "metadata": {},
   "source": [
    "# Loading Functions\n",
    "\n",
    "* Widegets\n",
    "    * on_value_change_min - this function monitors the change in value of the slider\n",
    "    * on_value_change_max - this function monitors the change in value of the slider\n",
    "* FolderAndFileProcessing\n",
    "    * ReadFilePaths - This function takes input as source folder and file extension and returns the path of all the files inside the folder with the supplied extension\n",
    "    * ReadFile - This functions purpose is to read individual file, it takes file path, rows to skip while reading the file and type of seperation as input\n",
    "    * GetValuesFromFile - This function uses ReadFile read a file and then filters out desired column\n",
    "    * WriteDictToExcel - This function is used to write the output of the analysis to excel file\n",
    "    * combine_dicts - This function is used to combine two dictionaries in python into one dictionary\n",
    "* SpectraComparision(all functions normalizes and removes continum after subsetting the spectral signals)\n",
    "    * SFF - This function takes reference spectra and user input spectrum as input and process the signals using root mean squared algorithm and generates the score table with most probable mineral having the least score\n",
    "    * SAM - This function takes reference spectra and user input spectrum as input and process the signals using root mean squared algorithm and generates the score table with most probable mineral having the least score\n",
    "    * SFF_CrossCorrelation - This function takes reference spectra and user input spectrum as input and process the signals using cross-correlation algorithm and generates the score table with most probable mineral having the highest score(closer to 1) and least probable mineral having the lowest score(closer to -1)\n",
    "    * SpectralInformationDivergence - Computes the spectral information divergence between two vectors."
   ]
  },
  {
   "cell_type": "code",
   "execution_count": 2,
   "id": "ef3566c1",
   "metadata": {},
   "outputs": [],
   "source": [
    "### https://dataaspirant.com/five-most-popular-similarity-measures-implementation-in-python/\n",
    "### https://towardsdatascience.com/four-ways-to-quantify-synchrony-between-time-series-data-b99136c4a9c9\n",
    "\n",
    "class Widegets:\n",
    "    def on_value_change_min(change):\n",
    "        new_min = change['new']\n",
    "        #print(change['name'])\n",
    "        if new_min + 100 > maxWavelength.value:\n",
    "            minWavelength.value = maxWavelength.value - 100\n",
    "\n",
    "    def on_value_change_max(change):\n",
    "        new_max = change['new']\n",
    "        if minWavelength.value > new_max - 100:\n",
    "            maxWavelength.value = minWavelength.value + 100\n",
    "        \n",
    "class FolderAndFileProcessing:\n",
    "    def ReadFilePaths(source, ext):\n",
    "        return glob.glob(source + \"/**/*.\" + ext, recursive = True)\n",
    "    \n",
    "    def ReadFile(file, rowToSkip, seperation):\n",
    "        return pd.read_csv(file ,skiprows = rowToSkip, sep = seperation) \n",
    "    \n",
    "    def GetValuesFromFile(file, rowToSkip, seperation, column):\n",
    "        fileData = FolderAndFileProcessing.ReadFile(file , rowToSkip, seperation)\n",
    "        return fileData[column]\n",
    "    \n",
    "    def WriteDictToExcel(targetPath, filename, dictionary):\n",
    "        df = pd.DataFrame.from_dict(dictionary)\n",
    "        os.makedirs(targetPath, exist_ok=True)\n",
    "        df.to_excel(targetPath+filename)\n",
    "    \n",
    "    def combine_dicts(a, b):\n",
    "        for key in b:\n",
    "            if key in a:\n",
    "                b[key] = b[key] + a[key]\n",
    "        c = {**a, **b}\n",
    "        return c\n",
    "        \n",
    "class SpectraComparision:\n",
    "    \n",
    "    \n",
    "    \n",
    "    def SFF_SAM(fileList, spectraValue, fileListContinumRemoval, waveLength, minIndex, maxIndex, fileListNonContinumRemoval):\n",
    "        mineralScore = {}\n",
    "        normalized_spectraValue = preprocessing.normalize([spectraValue[minIndex:maxIndex]])[0]\n",
    "        try:\n",
    "            continumRemoved_spectraValue = sp.convex_hull_removal(normalized_spectraValue, waveLength[minIndex:maxIndex])[0]\n",
    "        except:\n",
    "            return mineralScore\n",
    "        for index in range(len(fileList)):\n",
    "            continumRemoved_idealReflectance = fileListContinumRemoval[index]\n",
    "            nonContinumRemoved_idealReflectance = fileListNonContinumRemoval[index]\n",
    "            \n",
    "            scoreSam = distance.SAM(normalized_spectraValue, nonContinumRemoved_idealReflectance)\n",
    "            scoreSam = 1 - scoreSam\n",
    "            scoreSFF = distance.NormXCorr(np.array(continumRemoved_spectraValue), np.array(continumRemoved_idealReflectance))\n",
    "            score = scoreSFF + scoreSam\n",
    "            mineralScore[fileList[index].split('/')[-1].replace('_AREF.txt','').replace('.txt','').replace('s07_ASD_','')] = score\n",
    "        mineralScore = sorted(mineralScore.items(), key=lambda x: x[1], reverse=True)\n",
    "        return mineralScore\n",
    "    \n",
    "    def SFF_SAM_BE(fileList, spectraValue, fileListContinumRemoval, waveLength, minIndex, maxIndex, fileListNonContinumRemoval):\n",
    "        mineralScore = {}\n",
    "        normalized_spectraValue = preprocessing.normalize([spectraValue[minIndex:maxIndex]])[0]\n",
    "        \n",
    "        normalized_spectraValueBE = np.array(preprocessing.normalize([spectraValue[minIndex:maxIndex]])[0])\n",
    "        normalized_spectraValueBE = normalized_spectraValueBE - normalized_spectraValueBE.mean()\n",
    "        normalized_spectraValueBE = 1*(normalized_spectraValueBE >= 0)\n",
    "        \n",
    "        try:\n",
    "            continumRemoved_spectraValue = sp.convex_hull_removal(normalized_spectraValue, waveLength[minIndex:maxIndex])[0]\n",
    "        except:\n",
    "            return mineralScore\n",
    "        for index in range(len(fileList)):\n",
    "            continumRemoved_idealReflectance = fileListContinumRemoval[index]\n",
    "            nonContinumRemoved_idealReflectance = fileListNonContinumRemoval[index]\n",
    "            \n",
    "            scoreSam = distance.SAM(normalized_spectraValue, nonContinumRemoved_idealReflectance)\n",
    "            scoreSam = 1 - scoreSam\n",
    "            scoreSFF = distance.NormXCorr(np.array(continumRemoved_spectraValue), np.array(continumRemoved_idealReflectance))\n",
    "            \n",
    "            noncontinumRemoved_idealReflectanceBE = np.array(fileListNonContinumRemoval[index])\n",
    "            noncontinumRemoved_idealReflectanceBE = noncontinumRemoved_idealReflectanceBE - noncontinumRemoved_idealReflectanceBE.mean()\n",
    "            noncontinumRemoved_idealReflectanceBE = 1*(noncontinumRemoved_idealReflectanceBE >= 0)\n",
    "            \n",
    "            scoreBE = 1*(normalized_spectraValueBE != noncontinumRemoved_idealReflectanceBE)\n",
    "            scoreBE = scoreBE.mean()\n",
    "            scoreBE = 1 - scoreBE\n",
    "            \n",
    "            \n",
    "            score = scoreSFF + scoreSam + scoreBE\n",
    "            mineralScore[fileList[index].split('/')[-1].replace('_AREF.txt','').replace('.txt','').replace('s07_ASD_','')] = score\n",
    "        mineralScore = sorted(mineralScore.items(), key=lambda x: x[1], reverse=True)\n",
    "        return mineralScore\n",
    "    \n",
    "    def CombinedAlgorithmsResult(fileList, spectraValue, fileListContinumRemoval, waveLength, minIndex, maxIndex, fileListNonContinumRemoval):\n",
    "        mineralScore = {}\n",
    "        normalized_spectraValue = preprocessing.normalize([spectraValue[minIndex:maxIndex]])[0]\n",
    "        try:\n",
    "            continumRemoved_spectraValue = sp.convex_hull_removal(normalized_spectraValue, waveLength[minIndex:maxIndex])[0]\n",
    "        except:\n",
    "            return mineralScore\n",
    "        for index in range(len(fileList)):\n",
    "            continumRemoved_idealReflectance = fileListContinumRemoval[index]\n",
    "            nonContinumRemoved_idealReflectance = fileListNonContinumRemoval[index]\n",
    "            \n",
    "            scoreSam = distance.SAM(normalized_spectraValue, nonContinumRemoved_idealReflectance)\n",
    "            scoreSam = 1 - scoreSam\n",
    "            \n",
    "            scoreSFF = distance.NormXCorr(np.array(continumRemoved_spectraValue), np.array(continumRemoved_idealReflectance))\n",
    "            \n",
    "            \n",
    "            scoreSID = distance.SID(normalized_spectraValue, nonContinumRemoved_idealReflectance)\n",
    "            scoreSID = 1 - scoreSID\n",
    "            \n",
    "            \n",
    "            score = scoreSFF + scoreSam + scoreSID\n",
    "            \n",
    "            \n",
    "            mineralScore[fileList[index].split('/')[-1].replace('_AREF.txt','').replace('.txt','').replace('s07_ASD_','')] = score\n",
    "        mineralScore = sorted(mineralScore.items(), key=lambda x: x[1], reverse=True)\n",
    "        return mineralScore\n",
    "    \n",
    "    def BinaryEncoding(fileList, spectraValue, fileListContinumRemoval, waveLength, minIndex, maxIndex):\n",
    "        \n",
    "        mineralScore = {}\n",
    "        normalized_spectraValue = np.array(preprocessing.normalize([spectraValue[minIndex:maxIndex]])[0])\n",
    "        normalized_spectraValue = normalized_spectraValue - normalized_spectraValue.mean()\n",
    "        normalized_spectraValue = 1*(normalized_spectraValue >= 0)\n",
    "\n",
    "        for index in range(len(fileList)):\n",
    "            continumRemoved_idealReflectance = np.array(fileListContinumRemoval[index])\n",
    "            continumRemoved_idealReflectance = continumRemoved_idealReflectance - continumRemoved_idealReflectance.mean()\n",
    "            continumRemoved_idealReflectance = 1*(continumRemoved_idealReflectance >= 0)\n",
    "            \n",
    "            score = 1*(normalized_spectraValue != continumRemoved_idealReflectance)\n",
    "            score = score.mean()\n",
    "            score = 1 - score\n",
    "            mineralScore[fileList[index].split('/')[-1].replace('_AREF.txt','').replace('.txt','').replace('s07_ASD_','')] = score\n",
    "        mineralScore = sorted(mineralScore.items(), key=lambda x: x[1], reverse=True)\n",
    "        return mineralScore\n",
    "    \n",
    "    \n",
    "    def SFF_CrossCorrelation(fileList, spectraValue, fileListContinumRemoval, waveLength, minIndex, maxIndex):\n",
    "        mineralScore = {}\n",
    "        normalized_spectraValue = preprocessing.normalize([spectraValue])[0]\n",
    "        try:\n",
    "            continumRemoved_spectraValue = sp.convex_hull_removal(normalized_spectraValue[minIndex:maxIndex], waveLength[minIndex:maxIndex])[0]\n",
    "        except:\n",
    "            return mineralScore\n",
    "        for index in range(len(fileList)):\n",
    "            continumRemoved_idealReflectance = fileListContinumRemoval[index]\n",
    "            result = np.corrcoef(continumRemoved_spectraValue, continumRemoved_idealReflectance)\n",
    "            score = result[0, 1]\n",
    "            mineralScore[fileList[index].split('/')[-1].replace('_AREF.txt','').replace('.txt','').replace('s07_ASD_','')] = score\n",
    "        mineralScore = sorted(mineralScore.items(), key=lambda x: x[1], reverse=True)\n",
    "        return mineralScore\n",
    "    \n",
    "    def SFF(fileList, spectraValue, fileListContinumRemoval, waveLength, minIndex, maxIndex):\n",
    "        mineralScore = {}\n",
    "        normalized_spectraValue = preprocessing.normalize([spectraValue[minIndex:maxIndex]])[0]\n",
    "        try:\n",
    "            continumRemoved_spectraValue = sp.convex_hull_removal(normalized_spectraValue, waveLength[minIndex:maxIndex])[0]\n",
    "        except:\n",
    "            return mineralScore\n",
    "        for index in range(len(fileList)):\n",
    "            continumRemoved_idealReflectance = fileListContinumRemoval[index]\n",
    "            score = distance.NormXCorr(np.array(continumRemoved_spectraValue), np.array(continumRemoved_idealReflectance))\n",
    "            mineralScore[fileList[index].split('/')[-1].replace('_AREF.txt','').replace('.txt','').replace('s07_ASD_','')] = score\n",
    "        mineralScore = sorted(mineralScore.items(), key=lambda x: x[1], reverse=True)\n",
    "        return mineralScore\n",
    "    \n",
    "    def RMS(fileList, spectraValue, fileListContinumRemoval, waveLength, minIndex, maxIndex):\n",
    "        mineralScore = {}\n",
    "        normalized_spectraValue = preprocessing.normalize([spectraValue[minIndex:maxIndex]])[0]\n",
    "        try:\n",
    "            continumRemoved_spectraValue = sp.convex_hull_removal(normalized_spectraValue, waveLength[minIndex:maxIndex])[0]\n",
    "        except:\n",
    "            return mineralScore\n",
    "        for index in range(len(fileList)):\n",
    "            continumRemoved_idealReflectance = fileListContinumRemoval[index]\n",
    "            #result = np.array(continumRemoved_spectraValue) - np.array(continumRemoved_idealReflectance)\n",
    "            score = mean_squared_error(np.array(continumRemoved_spectraValue), np.array(continumRemoved_idealReflectance), squared=False)\n",
    "            score = 1 - score\n",
    "            mineralScore[fileList[index].split('/')[-1].replace('_AREF.txt','').replace('.txt','').replace('s07_ASD_','')] = score\n",
    "        mineralScore = sorted(mineralScore.items(), key=lambda x: x[1], reverse=True)\n",
    "        return mineralScore\n",
    "    \n",
    "    def SFF_MeanSquareRoot(fileList, spectraValue, fileListContinumRemoval, waveLength, minIndex, maxIndex):\n",
    "        mineralScore = {}\n",
    "        normalized_spectraValue = preprocessing.normalize([spectraValue[minIndex:maxIndex]])[0]\n",
    "        try:\n",
    "            continumRemoved_spectraValue = sp.convex_hull_removal(normalized_spectraValue, waveLength[minIndex:maxIndex])[0]\n",
    "        except:\n",
    "            return mineralScore\n",
    "        for index in range(len(fileList)):\n",
    "            continumRemoved_idealReflectance = fileListContinumRemoval[index]\n",
    "            result = np.array(continumRemoved_spectraValue) - np.array(continumRemoved_idealReflectance)\n",
    "            score = np.sqrt(np.mean(result**2))\n",
    "            score = 1 - score\n",
    "            mineralScore[fileList[index].split('/')[-1].replace('_AREF.txt','').replace('.txt','').replace('s07_ASD_','')] = score\n",
    "        mineralScore = sorted(mineralScore.items(), key=lambda x: x[1], reverse=True)\n",
    "        return mineralScore\n",
    "    \n",
    "    def CosineSimilarityContinumRemoved(fileList, spectraValue, fileListContinumRemoval, waveLength, minIndex, maxIndex):\n",
    "        mineralScore = {}\n",
    "        normalized_spectraValue = preprocessing.normalize([spectraValue[minIndex:maxIndex]])[0]\n",
    "\n",
    "        for index in range(len(fileList)):\n",
    "            continumRemoved_idealReflectance = fileListContinumRemoval[index]\n",
    "            score = SpectraComparision.cosine_similarity(normalized_spectraValue, continumRemoved_idealReflectance)\n",
    "            mineralScore[fileList[index].split('/')[-1].replace('_AREF.txt','').replace('.txt','').replace('s07_ASD_','')] = score\n",
    "        mineralScore = sorted(mineralScore.items(), key=lambda x: x[1], reverse=True)\n",
    "        return mineralScore\n",
    "    \n",
    "    def computeSimilarityContinumRemoved(fileList, spectraValue, fileListContinumRemoval, waveLength, minIndex, maxIndex):\n",
    "        mineralScore = {}\n",
    "        normalized_spectraValue = preprocessing.normalize([spectraValue])[0]\n",
    "        try:\n",
    "            continumRemoved_spectraValue = sp.convex_hull_removal(normalized_spectraValue[minIndex:maxIndex], waveLength[minIndex:maxIndex])[0]\n",
    "        except:\n",
    "            return mineralScore\n",
    "        for index in range(len(fileList)):\n",
    "            continumRemoved_idealReflectance = fileListContinumRemoval[index]\n",
    "            score = SpectraComparision.compute_similarity(continumRemoved_spectraValue, continumRemoved_idealReflectance)\n",
    "            mineralScore[fileList[index].split('/')[-1].replace('_AREF.txt','').replace('.txt','').replace('s07_ASD_','')] = score\n",
    "        mineralScore = sorted(mineralScore.items(), key=lambda x: x[1], reverse=True)\n",
    "        return mineralScore\n",
    "    \n",
    "    def SAM(fileList, spectraValue, fileListContinumRemoval, waveLength, minIndex, maxIndex):\n",
    "        mineralScore = {}\n",
    "        normalized_spectraValue = preprocessing.normalize([spectraValue[minIndex:maxIndex]])[0]\n",
    "\n",
    "        for index in range(len(fileList)):\n",
    "            continumRemoved_idealReflectance = fileListContinumRemoval[index]\n",
    "            score = distance.SAM(normalized_spectraValue, continumRemoved_idealReflectance)\n",
    "            score = 1 - score\n",
    "            mineralScore[fileList[index].split('/')[-1].replace('_AREF.txt','').replace('.txt','').replace('s07_ASD_','')] = score\n",
    "        mineralScore = sorted(mineralScore.items(), key=lambda x: x[1], reverse=True)\n",
    "        return mineralScore\n",
    "\n",
    "    def chebyshev(fileList, spectraValue, fileListContinumRemoval, waveLength, minIndex, maxIndex):\n",
    "        mineralScore = {}\n",
    "        normalized_spectraValue = preprocessing.normalize([spectraValue[minIndex:maxIndex]])[0]\n",
    "        \n",
    "        for index in range(len(fileList)):\n",
    "            continumRemoved_idealReflectance = fileListContinumRemoval[index]\n",
    "            score = distance.chebyshev(np.array(normalized_spectraValue), np.array(continumRemoved_idealReflectance))\n",
    "            score = 1 - score\n",
    "            mineralScore[fileList[index].split('/')[-1].replace('_AREF.txt','').replace('.txt','').replace('s07_ASD_','')] = score\n",
    "        mineralScore = sorted(mineralScore.items(), key=lambda x: x[1])\n",
    "        return mineralScore\n",
    "\n",
    "    def SpectralInformationDivergence(fileList, spectraValue, fileListContinumRemoval, waveLength, minIndex, maxIndex):\n",
    "        mineralScore = {}\n",
    "        normalized_spectraValue = preprocessing.normalize([spectraValue[minIndex:maxIndex]])[0]\n",
    "\n",
    "        for index in range(len(fileList)):\n",
    "            continumRemoved_idealReflectance = fileListContinumRemoval[index]\n",
    "            score = distance.SID(normalized_spectraValue, continumRemoved_idealReflectance)\n",
    "            score = 1 - score\n",
    "            mineralScore[fileList[index].split('/')[-1].replace('_AREF.txt','').replace('.txt','').replace('s07_ASD_','')] = score\n",
    "        mineralScore = sorted(mineralScore.items(), key=lambda x: x[1], reverse=True)\n",
    "        return mineralScore\n",
    "    \n",
    "    def compute_similarity(ref_rec,input_rec,weightage=[0.33,0.33,0.33]):\n",
    "        ref_rec = np.array(ref_rec)\n",
    "        input_rec = np.array(input_rec)\n",
    "        ## Time domain similarity\n",
    "        ref_time = np.correlate(ref_rec,ref_rec)    \n",
    "        inp_time = np.correlate(ref_rec,input_rec)\n",
    "        diff_time = abs(ref_time-inp_time)\n",
    "\n",
    "        ## Freq domain similarity\n",
    "        ref_freq = np.correlate(np.fft.fft(ref_rec),np.fft.fft(ref_rec)) \n",
    "        inp_freq = np.correlate(np.fft.fft(ref_rec),np.fft.fft(input_rec))\n",
    "        diff_freq = abs(ref_freq-inp_freq)\n",
    "\n",
    "        ## Power similarity\n",
    "        ref_power = np.sum(ref_rec**2)\n",
    "        inp_power = np.sum(input_rec**2)\n",
    "        diff_power = abs(ref_power-inp_power)\n",
    "        \n",
    "        return float(weightage[0]*diff_time+weightage[1]*diff_freq+weightage[2]*diff_power)\n",
    "    \n",
    "\n",
    "    \n",
    "    def square_rooted(x):\n",
    "        return round(sqrt(sum([a*a for a in x])),3)\n",
    " \n",
    "    def cosine_similarity(x,y):\n",
    "        numerator = sum(a*b for a,b in zip(x,y))\n",
    "        denominator = SpectraComparision.square_rooted(x)* SpectraComparision.square_rooted(y)\n",
    "        #return round(numerator/float(denominator),3)\n",
    "        return numerator/float(denominator)\n",
    "    "
   ]
  },
  {
   "cell_type": "markdown",
   "id": "49bd9a47",
   "metadata": {},
   "source": [
    "### Variable Declarations"
   ]
  },
  {
   "cell_type": "code",
   "execution_count": 3,
   "id": "ab966d87",
   "metadata": {},
   "outputs": [
    {
     "name": "stdout",
     "output_type": "stream",
     "text": [
      "Enter the totlal number of features you want to anaylze: 1\n"
     ]
    }
   ],
   "source": [
    "##txt file declarations\n",
    "#txtPath = \"../data/enviData/cleanFolder/\"\n",
    "txtPath = \"../data/enviData/ENVIFilesUsgsProcessed/\"\n",
    "extensionTxt= 'txt'\n",
    "indidualplotlimit = 20\n",
    "limit = 6\n",
    "\n",
    "###sed file declarations\n",
    "#sedPath = \"../data/vulcano/16062019/astrobay/Astrobay spot 2/\"\n",
    "#sedPath = \"../data/vulcano/16062019/volcanello/spot13/\"\n",
    "sedPath = \"../data/enviData/algorithmPredictionDataProcessed/\"\n",
    "extensionSed= 'txt'\n",
    "\n",
    "minWavelength = []\n",
    "maxWavelength = []\n",
    "\n",
    "minIndex = []\n",
    "maxIndex = []\n",
    "\n",
    "\n",
    "numberOfFeatureToAnalyze = int(input(\"Enter the totlal number of features you want to anaylze: \"))\n"
   ]
  },
  {
   "cell_type": "code",
   "execution_count": 36,
   "id": "a7580532",
   "metadata": {},
   "outputs": [],
   "source": [
    "#indidualplotlimit = 20"
   ]
  },
  {
   "cell_type": "markdown",
   "id": "a90f10ff",
   "metadata": {},
   "source": [
    "# Image Selection\n",
    "### Select if you want to plot graph or not"
   ]
  },
  {
   "cell_type": "code",
   "execution_count": 4,
   "id": "c30016aa",
   "metadata": {},
   "outputs": [],
   "source": [
    "toggleButton = widgets.ToggleButtons(\n",
    "    options=['No Image', 'Image'],\n",
    "    description='Select:',\n",
    "    disabled=False,\n",
    "    button_style='', # 'success', 'info', 'warning', 'danger' or ''\n",
    "    tooltips=['Generates only excel file', 'Generates excel files with graph plots'],\n",
    "#    icons=['check'] * 3\n",
    ")\n",
    "#toggleButton.observe(Widegets.on_value_change_toggle, names='value')"
   ]
  },
  {
   "cell_type": "code",
   "execution_count": 6,
   "id": "1781197d",
   "metadata": {},
   "outputs": [
    {
     "data": {
      "application/vnd.jupyter.widget-view+json": {
       "model_id": "8aef3b5dfaa145d7bf08b8a0fe5b08c8",
       "version_major": 2,
       "version_minor": 0
      },
      "text/plain": [
       "ToggleButtons(description='Select:', index=1, options=('No Image', 'Image'), tooltips=('Generates only excel f…"
      ]
     },
     "metadata": {},
     "output_type": "display_data"
    }
   ],
   "source": [
    "display(toggleButton)"
   ]
  },
  {
   "cell_type": "code",
   "execution_count": null,
   "id": "8311287e",
   "metadata": {},
   "outputs": [],
   "source": []
  },
  {
   "cell_type": "markdown",
   "id": "ecb10c33",
   "metadata": {},
   "source": [
    "# Full Plot\n",
    "### Select if you want to plot graph for the entire spectral range"
   ]
  },
  {
   "cell_type": "code",
   "execution_count": 7,
   "id": "4a30f054",
   "metadata": {},
   "outputs": [],
   "source": [
    "toggleButtonFullPlot = widgets.ToggleButtons(\n",
    "    options=['Yes', 'No'],\n",
    "    description='Select:',\n",
    "    disabled=False,\n",
    "    button_style='', # 'success', 'info', 'warning', 'danger' or ''\n",
    "    tooltips=['Also Generates Full plot', 'Only generates plot of selected region'],\n",
    "#    icons=['check'] * 3\n",
    ")"
   ]
  },
  {
   "cell_type": "code",
   "execution_count": 9,
   "id": "18e71a71",
   "metadata": {},
   "outputs": [
    {
     "data": {
      "application/vnd.jupyter.widget-view+json": {
       "model_id": "3c0235300768422088f91404c149f0e4",
       "version_major": 2,
       "version_minor": 0
      },
      "text/plain": [
       "ToggleButtons(description='Select:', index=1, options=('Yes', 'No'), tooltips=('Also Generates Full plot', 'On…"
      ]
     },
     "metadata": {},
     "output_type": "display_data"
    }
   ],
   "source": [
    "display(toggleButtonFullPlot)"
   ]
  },
  {
   "cell_type": "markdown",
   "id": "b539ee2a",
   "metadata": {},
   "source": [
    "# Individual plots\n",
    "### Select if you want to plot the graph for all the minerals together or each probale output as sepererate graph plot"
   ]
  },
  {
   "cell_type": "code",
   "execution_count": 10,
   "id": "be759864",
   "metadata": {},
   "outputs": [],
   "source": [
    "toggleButtonIndividualPlot = widgets.ToggleButtons(\n",
    "    options=['Yes', 'No'],\n",
    "    description='Select:',\n",
    "    disabled=False,\n",
    "    button_style='', # 'success', 'info', 'warning', 'danger' or ''\n",
    "    tooltips=['Generates Individual plots', 'Generates Combined Plots'],\n",
    "#    icons=['check'] * 3\n",
    ")"
   ]
  },
  {
   "cell_type": "code",
   "execution_count": 11,
   "id": "f9b851b2",
   "metadata": {},
   "outputs": [
    {
     "data": {
      "application/vnd.jupyter.widget-view+json": {
       "model_id": "5c763f0947c44c38af7061048f1f144b",
       "version_major": 2,
       "version_minor": 0
      },
      "text/plain": [
       "ToggleButtons(description='Select:', options=('Yes', 'No'), tooltips=('Generates Individual plots', 'Generates…"
      ]
     },
     "metadata": {},
     "output_type": "display_data"
    }
   ],
   "source": [
    "display(toggleButtonIndividualPlot)"
   ]
  },
  {
   "cell_type": "markdown",
   "id": "c61fe713",
   "metadata": {},
   "source": [
    "# Histogram Plots\n",
    "### Select if you want to plot the Histogram"
   ]
  },
  {
   "cell_type": "code",
   "execution_count": 12,
   "id": "6a64f382",
   "metadata": {},
   "outputs": [],
   "source": [
    "toggleButtonHistogram = widgets.ToggleButtons(\n",
    "    options=['Yes', 'No'],\n",
    "    description='Select:',\n",
    "    disabled=False,\n",
    "    button_style='', # 'success', 'info', 'warning', 'danger' or ''\n",
    "    tooltips=['Generates Individual plots', 'Generates Combined Plots'],\n",
    "#    icons=['check'] * 3\n",
    ")"
   ]
  },
  {
   "cell_type": "code",
   "execution_count": 14,
   "id": "e7a369c7",
   "metadata": {},
   "outputs": [
    {
     "data": {
      "application/vnd.jupyter.widget-view+json": {
       "model_id": "25c54bbfa8874570b9807fb48d83b698",
       "version_major": 2,
       "version_minor": 0
      },
      "text/plain": [
       "ToggleButtons(description='Select:', index=1, options=('Yes', 'No'), tooltips=('Generates Individual plots', '…"
      ]
     },
     "metadata": {},
     "output_type": "display_data"
    }
   ],
   "source": [
    "display(toggleButtonHistogram)"
   ]
  },
  {
   "cell_type": "markdown",
   "id": "6515c8d1",
   "metadata": {},
   "source": [
    "# Declaring dynamic functions\n",
    "### Creating dynamic functions so the code if more adaptable and not hardcoded"
   ]
  },
  {
   "cell_type": "code",
   "execution_count": 191,
   "id": "fa70d8ca",
   "metadata": {},
   "outputs": [],
   "source": [
    "for i in range(numberOfFeatureToAnalyze):\n",
    "    exec(f\"\"\"def on_value_change_min_{i}(change): \n",
    "         new_min = change['new']\n",
    "         if new_min + 100 > maxWavelength[{i}].value:\n",
    "             minWavelength[{i}].value = maxWavelength[{i}].value - 100\"\"\")\n",
    "    \n",
    "    exec(f\"\"\"def on_value_change_max_{i}(change): \n",
    "         new_max = change['new']\n",
    "         if minWavelength[{i}].value > new_max - 100:\n",
    "             maxWavelength[{i}].value = minWavelength[{i}].value + 100\"\"\")"
   ]
  },
  {
   "cell_type": "code",
   "execution_count": null,
   "id": "0f5a1477",
   "metadata": {},
   "outputs": [],
   "source": []
  },
  {
   "cell_type": "code",
   "execution_count": 192,
   "id": "e10090aa",
   "metadata": {},
   "outputs": [],
   "source": [
    "###Descibing wavelengths\n",
    "for ind in range(numberOfFeatureToAnalyze):\n",
    "    minWavelength.append(widgets.IntSlider(value=350, min=350, max=2500))\n",
    "    maxWavelength.append(widgets.IntSlider(value=2500, min=350, max=2500))\n",
    "    minWavelength[ind].description = 'min wav'\n",
    "    maxWavelength[ind].description = 'max wav'\n",
    "        \n",
    "    minWavelength[ind].observe(globals()['on_value_change_min_'+ str(ind)], names='value')\n",
    "    maxWavelength[ind].observe(globals()['on_value_change_max_'+ str(ind)], names='value')"
   ]
  },
  {
   "cell_type": "markdown",
   "id": "5be077eb",
   "metadata": {},
   "source": [
    "# Select the wavelength range\n",
    "### Select the range to subset the data"
   ]
  },
  {
   "cell_type": "code",
   "execution_count": 193,
   "id": "47ea5fdc",
   "metadata": {},
   "outputs": [
    {
     "name": "stdout",
     "output_type": "stream",
     "text": [
      "feature1\n"
     ]
    },
    {
     "data": {
      "application/vnd.jupyter.widget-view+json": {
       "model_id": "4a52b419de2140a599dca63e1e25ea48",
       "version_major": 2,
       "version_minor": 0
      },
      "text/plain": [
       "IntSlider(value=400, description='min wav', max=2500, min=350)"
      ]
     },
     "metadata": {},
     "output_type": "display_data"
    },
    {
     "data": {
      "application/vnd.jupyter.widget-view+json": {
       "model_id": "dbf14d8dc38b4ce58efcf0f614eb2daf",
       "version_major": 2,
       "version_minor": 0
      },
      "text/plain": [
       "IntSlider(value=750, description='max wav', max=2500, min=350)"
      ]
     },
     "metadata": {},
     "output_type": "display_data"
    }
   ],
   "source": [
    "for ind in range(numberOfFeatureToAnalyze):\n",
    "    print('feature' + str(ind+1))\n",
    "    display(minWavelength[ind], maxWavelength[ind])"
   ]
  },
  {
   "cell_type": "code",
   "execution_count": 194,
   "id": "38620cad",
   "metadata": {},
   "outputs": [],
   "source": [
    "minIndex = []\n",
    "maxIndex = []\n",
    "for ind in range(numberOfFeatureToAnalyze):\n",
    "    minIndex.append(minWavelength[ind].value - 350)\n",
    "    maxIndex.append(maxWavelength[ind].value - 350 + 1)"
   ]
  },
  {
   "cell_type": "code",
   "execution_count": 212,
   "id": "f44b3f53",
   "metadata": {},
   "outputs": [
    {
     "data": {
      "text/plain": [
       "401"
      ]
     },
     "execution_count": 212,
     "metadata": {},
     "output_type": "execute_result"
    }
   ],
   "source": [
    "maxIndex[0]"
   ]
  },
  {
   "cell_type": "markdown",
   "id": "c96be281",
   "metadata": {},
   "source": [
    "# Populating paths\n",
    "### Getting the paths to both reference spectrum and user input spectrum"
   ]
  },
  {
   "cell_type": "code",
   "execution_count": 196,
   "id": "ef81bce4",
   "metadata": {},
   "outputs": [],
   "source": [
    "txt_files = FolderAndFileProcessing.ReadFilePaths(txtPath,extensionTxt)\n",
    "sed_files = FolderAndFileProcessing.ReadFilePaths(sedPath,extensionSed)"
   ]
  },
  {
   "cell_type": "markdown",
   "id": "dc475914",
   "metadata": {},
   "source": [
    "# Defining wavelength range"
   ]
  },
  {
   "cell_type": "code",
   "execution_count": 197,
   "id": "280599f8",
   "metadata": {},
   "outputs": [],
   "source": [
    "waveLength = list(range(350,2501))"
   ]
  },
  {
   "cell_type": "markdown",
   "id": "ac3178d5",
   "metadata": {},
   "source": [
    "# Continium removal after splicing the data\n",
    "### Splice the ideal spectral data and remove the continium"
   ]
  },
  {
   "cell_type": "code",
   "execution_count": 198,
   "id": "cceacbe6",
   "metadata": {},
   "outputs": [
    {
     "data": {
      "application/vnd.jupyter.widget-view+json": {
       "model_id": "b5aaaa18d0634a139e68f7e9b14f581c",
       "version_major": 2,
       "version_minor": 0
      },
      "text/plain": [
       "IntProgress(value=0, max=480)"
      ]
     },
     "metadata": {},
     "output_type": "display_data"
    }
   ],
   "source": [
    "max_count = len(txt_files)\n",
    "for ind in range(numberOfFeatureToAnalyze):\n",
    "    minIndexTemp = minIndex[ind]\n",
    "    maxIndexTemp = maxIndex[ind]\n",
    "    globals()['fileListContinumRemoval_'+str(ind)] = []\n",
    "    globals()['fileListNonContinumRemoval_'+str(ind)] = []\n",
    "    globals()['progreesBar'+str(ind)] = IntProgress(min=0, max=max_count) # instantiate the bar\n",
    "    display(globals()['progreesBar'+str(ind)]) # display the bar\n",
    "\n",
    "    for index in range(len(txt_files)):\n",
    "        idealReflectance = FolderAndFileProcessing.GetValuesFromFile(txt_files[index], 0, ' ','reflectance')\n",
    "        normalized_idealReflectance = preprocessing.normalize([idealReflectance[minIndexTemp:maxIndexTemp]])[0]\n",
    "        continumRemoved_idealReflectance = sp.convex_hull_removal(normalized_idealReflectance, waveLength[minIndexTemp:maxIndexTemp])[0]\n",
    "        globals()['fileListContinumRemoval_'+str(ind)].append(continumRemoved_idealReflectance)\n",
    "        globals()['fileListNonContinumRemoval_'+str(ind)].append(normalized_idealReflectance)\n",
    "        \n",
    "        globals()['progreesBar'+str(ind)].style = {'description_width': 'initial'}\n",
    "        globals()['progreesBar'+str(ind)].description = 'Loading ideal files feature '+ str(ind + 1) + ': ' + str(index + 1) + '/' + str(max_count)\n",
    "        globals()['progreesBar'+str(ind)].value += 1 # signal to increment the progress bar\n",
    "        \n",
    "        "
   ]
  },
  {
   "cell_type": "markdown",
   "id": "2a77a943",
   "metadata": {},
   "source": [
    "### Remove the continium from the entire wavelegth of ideal spectral data "
   ]
  },
  {
   "cell_type": "code",
   "execution_count": 199,
   "id": "0c502e5d",
   "metadata": {},
   "outputs": [],
   "source": [
    "\n",
    "fileListContinumRemoval = []\n",
    "max_count = len(txt_files)\n",
    "\n",
    "if toggleButtonFullPlot.value == 'Yes':\n",
    "    progreesBar = IntProgress(min=0, max=max_count) # instantiate the bar\n",
    "    display(progreesBar) # display the bar\n",
    "    \n",
    "    for index in range(len(txt_files)):\n",
    "        idealReflectance = FolderAndFileProcessing.GetValuesFromFile(txt_files[index], 0, ' ','reflectance')\n",
    "        normalized_idealReflectance = preprocessing.normalize([idealReflectance])[0]\n",
    "        continumRemoved_idealReflectance = sp.convex_hull_removal(normalized_idealReflectance, waveLength)[0]\n",
    "        fileListContinumRemoval.append(continumRemoved_idealReflectance)\n",
    "        #counter = counter + 1\n",
    "        #print('processed ' + str(counter))\n",
    "        progreesBar.style = {'description_width': 'initial'}\n",
    "        progreesBar.description = 'Loading ideal files ' + str(index + 1)\n",
    "        progreesBar.value += 1 # signal to increment the progress bar"
   ]
  },
  {
   "cell_type": "markdown",
   "id": "f51e8510",
   "metadata": {},
   "source": [
    "# Analysis\n",
    "### Taking user data as input and writing the result in similar type of folder structure with weighted output for each input data stored with similar name in an excel file and graph plots stored as png"
   ]
  },
  {
   "cell_type": "code",
   "execution_count": 205,
   "id": "365bcb5b",
   "metadata": {},
   "outputs": [
    {
     "data": {
      "application/vnd.jupyter.widget-view+json": {
       "model_id": "5cb0576692f84021b2c9d997caa5d67c",
       "version_major": 2,
       "version_minor": 0
      },
      "text/plain": [
       "IntProgress(value=0, max=150)"
      ]
     },
     "metadata": {},
     "output_type": "display_data"
    }
   ],
   "source": [
    "##the accuracy table\n",
    "accuracyTable = pd.DataFrame(columns=['FileName', 'Predicted Mineral', 'Position', 'Individual Score', 'Algo Score', 'Algo Max Score'])\n",
    "accuracyResultTable = pd.DataFrame(columns=['Algorithm', 'Range', 'Score', 'Prediction Percentage', 'Total Files Predicted', 'Absolute FIle Prediction Percentage'])\n",
    "mineralFound = False\n",
    "individualScore = indidualplotlimit\n",
    "position = 0\n",
    "totalScore = 0\n",
    "pd.set_option('display.max_colwidth', 150)\n",
    "predictedFiles = 0\n",
    "indidualplotlimit = 220\n",
    "\n",
    "\n",
    "max_countSed = len(sed_files)\n",
    "progreesBarSed = IntProgress(min=0, max=max_countSed) \n",
    "display(progreesBarSed)\n",
    "targetFolderToReplace = '/data/enviData'\n",
    "algorithmType = 'chebyshev'\n",
    "algorithmRunFunction = 'SpectraComparision.' + algorithmType\n",
    "minWav = '400'\n",
    "maxWav = '750'\n",
    "areaName = 'mineral testing'\n",
    "\n",
    "targetFolderNewName = '/' + algorithmType + '_' + minWav + '_' + maxWav + '_' + str(indidualplotlimit) + 'Top'\n",
    "\n",
    "if toggleButtonHistogram.value == 'Yes':\n",
    "    topMineralNameListDictFilename = areaName + '_' + algorithmType + '_' + minWav + '_' + maxWav + '_topMineralNameListDict.xlsx'\n",
    "    topMineralNameNonUniqueListDictFilename = areaName + '_' + algorithmType + '_' + minWav + '_' + maxWav + '_topMineralNameNonUniqueListDict.xlsx'\n",
    "    \n",
    "    xlabelUnique = 'Mineral Name ' + algorithmType + '(' + areaName + ' Unique)'\n",
    "    xlabelNonUnique = 'Mineral Name ' + algorithmType + '(' + areaName + ' Non Unique)'\n",
    "    \n",
    "    barPlotUnique = '../' + areaName + '_' + algorithmType + '_' + minWav + '_' + maxWav + '_Unique.png'\n",
    "    barPlotNonUnique = '../' + areaName + '_' + algorithmType + '_' + minWav + '_' + maxWav + '.png'\n",
    "\n",
    "    topMineralNameListDict = {}\n",
    "    topMineralNameNonUniqueListDict = {}\n",
    "\n",
    "for index in range(len(sed_files)):\n",
    "    mineralFound = False\n",
    "    individualScore = indidualplotlimit\n",
    "    position = 0\n",
    "    \n",
    "    totalDict = {}\n",
    "    targetfilename = sed_files[index].replace(targetFolderToReplace, targetFolderNewName).split('/')[-1].replace('.txt','.xlsx')\n",
    "    list_string = sed_files[index].replace(targetFolderToReplace, targetFolderNewName).split('/')[0:-1]\n",
    "    targetPath = '/'.join(list_string) + '/'\n",
    "    testData = FolderAndFileProcessing.GetValuesFromFile(sed_files[index],  0, ' ','reflectance')\n",
    "    minIndexTemp = 0\n",
    "    maxIndexTemp = 0\n",
    "    for indexRange in range(numberOfFeatureToAnalyze):\n",
    "        minIndexTemp = minIndex[indexRange]\n",
    "        maxIndexTemp = maxIndex[indexRange]\n",
    "        if algorithmType == 'SFF' or algorithmType == 'NormXCorr' or algorithmType == 'SFF_CrossCorrelation' or algorithmType == 'SFF_SAM' or algorithmType == 'SFF_SAM_BE' or algorithmType == 'CombinedAlgorithmsResult' or algorithmType == 'RMS':\n",
    "            fileListSelected = globals()['fileListContinumRemoval_'+str(indexRange)]\n",
    "            fileListSelectedNonContinumRemoval = globals()['fileListNonContinumRemoval_'+str(indexRange)]\n",
    "        else:\n",
    "            fileListSelected = globals()['fileListNonContinumRemoval_'+str(indexRange)]\n",
    "            \n",
    "        #dictMineralValue = SpectraComparision.SFF_SAM_BE(txt_files, testData, fileListSelected, waveLength, minIndexTemp, maxIndexTemp, fileListSelectedNonContinumRemoval)\n",
    "        #dictMineralValue = SpectraComparision.SFF_SAM(txt_files, testData, fileListSelected, waveLength, minIndexTemp, maxIndexTemp, fileListSelectedNonContinumRemoval)\n",
    "        #dictMineralValue = SpectraComparision.SFF(txt_files, testData, fileListSelected, waveLength, minIndexTemp, maxIndexTemp)\n",
    "        #dictMineralValue = SpectraComparision.SAM(txt_files, testData, fileListSelected, waveLength, minIndexTemp, maxIndexTemp)\n",
    "        #dictMineralValue = SpectraComparision.SpectralInformationDivergence(txt_files, testData, fileListSelected, waveLength, minIndexTemp, maxIndexTemp)\n",
    "        dictMineralValue = SpectraComparision.chebyshev(txt_files, testData, fileListSelected, waveLength, minIndexTemp, maxIndexTemp)\n",
    "        #dictMineralValue = SpectraComparision.BinaryEncoding(txt_files, testData, fileListSelected, waveLength, minIndexTemp, maxIndexTemp)\n",
    "        \n",
    "        if len(totalDict) == 0:\n",
    "            totalDict = dict(dictMineralValue)\n",
    "        else:\n",
    "            tempDict = dict(dictMineralValue)\n",
    "            totalDict = FolderAndFileProcessing.combine_dicts(totalDict, tempDict)\n",
    "    totalDict = {k: v / numberOfFeatureToAnalyze for k, v in dict(totalDict).items()}\n",
    "    totalDict = sorted(totalDict.items(), key=lambda x: x[1], reverse=True)\n",
    "    FolderAndFileProcessing.WriteDictToExcel(targetPath, targetfilename, totalDict)\n",
    "    \n",
    "    \n",
    "    #if toggleButton.value == 'No Image':\n",
    "        #continue\n",
    "    \n",
    "    \n",
    "    if toggleButtonIndividualPlot.value == 'No':\n",
    "        \n",
    "        try:\n",
    "            counterMineral = 0\n",
    "            mineralNameList = [i for i,j in totalDict]\n",
    "            mineralNameListPruned = [i.split(' ')[0] for i in mineralNameList]\n",
    "            #mineralNameListDict = dict.fromkeys(set(mineralNameListPruned), False)\n",
    "            \n",
    "            if toggleButtonHistogram.value == 'Yes':\n",
    "                if len(topMineralNameListDict) == 0:\n",
    "                    topMineralNameListDict = dict.fromkeys(set(mineralNameListPruned), 0)\n",
    "                if len(topMineralNameNonUniqueListDict) == 0:\n",
    "                    topMineralNameNonUniqueListDict = dict.fromkeys(set(mineralNameListPruned), 0)\n",
    "            \n",
    "            normalized_spectraValue = preprocessing.normalize([testData])[0]\n",
    "            \n",
    "            minIndexTemp = 0\n",
    "            maxIndexTemp = 0\n",
    "            \n",
    "            for indexRange in range(numberOfFeatureToAnalyze):\n",
    "                minIndexTemp = minIndex[indexRange]\n",
    "                maxIndexTemp = maxIndex[indexRange]\n",
    "                \n",
    "                continumRemoved_spectraValue = sp.convex_hull_removal(normalized_spectraValue[minIndexTemp:maxIndexTemp], waveLength[minIndexTemp:maxIndexTemp])[0]\n",
    "                xaxis = list(range(minWavelength[indexRange].value,maxWavelength[indexRange].value + 1))\n",
    "                fig = plt.figure(figsize=(24, 12))\n",
    "                plt.plot(xaxis, continumRemoved_spectraValue, label = targetfilename.replace('.xlsx',''))\n",
    "                \n",
    "                indexForWhile = 0\n",
    "                counterMineral = 0\n",
    "                mineralNameListDict = dict.fromkeys(set(mineralNameListPruned), False)\n",
    "                while counterMineral < limit:\n",
    "                    mineralName = totalDict[indexForWhile][0]\n",
    "                    \n",
    "                    if toggleButtonHistogram.value == 'Yes':\n",
    "                        topMineralNameNonUniqueListDict[mineralName.split(' ')[0]] = topMineralNameNonUniqueListDict[mineralName.split(' ')[0]] + 1\n",
    "                    \n",
    "                    if mineralNameListDict[mineralName.split(' ')[0]] == False:\n",
    "                        \n",
    "                        if toggleButtonHistogram.value == 'Yes':\n",
    "                            topMineralNameListDict[mineralName.split(' ')[0]] = topMineralNameListDict[mineralName.split(' ')[0]] + 1\n",
    "                        \n",
    "                        imagePath = list(s for s in txt_files if mineralName.lower() in s.lower())[0]\n",
    "                        signal = globals()['fileListContinumRemoval_'+str(indexRange)][txt_files.index(imagePath)]\n",
    "                        plt.plot(xaxis, signal, label = mineralName)\n",
    "                        mineralNameListDict[mineralName.split(' ')[0]] = True\n",
    "                        counterMineral = counterMineral + 1\n",
    "                    \n",
    "                    indexForWhile = indexForWhile + 1\n",
    "                imageLabelRange = '_' + str(minIndexTemp + 350) + '_' + str(maxIndexTemp + 350 - 1)\n",
    "                plt.legend(loc=\"lower right\")\n",
    "                plt.savefig(sed_files[index].replace(targetFolderToReplace, targetFolderNewName).replace('.txt',imageLabelRange + '.png'), dpi=500)\n",
    "                plt.close()\n",
    "        except:\n",
    "            continue\n",
    "        \n",
    "        if toggleButtonFullPlot.value == 'Yes':\n",
    "            try:\n",
    "                counterMineral = 0\n",
    "                mineralNameList = [i for i,j in totalDict]\n",
    "                mineralNameListPruned = [i.split(' ')[0] for i in mineralNameList]\n",
    "                \n",
    "                normalized_spectraValue = preprocessing.normalize([testData])[0]\n",
    "                continumRemoved_spectraValue = sp.convex_hull_removal(normalized_spectraValue, waveLength)[0]\n",
    "                \n",
    "                \n",
    "                    \n",
    "                fig = plt.figure(figsize=(24, 12))\n",
    "                plt.plot(waveLength, continumRemoved_spectraValue, label = targetfilename.replace('.xlsx',''))\n",
    "                    \n",
    "                indexForWhile = 0\n",
    "                counterMineral = 0\n",
    "                mineralNameListDict = dict.fromkeys(set(mineralNameListPruned), False)\n",
    "                while counterMineral < limit:\n",
    "                    mineralName = totalDict[indexForWhile][0]\n",
    "                    \n",
    "                    if mineralNameListDict[mineralName.split(' ')[0]] == False:\n",
    "                        imagePath = list(s for s in txt_files if mineralName.lower() in s.lower())[0]\n",
    "                        signal = continumRemoved_spectraValue[txt_files.index(imagePath)]\n",
    "                        plt.plot(waveLength, signal, label = mineralName)\n",
    "                        mineralNameListDict[mineralName.split(' ')[0]] = True\n",
    "                        counterMineral = counterMineral + 1\n",
    "                    \n",
    "                    indexForWhile = indexForWhile + 1\n",
    "                imageLabelRange = '_FullPlot'\n",
    "                plt.legend(loc=\"lower right\")\n",
    "                plt.savefig(sed_files[index].replace(targetFolderToReplace, targetFolderNewName).replace('.txt',imageLabelRange + '.png'), dpi=500)\n",
    "                plt.close()\n",
    "            except:\n",
    "                continue\n",
    "            \n",
    "            \n",
    "            \n",
    "            \n",
    "            \n",
    "            \n",
    "        \n",
    "     \n",
    "    \n",
    "    \n",
    "    else:\n",
    "        try:\n",
    "            counterMineral = 0\n",
    "            mineralNameList = [i for i,j in totalDict]\n",
    "            mineralNameListPruned = [i.split(' ')[0] for i in mineralNameList]\n",
    "            #mineralNameListDict = dict.fromkeys(set(mineralNameListPruned), False)\n",
    "            \n",
    "            \n",
    "            if toggleButtonHistogram.value == 'Yes':\n",
    "                if len(topMineralNameListDict) == 0:\n",
    "                    topMineralNameListDict = dict.fromkeys(set(mineralNameListPruned), 0)\n",
    "                if len(topMineralNameNonUniqueListDict) == 0:\n",
    "                    topMineralNameNonUniqueListDict = dict.fromkeys(set(mineralNameListPruned), 0)\n",
    "        \n",
    "            normalized_spectraValue = preprocessing.normalize([testData])[0]\n",
    "            \n",
    "            minIndexTemp = 0\n",
    "            maxIndexTemp = 0\n",
    "            \n",
    "            for indexRange in range(numberOfFeatureToAnalyze):\n",
    "                minIndexTemp = minIndex[indexRange]\n",
    "                maxIndexTemp = maxIndex[indexRange]\n",
    "                \n",
    "                if toggleButton.value == 'Image':\n",
    "                    continumRemoved_spectraValue = sp.convex_hull_removal(normalized_spectraValue[minIndexTemp:maxIndexTemp], waveLength[minIndexTemp:maxIndexTemp])[0]\n",
    "                    xaxis = list(range(minWavelength[indexRange].value,maxWavelength[indexRange].value + 1))\n",
    "                \n",
    "                indexForWhile = 0\n",
    "                counterMineral = 0\n",
    "                mineralNameListDict = dict.fromkeys(set(mineralNameListPruned), False)\n",
    "                while counterMineral < indidualplotlimit:\n",
    "                    mineralName = totalDict[indexForWhile][0]\n",
    "                    position = position + 1\n",
    "                    \n",
    "                    ##Report of algo\n",
    "                    if mineralFound == False:\n",
    "                        if targetfilename.replace('.xlsx','').find(mineralName.split(' ')[0]) != -1:\n",
    "                            mineralFound = True\n",
    "                            maxScore = totalDict[0][1]\n",
    "                            score = totalDict[indexForWhile][1]\n",
    "                            accuracyTable.loc[index] = [targetfilename.replace('.xlsx', '')] + [mineralName] + [position] + [individualScore] + [score] + [maxScore]\n",
    "                            totalScore = totalScore + individualScore\n",
    "                            predictedFiles = predictedFiles + 1\n",
    "                    \n",
    "                    if toggleButtonHistogram.value == 'Yes':\n",
    "                        topMineralNameNonUniqueListDict[mineralName.split(' ')[0]] = topMineralNameNonUniqueListDict[mineralName.split(' ')[0]] + 1\n",
    "                    \n",
    "                    if mineralNameListDict[mineralName.split(' ')[0]] == False:\n",
    "                        \n",
    "                        individualScore = individualScore - 1\n",
    "                        \n",
    "                        if toggleButtonHistogram.value == 'Yes':\n",
    "                            topMineralNameListDict[mineralName.split(' ')[0]] = topMineralNameListDict[mineralName.split(' ')[0]] + 1\n",
    "                        \n",
    "                        if toggleButton.value == 'Image':\n",
    "                            fig = plt.figure(figsize=(24, 12))\n",
    "                            plt.plot(xaxis, continumRemoved_spectraValue, label = targetfilename.replace('.xlsx',''))\n",
    "                            \n",
    "                            \n",
    "                            imagePath = list(s for s in txt_files if mineralName.lower() in s.lower())[0]\n",
    "                            signal = globals()['fileListContinumRemoval_'+str(indexRange)][txt_files.index(imagePath)]\n",
    "                            plt.plot(xaxis, signal, label = mineralName)\n",
    "                        mineralNameListDict[mineralName.split(' ')[0]] = True\n",
    "                        counterMineral = counterMineral + 1\n",
    "                        \n",
    "                        if toggleButton.value == 'Image':\n",
    "                            targertFolderImages = sed_files[index].replace(targetFolderToReplace, targetFolderNewName).replace('.txt','') + '/'\n",
    "                            \n",
    "                            os.makedirs(targertFolderImages, exist_ok=True)\n",
    "                            imageLabelRange = '_' + str(minIndexTemp + 350) + '_' + str(maxIndexTemp + 350 - 1)\n",
    "                            individualImagePath = targertFolderImages + str(counterMineral) + '_' + mineralName.split('_')[0] + imageLabelRange + '.png'\n",
    "                        \n",
    "                            plt.legend(loc=\"lower right\")\n",
    "                            plt.savefig(individualImagePath, dpi=100)\n",
    "                            plt.close()\n",
    "                    \n",
    "                    indexForWhile = indexForWhile + 1\n",
    "                    \n",
    "                if mineralFound == False:\n",
    "                    mineralFound = True\n",
    "                    maxScore = totalDict[0][1]\n",
    "                    #score = totalDict[indexForWhile][1]\n",
    "                    accuracyTable.loc[index] = [targetfilename.replace('.xlsx', '')] + ['None'] + [0] + [0] + [0] + [maxScore]\n",
    "                    #totalScore = totalScore + individualScore\n",
    "        except:\n",
    "            #continue\n",
    "            raise\n",
    "            \n",
    "        \n",
    "        if toggleButtonFullPlot.value == 'Yes':\n",
    "            try:\n",
    "                counterMineral = 0\n",
    "                mineralNameList = [i for i,j in totalDict]\n",
    "                mineralNameListPruned = [i.split(' ')[0] for i in mineralNameList]\n",
    "            \n",
    "                normalized_spectraValue = preprocessing.normalize([testData])[0]\n",
    "                continumRemoved_spectraValue = sp.convex_hull_removal(normalized_spectraValue, waveLength)[0]\n",
    "                \n",
    "                \n",
    "                for indexRange in range(numberOfFeatureToAnalyze):\n",
    "                    \n",
    "                    indexForWhile = 0\n",
    "                    counterMineral = 0\n",
    "                    mineralNameListDict = dict.fromkeys(set(mineralNameListPruned), False)\n",
    "                    while counterMineral < indidualplotlimit:\n",
    "                        mineralName = totalDict[indexForWhile][0]\n",
    "                        \n",
    "                        if mineralNameListDict[mineralName.split(' ')[0]] == False:\n",
    "                            fig = plt.figure(figsize=(24, 12))\n",
    "                            plt.plot(waveLength, continumRemoved_spectraValue, label = targetfilename.replace('.xlsx',''))\n",
    "                            \n",
    "                            \n",
    "                            imagePath = list(s for s in txt_files if mineralName.lower() in s.lower())[0]\n",
    "                            signal = fileListContinumRemoval[txt_files.index(imagePath)]\n",
    "                            plt.plot(waveLength, signal, label = mineralName)\n",
    "                            mineralNameListDict[mineralName.split(' ')[0]] = True\n",
    "                            counterMineral = counterMineral + 1\n",
    "                            \n",
    "                            targertFolderImages = sed_files[index].replace(targetFolderToReplace, targetFolderNewName).replace('.sed','') + '/fullWavelength/'\n",
    "                            \n",
    "                            os.makedirs(targertFolderImages, exist_ok=True)\n",
    "                            individualImagePath =  targertFolderImages + str(counterMineral) + '_' + mineralName.split('_')[0] + '.png'\n",
    "                            \n",
    "                            plt.legend(loc=\"lower right\") \n",
    "                            plt.savefig(individualImagePath, dpi=100)\n",
    "                            plt.close()\n",
    "                        \n",
    "                        indexForWhile = indexForWhile + 1\n",
    "            except:\n",
    "                continue\n",
    "             \n",
    "            \n",
    "    progreesBarSed.style = {'description_width': 'initial'}\n",
    "    progreesBarSed.description = 'Processing files ' + str(index + 1)\n",
    "    progreesBarSed.value += 1 # signal to increment the progress bar \n",
    "    \n",
    "if toggleButtonHistogram.value == 'Yes':\n",
    "    topMineralNameListDict = sorted(topMineralNameListDict.items(), key=lambda x: x[1], reverse=True)\n",
    "    topMineralNameNonUniqueListDict = sorted(topMineralNameNonUniqueListDict.items(), key=lambda x: x[1], reverse=True)\n",
    "    \n",
    "    FolderAndFileProcessing.WriteDictToExcel(\"../\", topMineralNameListDictFilename, topMineralNameListDict)\n",
    "    FolderAndFileProcessing.WriteDictToExcel(\"../\", topMineralNameNonUniqueListDictFilename, topMineralNameNonUniqueListDict)\n",
    "    \n",
    "    \n",
    "    df = pd.DataFrame(topMineralNameListDict, columns=[xlabelUnique, 'Frequency']).head(20)\n",
    "    df.plot(figsize=(20, 8),kind='bar', x=xlabelUnique)\n",
    "    plt.savefig(barPlotUnique, dpi=100,  bbox_inches='tight')\n",
    "    plt.close()\n",
    "    \n",
    "    df = pd.DataFrame(topMineralNameNonUniqueListDict, columns=[xlabelNonUnique, 'Frequency']).head(20)\n",
    "    df.plot(figsize=(20, 8),kind='bar', x=xlabelNonUnique)\n",
    "    plt.savefig(barPlotNonUnique, dpi=100,  bbox_inches='tight')\n",
    "    plt.close()\n",
    "\n",
    "\n",
    "###Accuray Table\n",
    "accuracyResultTable = pd.DataFrame(columns=['Algorithm', 'Range', 'Score', 'Prediction Percentage', 'Total Files Predicted', 'Absolute FIle Prediction Percentage'])\n",
    "accuracyResultTable.loc[0] = [algorithmType] + [minWav + '_' + maxWav] + [str(totalScore) + '/' + str(max_countSed * indidualplotlimit)] + [totalScore/(max_countSed * indidualplotlimit) * 100] + [predictedFiles] + [predictedFiles/max_countSed*100]\n",
    "with pd.ExcelWriter('../MineralPrediction'+ '_' + algorithmType + '_' + minWav + '_' + maxWav +'.xlsx') as writer:  \n",
    "    accuracyTable.to_excel(writer, sheet_name='Accuracy Result Table')\n",
    "    accuracyResultTable.to_excel(writer, sheet_name='Accuracy Prediction Result')\n",
    "           "
   ]
  },
  {
   "cell_type": "code",
   "execution_count": 160,
   "id": "d284f13b",
   "metadata": {},
   "outputs": [
    {
     "data": {
      "text/plain": [
       "480"
      ]
     },
     "execution_count": 160,
     "metadata": {},
     "output_type": "execute_result"
    }
   ],
   "source": [
    "indexForWhile"
   ]
  },
  {
   "cell_type": "markdown",
   "id": "92dd7f3d",
   "metadata": {},
   "source": [
    "# Testing Section\n",
    "### Everything below this section is to test new machanism or to check if something goes wrong above"
   ]
  },
  {
   "cell_type": "code",
   "execution_count": null,
   "id": "6d062add",
   "metadata": {},
   "outputs": [],
   "source": [
    "###sed file declarations\n",
    "testSedPath = \"../testMineral/\"\n",
    "testSed_files = FolderAndFileProcessing.ReadFilePaths(testSedPath,extensionTxt)"
   ]
  },
  {
   "cell_type": "code",
   "execution_count": null,
   "id": "75283689",
   "metadata": {},
   "outputs": [],
   "source": [
    "for index in range(len(testSed_files)):\n",
    "    testData = FolderAndFileProcessing.GetValuesFromFile(testSed_files[index], 0, ' ','reflectance')\n",
    "    dictMineralValue = SpectraComparision.SFF(txt_files, testData,fileListContinumRemoval, waveLength, minIndex, maxIndex)\n",
    "    targetfilename = testSed_files[index].replace('/testMineral','/testDataScoreRemoved').split('/')[-1].replace('.txt','.xlsx')\n",
    "    list_string = testSed_files[index].replace('/testMineral','/testDataScoreRemoved').split('/')[0:-1]\n",
    "    targetPath = '/'.join(list_string) + '/'\n",
    "    FolderAndFileProcessing.WriteDictToExcel(targetPath, targetfilename, dictMineralValue)"
   ]
  },
  {
   "cell_type": "code",
   "execution_count": null,
   "id": "89f7e5ce",
   "metadata": {},
   "outputs": [],
   "source": [
    "for index in range(len(testSed_files)):\n",
    "    testData = FolderAndFileProcessing.GetValuesFromFile(testSed_files[index], 26, '\\t','Reflect. [1.0]')\n",
    "    dictMineralValue = SpectraComparision.CosineSimilarityContinumRemoved(txt_files, testData,fileListContinumRemoval, waveLength, minIndex, maxIndex)\n",
    "    targetfilename = testSed_files[index].replace('/testData','/testDataScoreRemoved').split('/')[-1].replace('.sed','.xlsx')\n",
    "    list_string = testSed_files[index].replace('/testData','/testDataScoreRemoved').split('/')[0:-1]\n",
    "    targetPath = '/'.join(list_string) + '/'\n",
    "    FolderAndFileProcessing.WriteDictToExcel(targetPath, targetfilename, dictMineralValue)"
   ]
  },
  {
   "cell_type": "code",
   "execution_count": null,
   "id": "6afa2194",
   "metadata": {},
   "outputs": [],
   "source": [
    "testSed_files[0]"
   ]
  },
  {
   "cell_type": "code",
   "execution_count": null,
   "id": "d441ca33",
   "metadata": {},
   "outputs": [],
   "source": [
    "tt = pd.read_csv(testSed_files[0] ,skiprows = 26, sep = '\\t')"
   ]
  },
  {
   "cell_type": "code",
   "execution_count": null,
   "id": "54ac6002",
   "metadata": {},
   "outputs": [],
   "source": [
    "ww = tt['Reflect. [1.0]']"
   ]
  },
  {
   "cell_type": "code",
   "execution_count": null,
   "id": "eb797783",
   "metadata": {},
   "outputs": [],
   "source": [
    "plt.plot(ww)"
   ]
  },
  {
   "cell_type": "code",
   "execution_count": null,
   "id": "da1cd9b0",
   "metadata": {},
   "outputs": [],
   "source": [
    "aa = sp.convex_hull_removal(ww,list(range(350,2501)))"
   ]
  },
  {
   "cell_type": "code",
   "execution_count": null,
   "id": "5aabb83f",
   "metadata": {},
   "outputs": [],
   "source": [
    "plt.plot(aa[0])"
   ]
  },
  {
   "cell_type": "code",
   "execution_count": null,
   "id": "8a9d0278",
   "metadata": {},
   "outputs": [],
   "source": [
    "plt.plot(fileListContinumRemoval[0])"
   ]
  },
  {
   "cell_type": "code",
   "execution_count": null,
   "id": "bd6efa5e",
   "metadata": {},
   "outputs": [],
   "source": [
    "def compute_similarity(ref_rec,input_rec,weightage=[0.33,0.33,0.33]):\n",
    "    ## Time domain similarity\n",
    "    ref_time = np.correlate(ref_rec,ref_rec)    \n",
    "    inp_time = np.correlate(ref_rec,input_rec)\n",
    "    diff_time = abs(ref_time-inp_time)\n",
    "\n",
    "    ## Freq domain similarity\n",
    "    ref_freq = np.correlate(np.fft.fft(ref_rec),np.fft.fft(ref_rec)) \n",
    "    inp_freq = np.correlate(np.fft.fft(ref_rec),np.fft.fft(input_rec))\n",
    "    diff_freq = abs(ref_freq-inp_freq)\n",
    "\n",
    "    ## Power similarity\n",
    "    ref_power = np.sum(ref_rec**2)\n",
    "    inp_power = np.sum(input_rec**2)\n",
    "    diff_power = abs(ref_power-inp_power)\n",
    "\n",
    "    return float(weightage[0]*diff_time+weightage[1]*diff_freq+weightage[2]*diff_power)"
   ]
  },
  {
   "cell_type": "code",
   "execution_count": null,
   "id": "24d19322",
   "metadata": {},
   "outputs": [],
   "source": [
    "compute_similarity(np.array(fileListContinumRemoval[6]), np.array(aa[0]))"
   ]
  },
  {
   "cell_type": "code",
   "execution_count": null,
   "id": "08ea472f",
   "metadata": {},
   "outputs": [],
   "source": [
    "aa[0]"
   ]
  },
  {
   "cell_type": "code",
   "execution_count": null,
   "id": "3553e964",
   "metadata": {},
   "outputs": [],
   "source": [
    "ref_time"
   ]
  },
  {
   "cell_type": "code",
   "execution_count": null,
   "id": "52882b51",
   "metadata": {},
   "outputs": [],
   "source": [
    "len(minIndex)"
   ]
  },
  {
   "cell_type": "code",
   "execution_count": 33,
   "id": "86c85b4c",
   "metadata": {},
   "outputs": [],
   "source": [
    "s1 = [14,62,73,84,45,66,73]\n",
    "s2 = [11,21,31,41,51,61,71]"
   ]
  },
  {
   "cell_type": "code",
   "execution_count": 34,
   "id": "d4f210e7",
   "metadata": {},
   "outputs": [],
   "source": [
    "s1 = np.array(s1)\n",
    "s2 = np.array(s2)"
   ]
  },
  {
   "cell_type": "code",
   "execution_count": 38,
   "id": "67c3fc7c",
   "metadata": {},
   "outputs": [],
   "source": [
    "t1 = s1 - s1.mean()\n",
    "t2 = s2 - s2.mean()"
   ]
  },
  {
   "cell_type": "code",
   "execution_count": 46,
   "id": "8c3b8697",
   "metadata": {},
   "outputs": [],
   "source": [
    "x1 = 1*(t1 >= 0)\n",
    "x2 = 1*(t2 >= 0)"
   ]
  },
  {
   "cell_type": "code",
   "execution_count": 48,
   "id": "eaa3ddd1",
   "metadata": {},
   "outputs": [],
   "source": [
    "tt = 1*(x1 != x2)"
   ]
  },
  {
   "cell_type": "code",
   "execution_count": 50,
   "id": "08071ba4",
   "metadata": {},
   "outputs": [
    {
     "data": {
      "text/plain": [
       "0.42857142857142855"
      ]
     },
     "execution_count": 50,
     "metadata": {},
     "output_type": "execute_result"
    }
   ],
   "source": [
    "tt.mean()"
   ]
  },
  {
   "cell_type": "code",
   "execution_count": 51,
   "id": "936184b8",
   "metadata": {},
   "outputs": [
    {
     "data": {
      "text/plain": [
       "array([-45.57142857,   2.42857143,  13.42857143,  24.42857143,\n",
       "       -14.57142857,   6.42857143,  13.42857143])"
      ]
     },
     "execution_count": 51,
     "metadata": {},
     "output_type": "execute_result"
    }
   ],
   "source": [
    "x1"
   ]
  },
  {
   "cell_type": "code",
   "execution_count": 52,
   "id": "86b82db8",
   "metadata": {},
   "outputs": [
    {
     "data": {
      "text/plain": [
       "array([0, 1, 1, 1, 0, 1, 1])"
      ]
     },
     "execution_count": 52,
     "metadata": {},
     "output_type": "execute_result"
    }
   ],
   "source": [
    "x1"
   ]
  },
  {
   "cell_type": "markdown",
   "id": "ef29bdad",
   "metadata": {},
   "source": [
    "### Bar Plots"
   ]
  },
  {
   "cell_type": "code",
   "execution_count": 189,
   "id": "8505d1a2",
   "metadata": {},
   "outputs": [
    {
     "data": {
      "image/png": "[encoded data removed]",
      "text/plain": [
       "<Figure size 2160x1080 with 1 Axes>"
      ]
     },
     "metadata": {
      "needs_background": "light"
     },
     "output_type": "display_data"
    }
   ],
   "source": [
    "plt.rcParams.update({'font.size': 28})\n",
    "fig = plt.figure(figsize=(30, 15))\n",
    "\n",
    "SFF = [61.11, 67.87, 68, 69.42, 79.78]\n",
    "SAM = [55.28, 61.16, 56.22, 61.56, 74.67]\n",
    "SID = [55.11, 57.29, 55.91, 60.49, 74.53]\n",
    "BE = [41.64, 56.67, 54.8, 53.42, 64.98]\n",
    "Chebyshev = [55.2, 47.78, 52.76, 60.8, 75.02]\n",
    "SFF_SAM = [62.67, 72.49, 70.58, 67.42, 83.11]\n",
    "SFF_SAM_BE = [47.38, 70.84, 70.76, 68.49, 79.6]\n",
    "  \n",
    "n=5\n",
    "r = np.arange(n)\n",
    "width = 0.10\n",
    "  \n",
    "plt.bar(r , BE,\n",
    "        width = width, edgecolor = 'black',\n",
    "        label='Binary Encoding (BE)')\n",
    "plt.bar(r + width, Chebyshev,\n",
    "        width = width, edgecolor = 'black',\n",
    "        label='Chebyshev')\n",
    "plt.bar(r + width * 2, SID,\n",
    "        width = width, edgecolor = 'black',\n",
    "        label='Spectral Information Divergence (SID)')\n",
    "plt.bar(r + width * 3, SAM,\n",
    "        width = width, edgecolor = 'black',\n",
    "        label='Spectral Angle Mapper (SAM)')\n",
    "plt.bar(r + width * 4, SFF,\n",
    "        width = width, edgecolor = 'black',\n",
    "        label='Spectral Feature Fitting (SFF)')\n",
    "plt.bar(r + width * 5, SFF_SAM,\n",
    "        width = width, edgecolor = 'black',\n",
    "        label='SFF & SAM')\n",
    "plt.bar(r + width * 6, SFF_SAM_BE,\n",
    "        width = width, edgecolor = 'black',\n",
    "        label='SFF & SAM & BE')\n",
    "plt.ylim(40, 100)\n",
    "plt.xlabel(\"Wavelength Ranges [nm]\")\n",
    "plt.ylabel(\"Prediction Accuracy [%]\")\n",
    "plt.title(\"Algorithm Comparison For USGS Soils And Mixtures (Top 15)\")\n",
    "  \n",
    "# plt.grid(linestyle='--')\n",
    "plt.xticks(r + 0.15,['400-750','700-1400','1300-1700','1600-2100', '2000-2500'], ha='left')\n",
    "plt.legend(loc=\"upper left\")\n",
    "  \n",
    "plt.show()"
   ]
  },
  {
   "cell_type": "code",
   "execution_count": null,
   "id": "9e1d040c",
   "metadata": {},
   "outputs": [],
   "source": []
  },
  {
   "cell_type": "code",
   "execution_count": 190,
   "id": "8c08780a",
   "metadata": {},
   "outputs": [
    {
     "data": {
      "image/png": "[encoded data removed]",
      "text/plain": [
       "<Figure size 2160x1080 with 1 Axes>"
      ]
     },
     "metadata": {
      "needs_background": "light"
     },
     "output_type": "display_data"
    }
   ],
   "source": [
    "plt.rcParams.update({'font.size': 28})\n",
    "fig = plt.figure(figsize=(30, 15))\n",
    "\n",
    "SFF = [64.36, 72.57, 71, 71.8, 82.63]\n",
    "SAM = [61.3, 66.03, 60.03, 65.43, 77.9]\n",
    "SID = [60.57, 62.43, 59.93, 64.63, 77.6]\n",
    "BE = [47.13, 61.07, 58.63, 58.8, 68.27]\n",
    "Chebyshev = [60.27, 52.67, 57.57, 64.27, 77.73]\n",
    "SFF_SAM = [66.33, 76.27, 73.2, 71.17, 85.2]\n",
    "SFF_SAM_BE = [69.37, 75, 73.67, 73.37, 83.57]\n",
    "  \n",
    "n=5\n",
    "r = np.arange(n)\n",
    "width = 0.10\n",
    "\n",
    "  \n",
    "plt.bar(r, BE,\n",
    "        width = width, edgecolor = 'black',\n",
    "        label='Binary Encoding (BE)')\n",
    "plt.bar(r + width, Chebyshev,\n",
    "        width = width, edgecolor = 'black',\n",
    "        label='Chebyshev')\n",
    "plt.bar(r + width * 2, SID,\n",
    "        width = width, edgecolor = 'black',\n",
    "        label='Spectral Information Divergence (SID)')\n",
    "plt.bar(r + width * 3, SAM,\n",
    "        width = width, edgecolor = 'black',\n",
    "        label='Spectral Angle Mapper (SAM)')\n",
    "plt.bar(r + width * 4, SFF,\n",
    "        width = width, edgecolor = 'black',\n",
    "        label='Spectral Feature Fitting (SFF)')\n",
    "plt.bar(r + width * 5, SFF_SAM,\n",
    "        width = width, edgecolor = 'black',\n",
    "        label='SFF & SAM')\n",
    "plt.bar(r + width * 6, SFF_SAM_BE,\n",
    "        width = width, edgecolor = 'black',\n",
    "        label='SFF & SAM & BE')\n",
    "  \n",
    "plt.xlabel(\"Wavelength Ranges [nm]\")\n",
    "plt.ylabel(\"Prediction Accuracy [%]\")\n",
    "plt.title(\"Algorithm Comparison For USGS Soils And Mixtures (Top 20)\")\n",
    "plt.ylim(40, 100)\n",
    "# plt.grid(linestyle='--')\n",
    "plt.xticks(r + 0.15,['400-750','700-1400','1300-1700','1600-2100', '2000-2500'], ha='left')\n",
    "plt.legend(loc=\"upper left\")\n",
    "  \n",
    "plt.show()"
   ]
  },
  {
   "cell_type": "code",
   "execution_count": null,
   "id": "c71be0a7",
   "metadata": {},
   "outputs": [],
   "source": []
  }
 ],
 "metadata": {
  "kernelspec": {
   "display_name": "Python 3 (ipykernel)",
   "language": "python",
   "name": "python3"
  },
  "language_info": {
   "codemirror_mode": {
    "name": "ipython",
    "version": 3
   },
   "file_extension": ".py",
   "mimetype": "text/x-python",
   "name": "python",
   "nbconvert_exporter": "python",
   "pygments_lexer": "ipython3",
   "version": "3.8.12"
  }
 },
 "nbformat": 4,
 "nbformat_minor": 5
}
