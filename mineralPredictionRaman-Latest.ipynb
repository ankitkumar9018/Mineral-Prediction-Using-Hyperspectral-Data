{
 "cells": [
  {
   "cell_type": "markdown",
   "id": "f5ddf17f",
   "metadata": {},
   "source": [
    "# Loading python libraries\n",
    "#### Python is developed under an OSI-approved open source license, making it freely usable and distributable, even for commercial use."
   ]
  },
  {
   "cell_type": "code",
   "execution_count": 1,
   "id": "9d303b1b",
   "metadata": {},
   "outputs": [],
   "source": [
    "import numpy as np\n",
    "import pandas as pd\n",
    "import matplotlib.pyplot as plt\n",
    "import scipy\n",
    "import os\n",
    "import glob\n",
    "from sklearn import preprocessing\n",
    "from pysptools import spectro as sp\n",
    "from pysptools import distance\n",
    "from IPython.display import display\n",
    "import ipywidgets as widgets\n",
    "from math import*\n",
    "from ipywidgets import IntProgress\n",
    "import peakutils\n",
    "import rampy as rp"
   ]
  },
  {
   "cell_type": "markdown",
   "id": "0d4cdeba",
   "metadata": {},
   "source": [
    "# Loading Functions\n",
    "\n",
    "* Widegets\n",
    "    * on_value_change_min - this function monitors the change in value of the slider\n",
    "    * on_value_change_max - this function monitors the change in value of the slider\n",
    "* FolderAndFileProcessing\n",
    "    * ReadFilePaths - This function takes input as source folder and file extension and returns the path of all the files inside the folder with the supplied extension\n",
    "    * ReadFile - This functions purpose is to read individual file, it takes file path, rows to skip while reading the file and type of seperation as input\n",
    "    * GetValuesFromFile - This function uses ReadFile read a file and then filters out desired column\n",
    "    * WriteDictToExcel - This function is used to write the output of the analysis to excel file\n",
    "    * combine_dicts - This function is used to combine two dictionaries in python into one dictionary\n",
    "* SpectraComparision(all functions normalizes and removes continum after subsetting the spectral signals)\n",
    "    * SFF - This function takes reference spectra and user input spectrum as input and process the signals using root mean squared algorithm and generates the score table with most probable mineral having the least score\n",
    "    * SAM - This function takes reference spectra and user input spectrum as input and process the signals using root mean squared algorithm and generates the score table with most probable mineral having the least score\n",
    "    * SFF_CrossCorrelation - This function takes reference spectra and user input spectrum as input and process the signals using cross-correlation algorithm and generates the score table with most probable mineral having the highest score(closer to 1) and least probable mineral having the lowest score(closer to -1)\n",
    "    * SpectralInformationDivergence - Computes the spectral information divergence between two vectors."
   ]
  },
  {
   "cell_type": "code",
   "execution_count": 2,
   "id": "ef3566c1",
   "metadata": {},
   "outputs": [],
   "source": [
    "### https://pysptools.sourceforge.io/distance.html\n",
    "### https://dataaspirant.com/five-most-popular-similarity-measures-implementation-in-python/\n",
    "### https://towardsdatascience.com/four-ways-to-quantify-synchrony-between-time-series-data-b99136c4a9c9\n",
    "### https://towardsdatascience.com/classical-least-squares-method-for-quantitative-spectral-analysis-with-python-1926473a802c\n",
    "\n",
    "class Widegets:\n",
    "    def on_value_change_min(change):\n",
    "        new_min = change['new']\n",
    "        if new_min + 100 > maxWavelength.value:\n",
    "            minWavelength.value = maxWavelength.value - 100\n",
    "\n",
    "    def on_value_change_max(change):\n",
    "        new_max = change['new']\n",
    "        if minWavelength.value > new_max - 100:\n",
    "            maxWavelength.value = minWavelength.value + 100\n",
    "        \n",
    "        \n",
    "class FolderAndFileProcessing:\n",
    "    def ReadFilePaths(source, ext):\n",
    "        return glob.glob(source + \"/**/*.\" + ext, recursive = True)\n",
    "    \n",
    "    def ReadFile(file, seperation):\n",
    "        return pd.read_csv(file, sep = seperation)\n",
    "    \n",
    "    def GetValuesFromFile(file, seperation, column):\n",
    "        fileData = FolderAndFileProcessing.ReadFile(file, seperation)\n",
    "        return fileData[column]\n",
    "    \n",
    "    def WriteDictToExcel(targetPath, filename, dictionary):\n",
    "        df = pd.DataFrame.from_dict(dictionary)\n",
    "        os.makedirs(targetPath, exist_ok=True)\n",
    "        df.to_excel(targetPath+filename)\n",
    "        \n",
    "        \n",
    "    def combine_dicts(a, b):\n",
    "        for key in b:\n",
    "            if key in a:\n",
    "                b[key] = b[key] + a[key]\n",
    "        c = {**a, **b}\n",
    "        return c\n",
    "        \n",
    "class SpectraComparision:\n",
    "    \n",
    "    def SFF(fileList, spectraValue, fileListBaselineRemoval, waveLength, minIndex, maxIndex):\n",
    "        mineralScore = {}\n",
    "        normalized_spectraValue = preprocessing.normalize([spectraValue[minIndex:maxIndex]])[0]\n",
    "        try:\n",
    "            baseline_values = peakutils.baseline(normalized_spectraValue)\n",
    "            baselineRemoved_spectraValue = normalized_spectraValue - baseline_values\n",
    "            #continumRemoved_spectraValue = sp.convex_hull_removal(normalized_spectraValue[minIndex:maxIndex], waveLength[minIndex:maxIndex])[0]\n",
    "        except:\n",
    "            return mineralScore\n",
    "        for index in range(len(fileList)):\n",
    "            baselineRemoved_idealReflectance = fileListBaselineRemoval[index]\n",
    "            result = np.array(baselineRemoved_spectraValue) - np.array(baselineRemoved_idealReflectance)\n",
    "            score = np.sqrt(np.mean(result**2))\n",
    "            score = 1 - score\n",
    "            mineralScore[fileList[index].split('/')[-1].split('_')[0]] = score\n",
    "        mineralScore = sorted(mineralScore.items(), key=lambda x: x[1], reverse=True)\n",
    "        return mineralScore\n",
    "    \n",
    "    def SFF_CrossCorrelation(fileList, spectraValue, fileListBaselineRemoval, waveLength, minIndex, maxIndex):\n",
    "        mineralScore = {}\n",
    "        normalized_spectraValue = preprocessing.normalize([spectraValue[minIndex:maxIndex]])[0]\n",
    "        try:\n",
    "            baseline_values = peakutils.baseline(normalized_spectraValue)\n",
    "            baselineRemoved_spectraValue = normalized_spectraValue - baseline_values\n",
    "            #continumRemoved_spectraValue = sp.convex_hull_removal(normalized_spectraValue[minIndex:maxIndex], waveLength[minIndex:maxIndex])[0]\n",
    "        except:\n",
    "            return mineralScore\n",
    "        for index in range(len(fileList)):\n",
    "            baselineRemoved_idealReflectance = fileListBaselineRemoval[index]\n",
    "            result = np.corrcoef(baselineRemoved_spectraValue, baselineRemoved_idealReflectance)\n",
    "            score = result[0, 1]\n",
    "            mineralScore[fileList[index].split('/')[-1].split('_')[0]] = score\n",
    "        mineralScore = sorted(mineralScore.items(), key=lambda x: x[1], reverse=True)\n",
    "        return mineralScore\n",
    "\n",
    "    \n",
    "    def CosineSimilarity(fileList, spectraValue, fileListBaselineRemoval, waveLength, minIndex, maxIndex):\n",
    "        mineralScore = {}\n",
    "        normalized_spectraValue = preprocessing.normalize([spectraValue[minIndex:maxIndex]])[0]\n",
    "        try:\n",
    "            baseline_values = peakutils.baseline(normalized_spectraValue)\n",
    "            baselineRemoved_spectraValue = normalized_spectraValue - baseline_values\n",
    "            #continumRemoved_spectraValue = sp.convex_hull_removal(normalized_spectraValue[minIndex:maxIndex], waveLength[minIndex:maxIndex])[0]\n",
    "        except:\n",
    "            return mineralScore\n",
    "        for index in range(len(fileList)):\n",
    "            baselineRemoved_idealReflectance = fileListBaselineRemoval[index]\n",
    "            score = SpectraComparision.cosine_similarity(baselineRemoved_spectraValue, baselineRemoved_idealReflectance)\n",
    "            score = 1 - score\n",
    "            mineralScore[fileList[index].split('/')[-1].split('_')[0]] = score\n",
    "        mineralScore = sorted(mineralScore.items(), key=lambda x: x[1], reverse=True)\n",
    "        return mineralScore\n",
    "    \n",
    "    \n",
    "    \n",
    "    def computeSimilarity(fileList, spectraValue, fileListBaselineRemoval, waveLength, minIndex, maxIndex):\n",
    "        mineralScore = {}\n",
    "        normalized_spectraValue = preprocessing.normalize([spectraValue[minIndex:maxIndex]])[0]\n",
    "        try:\n",
    "            baseline_values = peakutils.baseline(normalized_spectraValue)\n",
    "            baselineRemoved_spectraValue = normalized_spectraValue - baseline_values\n",
    "            #continumRemoved_spectraValue = sp.convex_hull_removal(normalized_spectraValue[minIndex:maxIndex], waveLength[minIndex:maxIndex])[0]\n",
    "        except:\n",
    "            return mineralScore\n",
    "        for index in range(len(fileList)):\n",
    "            baselineRemoved_idealReflectance = fileListBaselineRemoval[index]\n",
    "            score = SpectraComparision.compute_similarity(baselineRemoved_spectraValue, baselineRemoved_idealReflectance)\n",
    "            score = 1 - score\n",
    "            mineralScore[fileList[index].split('/')[-1].split('_')[0]] = score\n",
    "        mineralScore = sorted(mineralScore.items(), key=lambda x: x[1], reverse=True)\n",
    "        return mineralScore\n",
    "    \n",
    "    def SAM(fileList, spectraValue, fileListBaselineRemoval, waveLength, minIndex, maxIndex):\n",
    "        mineralScore = {}\n",
    "        normalized_spectraValue = preprocessing.normalize([spectraValue[minIndex:maxIndex]])[0]\n",
    "        try:\n",
    "            baseline_values = peakutils.baseline(normalized_spectraValue)\n",
    "            baselineRemoved_spectraValue = normalized_spectraValue - baseline_values\n",
    "            #continumRemoved_spectraValue = sp.convex_hull_removal(normalized_spectraValue[minIndex:maxIndex], waveLength[minIndex:maxIndex])[0]\n",
    "        except:\n",
    "            return mineralScore\n",
    "        for index in range(len(fileList)):\n",
    "            baselineRemoved_idealReflectance = fileListBaselineRemoval[index]\n",
    "            score = distance.SAM(baselineRemoved_spectraValue, baselineRemoved_idealReflectance)\n",
    "            score = 1 - score\n",
    "            mineralScore[fileList[index].split('/')[-1].split('_')[0]] = score\n",
    "        mineralScore = sorted(mineralScore.items(), key=lambda x: x[1], reverse=True)\n",
    "        return mineralScore\n",
    "    \n",
    "    def chebyshev(fileList, spectraValue, fileListBaselineRemoval, waveLength, minIndex, maxIndex):\n",
    "        mineralScore = {}\n",
    "        normalized_spectraValue = preprocessing.normalize([spectraValue[minIndex:maxIndex]])[0]\n",
    "        try:\n",
    "            baseline_values = peakutils.baseline(normalized_spectraValue)\n",
    "            baselineRemoved_spectraValue = normalized_spectraValue - baseline_values\n",
    "            #continumRemoved_spectraValue = sp.convex_hull_removal(normalized_spectraValue[minIndex:maxIndex], waveLength[minIndex:maxIndex])[0]\n",
    "        except:\n",
    "            return mineralScore\n",
    "        for index in range(len(fileList)):\n",
    "            baselineRemoved_idealReflectance = fileListBaselineRemoval[index]\n",
    "            score = distance.chebyshev(baselineRemoved_spectraValue, baselineRemoved_idealReflectance)\n",
    "            mineralScore[fileList[index].split('/')[-1].split('_')[0]] = score\n",
    "        mineralScore = sorted(mineralScore.items(), key=lambda x: x[1], reverse=True)\n",
    "        return mineralScore\n",
    "    \n",
    "    def SpectralInformationDivergence(fileList, spectraValue, fileListBaselineRemoval, waveLength, minIndex, maxIndex):\n",
    "        mineralScore = {}\n",
    "        normalized_spectraValue = preprocessing.normalize([spectraValue[minIndex:maxIndex]])[0]\n",
    "        try:\n",
    "            baseline_values = peakutils.baseline(normalized_spectraValue)\n",
    "            baselineRemoved_spectraValue = normalized_spectraValue - baseline_values\n",
    "            #continumRemoved_spectraValue = sp.convex_hull_removal(normalized_spectraValue[minIndex:maxIndex], waveLength[minIndex:maxIndex])[0]\n",
    "        except:\n",
    "            return mineralScore\n",
    "        for index in range(len(fileList)):\n",
    "            baselineRemoved_idealReflectance = fileListBaselineRemoval[index]\n",
    "            score = distance.SID(baselineRemoved_spectraValue, baselineRemoved_idealReflectance)\n",
    "            score = 1 - score\n",
    "            mineralScore[fileList[index].split('/')[-1].split('_')[0]] = score\n",
    "        mineralScore = sorted(mineralScore.items(), key=lambda x: x[1], reverse=True)\n",
    "        return mineralScore\n",
    "\n",
    "    \n",
    "    def compute_similarity(ref_rec,input_rec,weightage=[0.33,0.33,0.33]):\n",
    "        ref_rec = np.array(ref_rec)\n",
    "        input_rec = np.array(input_rec)\n",
    "        ## Time domain similarity\n",
    "        ref_time = np.correlate(ref_rec,ref_rec)    \n",
    "        inp_time = np.correlate(ref_rec,input_rec)\n",
    "        diff_time = abs(ref_time-inp_time)\n",
    "\n",
    "        ## Freq domain similarity\n",
    "        ref_freq = np.correlate(np.fft.fft(ref_rec),np.fft.fft(ref_rec)) \n",
    "        inp_freq = np.correlate(np.fft.fft(ref_rec),np.fft.fft(input_rec))\n",
    "        diff_freq = abs(ref_freq-inp_freq)\n",
    "\n",
    "        ## Power similarity\n",
    "        ref_power = np.sum(ref_rec**2)\n",
    "        inp_power = np.sum(input_rec**2)\n",
    "        diff_power = abs(ref_power-inp_power)\n",
    "        \n",
    "        return float(weightage[0]*diff_time+weightage[1]*diff_freq+weightage[2]*diff_power)\n",
    "    \n",
    "\n",
    "    \n",
    "    def square_rooted(x):\n",
    "        return round(sqrt(sum([a*a for a in x])),3)\n",
    " \n",
    "    def cosine_similarity(x,y):\n",
    "        numerator = sum(a*b for a,b in zip(x,y))\n",
    "        denominator = SpectraComparision.square_rooted(x)* SpectraComparision.square_rooted(y)\n",
    "        return round(numerator/float(denominator),3)"
   ]
  },
  {
   "cell_type": "markdown",
   "id": "49bd9a47",
   "metadata": {},
   "source": [
    "### Variable Declarations"
   ]
  },
  {
   "cell_type": "code",
   "execution_count": 3,
   "id": "ab966d87",
   "metadata": {},
   "outputs": [
    {
     "name": "stdout",
     "output_type": "stream",
     "text": [
      "Enter the totlal number of features you want to anaylze: 1\n"
     ]
    }
   ],
   "source": [
    "##txt file declarations\n",
    "txtPath = \"../data/LR-Raman_Processed/\"\n",
    "extensionTxt= 'txt'\n",
    "\n",
    "###sed file declarations\n",
    "espPath = \"../data/Vulcano Raman Processed/\"\n",
    "extensionEsp= 'txt'\n",
    "\n",
    "indidualplotlimit = 10\n",
    "limit = 6\n",
    "\n",
    "minWavelength = []\n",
    "maxWavelength = []\n",
    "\n",
    "minIndex = []\n",
    "maxIndex = []\n",
    "\n",
    "\n",
    "numberOfFeatureToAnalyze = int(input(\"Enter the totlal number of features you want to anaylze: \"))"
   ]
  },
  {
   "cell_type": "markdown",
   "id": "85571a6e",
   "metadata": {},
   "source": [
    "# Image Selection\n",
    "### Select if you want to plot graph or not"
   ]
  },
  {
   "cell_type": "code",
   "execution_count": 4,
   "id": "24ce7725",
   "metadata": {},
   "outputs": [],
   "source": [
    "toggleButton = widgets.ToggleButtons(\n",
    "    options=['No Image', 'Image'],\n",
    "    description='Select:',\n",
    "    disabled=False,\n",
    "    button_style='', # 'success', 'info', 'warning', 'danger' or ''\n",
    "    tooltips=['Generates only excel file', 'Generates excel files with graph plots'],\n",
    "#    icons=['check'] * 3\n",
    ")\n",
    "#toggleButton.observe(Widegets.on_value_change_toggle, names='value')"
   ]
  },
  {
   "cell_type": "code",
   "execution_count": 6,
   "id": "626435b2",
   "metadata": {},
   "outputs": [
    {
     "data": {
      "application/vnd.jupyter.widget-view+json": {
       "model_id": "a5efd71820bd4cefbd642549083723c6",
       "version_major": 2,
       "version_minor": 0
      },
      "text/plain": [
       "ToggleButtons(description='Select:', index=1, options=('No Image', 'Image'), tooltips=('Generates only excel f…"
      ]
     },
     "metadata": {},
     "output_type": "display_data"
    }
   ],
   "source": [
    "display(toggleButton)"
   ]
  },
  {
   "cell_type": "markdown",
   "id": "f10abff3",
   "metadata": {},
   "source": [
    "# Full Plot\n",
    "### Select if you want to plot graph for the entire spectral range"
   ]
  },
  {
   "cell_type": "code",
   "execution_count": 7,
   "id": "bc3e8653",
   "metadata": {},
   "outputs": [],
   "source": [
    "toggleButtonFullPlot = widgets.ToggleButtons(\n",
    "    options=['Yes', 'No'],\n",
    "    description='Select:',\n",
    "    disabled=False,\n",
    "    button_style='', # 'success', 'info', 'warning', 'danger' or ''\n",
    "    tooltips=['Also Generates Full plot', 'Only generates plot of selected region'],\n",
    "#    icons=['check'] * 3\n",
    ")"
   ]
  },
  {
   "cell_type": "code",
   "execution_count": 9,
   "id": "8e5748ed",
   "metadata": {},
   "outputs": [
    {
     "data": {
      "application/vnd.jupyter.widget-view+json": {
       "model_id": "838462e5f3fd480e9ffeba7dcd1974c3",
       "version_major": 2,
       "version_minor": 0
      },
      "text/plain": [
       "ToggleButtons(description='Select:', index=1, options=('Yes', 'No'), tooltips=('Also Generates Full plot', 'On…"
      ]
     },
     "metadata": {},
     "output_type": "display_data"
    }
   ],
   "source": [
    "display(toggleButtonFullPlot)"
   ]
  },
  {
   "cell_type": "markdown",
   "id": "9ec39bd0",
   "metadata": {},
   "source": [
    "# Individual plots\n",
    "### Select if you want to plot the graph for all the minerals together or each probale output as sepererate graph plot"
   ]
  },
  {
   "cell_type": "code",
   "execution_count": 10,
   "id": "6a0b6f53",
   "metadata": {},
   "outputs": [],
   "source": [
    "toggleButtonIndividualPlot = widgets.ToggleButtons(\n",
    "    options=['Yes', 'No'],\n",
    "    description='Select:',\n",
    "    disabled=False,\n",
    "    button_style='', # 'success', 'info', 'warning', 'danger' or ''\n",
    "    tooltips=['Generates Individual plots', 'Generates Combined Plots'],\n",
    "#    icons=['check'] * 3\n",
    ")"
   ]
  },
  {
   "cell_type": "code",
   "execution_count": 11,
   "id": "f90fd311",
   "metadata": {},
   "outputs": [
    {
     "data": {
      "application/vnd.jupyter.widget-view+json": {
       "model_id": "523feb1e1e394f18874cb74577c40f79",
       "version_major": 2,
       "version_minor": 0
      },
      "text/plain": [
       "ToggleButtons(description='Select:', options=('Yes', 'No'), tooltips=('Generates Individual plots', 'Generates…"
      ]
     },
     "metadata": {},
     "output_type": "display_data"
    }
   ],
   "source": [
    "display(toggleButtonIndividualPlot)"
   ]
  },
  {
   "cell_type": "markdown",
   "id": "b9ccc37f",
   "metadata": {},
   "source": [
    "# Declaring dynamic functions\n",
    "### Creating dynamic functions so the code if more adaptable and not hardcoded"
   ]
  },
  {
   "cell_type": "code",
   "execution_count": 12,
   "id": "6b0efdb7",
   "metadata": {},
   "outputs": [],
   "source": [
    "for i in range(numberOfFeatureToAnalyze):\n",
    "    exec(f\"\"\"def on_value_change_min_{i}(change): \n",
    "         new_min = change['new']\n",
    "         if new_min + 100 > maxWavelength[{i}].value:\n",
    "             minWavelength[{i}].value = maxWavelength[{i}].value - 100\"\"\")\n",
    "    \n",
    "    exec(f\"\"\"def on_value_change_max_{i}(change): \n",
    "         new_max = change['new']\n",
    "         if minWavelength[{i}].value > new_max - 100:\n",
    "             maxWavelength[{i}].value = minWavelength[{i}].value + 100\"\"\")"
   ]
  },
  {
   "cell_type": "code",
   "execution_count": 13,
   "id": "20bebd5e",
   "metadata": {},
   "outputs": [],
   "source": [
    "###Descibing wavelengths\n",
    "for ind in range(numberOfFeatureToAnalyze):\n",
    "    minWavelength.append(widgets.IntSlider(value=160, min=160, max=4000))\n",
    "    maxWavelength.append(widgets.IntSlider(value=4000, min=160, max=4000))\n",
    "    minWavelength[ind].description = 'min wav'\n",
    "    maxWavelength[ind].description = 'max wav'\n",
    "        \n",
    "    minWavelength[ind].observe(globals()['on_value_change_min_'+ str(ind)], names='value')\n",
    "    maxWavelength[ind].observe(globals()['on_value_change_max_'+ str(ind)], names='value')"
   ]
  },
  {
   "cell_type": "markdown",
   "id": "20947e61",
   "metadata": {},
   "source": [
    "# Select the wavelength range\n",
    "### Select the range to subset the data"
   ]
  },
  {
   "cell_type": "code",
   "execution_count": 15,
   "id": "3fe7f203",
   "metadata": {},
   "outputs": [
    {
     "name": "stdout",
     "output_type": "stream",
     "text": [
      "feature1\n"
     ]
    },
    {
     "data": {
      "application/vnd.jupyter.widget-view+json": {
       "model_id": "ce30085366d546318b7b24553fa63d45",
       "version_major": 2,
       "version_minor": 0
      },
      "text/plain": [
       "IntSlider(value=800, description='min wav', max=4000, min=160)"
      ]
     },
     "metadata": {},
     "output_type": "display_data"
    },
    {
     "data": {
      "application/vnd.jupyter.widget-view+json": {
       "model_id": "0a0dfe2d952a4a36964411f4d0cf8128",
       "version_major": 2,
       "version_minor": 0
      },
      "text/plain": [
       "IntSlider(value=1200, description='max wav', max=4000, min=160)"
      ]
     },
     "metadata": {},
     "output_type": "display_data"
    }
   ],
   "source": [
    "for ind in range(numberOfFeatureToAnalyze):\n",
    "    print('feature' + str(ind+1))\n",
    "    display(minWavelength[ind], maxWavelength[ind])"
   ]
  },
  {
   "cell_type": "code",
   "execution_count": 16,
   "id": "1dc7f1a5",
   "metadata": {},
   "outputs": [],
   "source": [
    "minIndex = []\n",
    "maxIndex = []\n",
    "for ind in range(numberOfFeatureToAnalyze):\n",
    "    minIndex.append(minWavelength[ind].value - 160)\n",
    "    maxIndex.append(maxWavelength[ind].value - 160 + 1)"
   ]
  },
  {
   "cell_type": "code",
   "execution_count": 17,
   "id": "8a6d2513",
   "metadata": {},
   "outputs": [
    {
     "data": {
      "text/plain": [
       "1041"
      ]
     },
     "execution_count": 17,
     "metadata": {},
     "output_type": "execute_result"
    }
   ],
   "source": [
    "maxIndex[0]"
   ]
  },
  {
   "cell_type": "code",
   "execution_count": null,
   "id": "a09aed1e",
   "metadata": {},
   "outputs": [],
   "source": []
  },
  {
   "cell_type": "markdown",
   "id": "c96be281",
   "metadata": {},
   "source": [
    "# Populating paths\n",
    "### Getting the paths to both reference spectrum and user input spectrum"
   ]
  },
  {
   "cell_type": "code",
   "execution_count": 18,
   "id": "5617485b",
   "metadata": {},
   "outputs": [],
   "source": [
    "txt_files = FolderAndFileProcessing.ReadFilePaths(txtPath,extensionTxt)\n",
    "esp_files = FolderAndFileProcessing.ReadFilePaths(espPath,extensionEsp)"
   ]
  },
  {
   "cell_type": "markdown",
   "id": "1d5ef8e5",
   "metadata": {},
   "source": [
    "# Defining wavelength range"
   ]
  },
  {
   "cell_type": "code",
   "execution_count": 19,
   "id": "7e37936c",
   "metadata": {},
   "outputs": [],
   "source": [
    "waveLength = list(range(160,4001))"
   ]
  },
  {
   "cell_type": "code",
   "execution_count": null,
   "id": "d672b967",
   "metadata": {},
   "outputs": [],
   "source": []
  },
  {
   "cell_type": "markdown",
   "id": "56126784",
   "metadata": {},
   "source": [
    "# Continium removal after splicing the data\n",
    "### Splice the ideal spectral data and remove the continium"
   ]
  },
  {
   "cell_type": "code",
   "execution_count": 20,
   "id": "7a4bf7ce",
   "metadata": {},
   "outputs": [
    {
     "data": {
      "application/vnd.jupyter.widget-view+json": {
       "model_id": "78c2d47926e045f4821b9b859674512a",
       "version_major": 2,
       "version_minor": 0
      },
      "text/plain": [
       "IntProgress(value=0, max=9554)"
      ]
     },
     "metadata": {},
     "output_type": "display_data"
    }
   ],
   "source": [
    "max_count = len(txt_files)\n",
    "for ind in range(numberOfFeatureToAnalyze):\n",
    "    minIndexTemp = minIndex[ind]\n",
    "    maxIndexTemp = maxIndex[ind]\n",
    "    globals()['fileListBaselineRemoval_'+str(ind)] = []\n",
    "    globals()['progreesBar'+str(ind)] = IntProgress(min=0, max=max_count) # instantiate the bar\n",
    "    display(globals()['progreesBar'+str(ind)]) # display the bar\n",
    "\n",
    "    for index in range(len(txt_files)):\n",
    "        #print(txt_files[index])\n",
    "        idealReflectance = FolderAndFileProcessing.GetValuesFromFile(txt_files[index], ' ','reflectance')\n",
    "        \n",
    "        \n",
    "        normalized_idealReflectance = preprocessing.normalize([idealReflectance[minIndexTemp:maxIndexTemp]])[0]\n",
    "        baseline_values = peakutils.baseline(normalized_idealReflectance)\n",
    "        baselineRemoved_idealReflectance = normalized_idealReflectance - baseline_values\n",
    "        \n",
    "        \n",
    "        globals()['fileListBaselineRemoval_'+str(ind)].append(baselineRemoved_idealReflectance)\n",
    "        globals()['progreesBar'+str(ind)].style = {'description_width': 'initial'}\n",
    "        globals()['progreesBar'+str(ind)].description = 'Loading ideal files feature '+ str(ind + 1) + ': ' + str(index + 1) + '/' + str(max_count)\n",
    "        globals()['progreesBar'+str(ind)].value += 1 # signal to increment the progress bar\n",
    "        \n",
    "        "
   ]
  },
  {
   "cell_type": "code",
   "execution_count": null,
   "id": "046477f0",
   "metadata": {},
   "outputs": [],
   "source": []
  },
  {
   "cell_type": "markdown",
   "id": "f99b98b8",
   "metadata": {},
   "source": [
    "### Remove the continium from the entire wavelegth of ideal spectral data "
   ]
  },
  {
   "cell_type": "code",
   "execution_count": 21,
   "id": "b2d94bd6",
   "metadata": {},
   "outputs": [],
   "source": [
    "fileListBaselineRemoval = []\n",
    "max_count = len(txt_files)\n",
    "\n",
    "if toggleButtonFullPlot.value == 'Yes':\n",
    "    progreesBar = IntProgress(min=0, max=max_count) # instantiate the bar\n",
    "    display(progreesBar) # display the bar\n",
    "    \n",
    "    for index in range(len(txt_files)):\n",
    "        idealReflectance = FolderAndFileProcessing.GetValuesFromFile(txt_files[index], ' ','reflectance')\n",
    "\n",
    "        \n",
    "        normalized_idealReflectance = preprocessing.normalize([idealReflectance])[0]\n",
    "        baseline_values = peakutils.baseline(normalized_spectraValue)\n",
    "        \n",
    "        \n",
    "        fileListContinumRemoval.append(baselineRemoved_idealReflectance)\n",
    "        \n",
    "        \n",
    "        #counter = counter + 1\n",
    "        #print('processed ' + str(counter))\n",
    "        progreesBar.style = {'description_width': 'initial'}\n",
    "        progreesBar.description = 'Loading ideal files ' + str(index + 1)\n",
    "        progreesBar.value += 1 # signal to increment the progress bar"
   ]
  },
  {
   "cell_type": "code",
   "execution_count": null,
   "id": "452d0f3f",
   "metadata": {},
   "outputs": [],
   "source": []
  },
  {
   "cell_type": "markdown",
   "id": "383e5622",
   "metadata": {},
   "source": [
    "# Analysis\n",
    "### Taking user data as input and writing the result in similar type of folder structure with weighted output for each input data stored with similar name in an excel file and graph plots stored as png"
   ]
  },
  {
   "cell_type": "code",
   "execution_count": 23,
   "id": "9bf5b775",
   "metadata": {},
   "outputs": [
    {
     "data": {
      "application/vnd.jupyter.widget-view+json": {
       "model_id": "26bb98831b5b4a378a4cb25374b16a86",
       "version_major": 2,
       "version_minor": 0
      },
      "text/plain": [
       "IntProgress(value=0, max=281)"
      ]
     },
     "metadata": {},
     "output_type": "display_data"
    }
   ],
   "source": [
    "max_countEsp = len(esp_files)\n",
    "progreesBarEsp = IntProgress(min=0, max=max_countEsp) \n",
    "display(progreesBarEsp)\n",
    "targetFolderToReplace = '/Vulcano Raman Processed'\n",
    "targetFolderNewName = '/Raman_SFF-Cross_800_1200_15Top'\n",
    "\n",
    "for index in range(len(esp_files)):\n",
    "    totalDict = {}\n",
    "    testData = FolderAndFileProcessing.GetValuesFromFile(esp_files[index], ' ','reflectance')\n",
    "    \n",
    "    targetfilename = esp_files[index].replace(targetFolderToReplace, targetFolderNewName).split('/')[-1].replace('.txt','.xlsx')\n",
    "    list_string = esp_files[index].replace(targetFolderToReplace, targetFolderNewName).split('/')[0:-1]\n",
    "    targetPath = '/'.join(list_string) + '/'\n",
    "    #testData = FolderAndFileProcessing.GetValuesFromFile(esp_files[index], 26, '\\t','Reflect. [1.0]')\n",
    "    minIndexTemp = 0\n",
    "    maxIndexTemp = 0\n",
    "    for indexRange in range(numberOfFeatureToAnalyze):\n",
    "        minIndexTemp = minIndex[indexRange]\n",
    "        maxIndexTemp = maxIndex[indexRange]\n",
    "        dictMineralValue = SpectraComparision.SFF_CrossCorrelation(txt_files, testData, globals()['fileListBaselineRemoval_'+str(indexRange)], waveLength, minIndexTemp, maxIndexTemp)\n",
    "        if len(totalDict) == 0:\n",
    "            totalDict = dict(dictMineralValue)\n",
    "        else:\n",
    "            tempDict = dict(dictMineralValue)\n",
    "            totalDict = FolderAndFileProcessing.combine_dicts(totalDict, tempDict)\n",
    "    totalDict = {k: v / numberOfFeatureToAnalyze for k, v in dict(totalDict).items()}\n",
    "    totalDict = sorted(totalDict.items(), key=lambda x: x[1], reverse=True)\n",
    "    FolderAndFileProcessing.WriteDictToExcel(targetPath, targetfilename, totalDict)\n",
    "    \n",
    "    \n",
    "    if toggleButton.value == 'No Image':\n",
    "        continue\n",
    "    \n",
    "    \n",
    "    if toggleButtonIndividualPlot.value == 'No':\n",
    "        \n",
    "        try:\n",
    "            counterMineral = 0\n",
    "            mineralNameList = [i for i,j in totalDict]\n",
    "            mineralNameListPruned = [i.split(' ')[0] for i in mineralNameList]\n",
    "            #mineralNameListDict = dict.fromkeys(set(mineralNameListPruned), False)\n",
    "            \n",
    "            normalized_spectraValue = preprocessing.normalize([testData[minIndexTemp:maxIndexTemp]])[0]\n",
    "            \n",
    "            minIndexTemp = 0\n",
    "            maxIndexTemp = 0\n",
    "            \n",
    "            for indexRange in range(numberOfFeatureToAnalyze):\n",
    "                minIndexTemp = minIndex[indexRange]\n",
    "                maxIndexTemp = maxIndex[indexRange]\n",
    "                \n",
    "                baseline_values = peakutils.baseline(normalized_spectraValue)\n",
    "                baselineRemoved_spectraValue = normalized_spectraValue - baseline_values\n",
    "                \n",
    "                #continumRemoved_spectraValue = sp.convex_hull_removal(normalized_spectraValue[minIndexTemp:maxIndexTemp], waveLength[minIndexTemp:maxIndexTemp])[0]\n",
    "                xaxis = list(range(minWavelength[indexRange].value,maxWavelength[indexRange].value + 1))\n",
    "                fig = plt.figure(figsize=(24, 12))\n",
    "                plt.plot(xaxis, baselineRemoved_spectraValue, label = targetfilename.replace('.xlsx',''))\n",
    "                \n",
    "                indexForWhile = 0\n",
    "                counterMineral = 0\n",
    "                mineralNameListDict = dict.fromkeys(set(mineralNameListPruned), False)\n",
    "                while counterMineral < limit:\n",
    "                    mineralName = totalDict[indexForWhile][0]\n",
    "                    \n",
    "                    if mineralNameListDict[mineralName.split(' ')[0]] == False:\n",
    "                        imagePath = list(s for s in txt_files if mineralName.lower() in s.lower())[0]\n",
    "                        signal = globals()['fileListBaselineRemoval_'+str(indexRange)][txt_files.index(imagePath)]\n",
    "                        plt.plot(xaxis, signal, label = mineralName)\n",
    "                        mineralNameListDict[mineralName.split(' ')[0]] = True\n",
    "                        counterMineral = counterMineral + 1\n",
    "                    \n",
    "                    indexForWhile = indexForWhile + 1\n",
    "                imageLabelRange = '_' + str(minIndexTemp + 160) + '_' + str(maxIndexTemp + 160 - 1)\n",
    "                plt.legend(loc=\"upper left\")\n",
    "                plt.savefig(esp_files[index].replace(targetFolderToReplace, targetFolderNewName).replace('.txt',imageLabelRange + '.png'), dpi=500)\n",
    "                plt.close()\n",
    "        except:\n",
    "            continue\n",
    "        \n",
    "        if toggleButtonFullPlot.value == 'Yes':\n",
    "            try:\n",
    "                counterMineral = 0\n",
    "                mineralNameList = [i for i,j in totalDict]\n",
    "                mineralNameListPruned = [i.split(' ')[0] for i in mineralNameList]\n",
    "                \n",
    "                normalized_spectraValue = preprocessing.normalize([testData])[0]\n",
    "                #continumRemoved_spectraValue = sp.convex_hull_removal(normalized_spectraValue, waveLength)[0]\n",
    "                \n",
    "                baseline_values = peakutils.baseline(normalized_spectraValue)\n",
    "                baselineRemoved_spectraValue = normalized_spectraValue - baseline_values\n",
    "                    \n",
    "                fig = plt.figure(figsize=(24, 12))\n",
    "                plt.plot(waveLength, baselineRemoved_spectraValue, label = targetfilename.replace('.xlsx',''))\n",
    "                    \n",
    "                indexForWhile = 0\n",
    "                counterMineral = 0\n",
    "                mineralNameListDict = dict.fromkeys(set(mineralNameListPruned), False)\n",
    "                while counterMineral < limit:\n",
    "                    mineralName = totalDict[indexForWhile][0]\n",
    "                    \n",
    "                    if mineralNameListDict[mineralName.split(' ')[0]] == False:\n",
    "                        imagePath = list(s for s in txt_files if mineralName.lower() in s.lower())[0]\n",
    "                        signal = continumRemoved_spectraValue[txt_files.index(imagePath)]\n",
    "                        plt.plot(waveLength, signal, label = mineralName)\n",
    "                        mineralNameListDict[mineralName.split(' ')[0]] = True\n",
    "                        counterMineral = counterMineral + 1\n",
    "                    \n",
    "                    indexForWhile = indexForWhile + 1\n",
    "                imageLabelRange = '_FullPlot'\n",
    "                plt.legend(loc=\"upper left\")\n",
    "                plt.savefig(esp_files[index].replace(targetFolderToReplace, targetFolderNewName).replace('.txt',imageLabelRange + '.png'), dpi=500)\n",
    "                plt.close()\n",
    "            except:\n",
    "                continue\n",
    "            \n",
    "            \n",
    "            \n",
    "            \n",
    "            \n",
    "            \n",
    "        \n",
    "     \n",
    "    \n",
    "    \n",
    "    else:\n",
    "        try:\n",
    "            counterMineral = 0\n",
    "            mineralNameList = [i for i,j in totalDict]\n",
    "            mineralNameListPruned = [i.split(' ')[0] for i in mineralNameList]\n",
    "            #mineralNameListDict = dict.fromkeys(set(mineralNameListPruned), False)\n",
    "        \n",
    "            normalized_spectraValue = preprocessing.normalize([testData[minIndexTemp:maxIndexTemp]])[0]\n",
    "            \n",
    "            minIndexTemp = 0\n",
    "            maxIndexTemp = 0\n",
    "            \n",
    "            for indexRange in range(numberOfFeatureToAnalyze):\n",
    "                minIndexTemp = minIndex[indexRange]\n",
    "                maxIndexTemp = maxIndex[indexRange]\n",
    "                \n",
    "                baseline_values = peakutils.baseline(normalized_spectraValue)\n",
    "                baselineRemoved_spectraValue = normalized_spectraValue - baseline_values\n",
    "                \n",
    "                #continumRemoved_spectraValue = sp.convex_hull_removal(normalized_spectraValue[minIndexTemp:maxIndexTemp], waveLength[minIndexTemp:maxIndexTemp])[0]\n",
    "                xaxis = list(range(minWavelength[indexRange].value,maxWavelength[indexRange].value + 1))\n",
    "                \n",
    "                indexForWhile = 0\n",
    "                counterMineral = 0\n",
    "                mineralNameListDict = dict.fromkeys(set(mineralNameListPruned), False)\n",
    "                while counterMineral < indidualplotlimit:\n",
    "                    mineralName = totalDict[indexForWhile][0]\n",
    "                    \n",
    "                    if mineralNameListDict[mineralName.split(' ')[0]] == False:\n",
    "                        fig = plt.figure(figsize=(24, 12))\n",
    "                        plt.plot(xaxis, baselineRemoved_spectraValue, label = targetfilename.replace('.xlsx',''))\n",
    "                        \n",
    "                        \n",
    "                        imagePath = list(s for s in txt_files if mineralName.lower() in s.lower())[0]\n",
    "                        signal = globals()['fileListBaselineRemoval_'+str(indexRange)][txt_files.index(imagePath)]\n",
    "                        plt.plot(xaxis, signal, label = mineralName)\n",
    "                        mineralNameListDict[mineralName.split(' ')[0]] = True\n",
    "                        counterMineral = counterMineral + 1\n",
    "                        \n",
    "                        targertFolderImages = esp_files[index].replace(targetFolderToReplace, targetFolderNewName).replace('.txt','') + '/'\n",
    "                        \n",
    "                        os.makedirs(targertFolderImages, exist_ok=True)\n",
    "                        imageLabelRange = '_' + str(minIndexTemp + 160) + '_' + str(maxIndexTemp + 160 - 1)\n",
    "                        individualImagePath = targertFolderImages + str(counterMineral) + '_' + mineralName.split('_')[0] + imageLabelRange + '.png'\n",
    "                        \n",
    "                        plt.legend(loc=\"upper left\")\n",
    "                        plt.savefig(individualImagePath, dpi=100)\n",
    "                        plt.close()\n",
    "                    \n",
    "                    indexForWhile = indexForWhile + 1\n",
    "        except:\n",
    "            continue\n",
    "            #raise\n",
    "            \n",
    "        \n",
    "        if toggleButtonFullPlot.value == 'Yes':\n",
    "            try:\n",
    "                counterMineral = 0\n",
    "                mineralNameList = [i for i,j in totalDict]\n",
    "                mineralNameListPruned = [i.split(' ')[0] for i in mineralNameList]\n",
    "            \n",
    "                normalized_spectraValue = preprocessing.normalize([testData])[0]\n",
    "                #continumRemoved_spectraValue = sp.convex_hull_removal(normalized_spectraValue, waveLength)[0]\n",
    "                \n",
    "                baseline_values = peakutils.baseline(normalized_spectraValue)\n",
    "                baselineRemoved_spectraValue = normalized_spectraValue - baseline_values\n",
    "                \n",
    "                \n",
    "                for indexRange in range(numberOfFeatureToAnalyze):\n",
    "                    \n",
    "                    indexForWhile = 0\n",
    "                    counterMineral = 0\n",
    "                    mineralNameListDict = dict.fromkeys(set(mineralNameListPruned), False)\n",
    "                    while counterMineral < indidualplotlimit:\n",
    "                        mineralName = totalDict[indexForWhile][0]\n",
    "                        \n",
    "                        if mineralNameListDict[mineralName.split(' ')[0]] == False:\n",
    "                            fig = plt.figure(figsize=(24, 12))\n",
    "                            plt.plot(waveLength, baselineRemoved_spectraValue, label = targetfilename.replace('.xlsx',''))\n",
    "                            \n",
    "                            \n",
    "                            imagePath = list(s for s in txt_files if mineralName.lower() in s.lower())[0]\n",
    "                            signal = fileListBaselineRemoval[txt_files.index(imagePath)]\n",
    "                            plt.plot(waveLength, signal, label = mineralName)\n",
    "                            mineralNameListDict[mineralName.split(' ')[0]] = True\n",
    "                            counterMineral = counterMineral + 1\n",
    "                            \n",
    "                            targertFolderImages = esp_files[index].replace(targetFolderToReplace, targetFolderNewName).replace('.txt','') + '/fullWavelength/'\n",
    "                            \n",
    "                            os.makedirs(targertFolderImages, exist_ok=True)\n",
    "                            individualImagePath =  targertFolderImages + str(counterMineral) + '_' + mineralName.split('_')[0] + '.png'\n",
    "                            \n",
    "                            plt.legend(loc=\"upper left\") \n",
    "                            plt.savefig(individualImagePath, dpi=100)\n",
    "                            plt.close()\n",
    "                        \n",
    "                        indexForWhile = indexForWhile + 1\n",
    "            except:\n",
    "                continue\n",
    "             \n",
    "            \n",
    "    progreesBarEsp.style = {'description_width': 'initial'}\n",
    "    progreesBarEsp.description = 'Processing files ' + str(index + 1)\n",
    "    progreesBarEsp.value += 1 # signal to increment the progress bar\n",
    "            "
   ]
  },
  {
   "cell_type": "code",
   "execution_count": null,
   "id": "e5a7d446",
   "metadata": {},
   "outputs": [],
   "source": []
  }
 ],
 "metadata": {
  "kernelspec": {
   "display_name": "Python 3 (ipykernel)",
   "language": "python",
   "name": "python3"
  },
  "language_info": {
   "codemirror_mode": {
    "name": "ipython",
    "version": 3
   },
   "file_extension": ".py",
   "mimetype": "text/x-python",
   "name": "python",
   "nbconvert_exporter": "python",
   "pygments_lexer": "ipython3",
   "version": "3.8.12"
  }
 },
 "nbformat": 4,
 "nbformat_minor": 5
}
