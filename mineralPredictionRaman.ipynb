{
 "cells": [
  {
   "cell_type": "code",
   "execution_count": 160,
   "id": "9d303b1b",
   "metadata": {},
   "outputs": [],
   "source": [
    "import numpy as np\n",
    "import pandas as pd\n",
    "import matplotlib.pyplot as plt\n",
    "import scipy\n",
    "import os\n",
    "import glob\n",
    "from sklearn import preprocessing\n",
    "from pysptools import spectro as sp\n",
    "from IPython.display import display\n",
    "import ipywidgets as widgets\n",
    "from math import*"
   ]
  },
  {
   "cell_type": "code",
   "execution_count": 175,
   "id": "ef3566c1",
   "metadata": {},
   "outputs": [],
   "source": [
    "### https://pysptools.sourceforge.io/distance.html\n",
    "### https://dataaspirant.com/five-most-popular-similarity-measures-implementation-in-python/\n",
    "### https://towardsdatascience.com/four-ways-to-quantify-synchrony-between-time-series-data-b99136c4a9c9\n",
    "### https://towardsdatascience.com/classical-least-squares-method-for-quantitative-spectral-analysis-with-python-1926473a802c\n",
    "\n",
    "class Widegets:\n",
    "    def on_value_change_min(change):\n",
    "        new_min = change['new']\n",
    "        if new_min + 100 > maxWavelength.value:\n",
    "            minWavelength.value = maxWavelength.value - 100\n",
    "\n",
    "    def on_value_change_max(change):\n",
    "        new_max = change['new']\n",
    "        if minWavelength.value > new_max - 100:\n",
    "            maxWavelength.value = minWavelength.value + 100\n",
    "        \n",
    "        \n",
    "class FolderAndFileProcessing:\n",
    "    def ReadFilePaths(source, ext):\n",
    "        return glob.glob(source + \"/**/*.\" + ext, recursive = True)\n",
    "    \n",
    "    def ReadFile(file, seperation):\n",
    "        return pd.read_csv(file, sep = seperation)\n",
    "    \n",
    "    def GetValuesFromFile(file, seperation, column):\n",
    "        fileData = FolderAndFileProcessing.ReadFile(file, seperation)\n",
    "        return fileData[column]\n",
    "    \n",
    "    def WriteDictToExcel(targetPath, filename, dictionary):\n",
    "        df = pd.DataFrame.from_dict(dictionary)\n",
    "        os.makedirs(targetPath, exist_ok=True)\n",
    "        df.to_excel(targetPath+filename)\n",
    "        \n",
    "class SpectraComparision:\n",
    "    \n",
    "    def MeanSquareRootComparision(fileList, spectraValue, filenameList, minIndex, maxIndex):\n",
    "        mineralScore = {}\n",
    "        for index in range(len(fileList)):\n",
    "            idealReflectance = fileList[index]\n",
    "            result = spectraValue[minIndex:maxIndex] - idealReflectance[minIndex:maxIndex]\n",
    "            score = np.sqrt(np.mean(result**2))\n",
    "            mineralScore[filenameList[index].split('/')[-1].split('_')[0]] = score\n",
    "        mineralScore = sorted(mineralScore.items(), key=lambda x: x[1])\n",
    "        return mineralScore\n",
    "    \n",
    "    def MeanSquareRootComparisionNormalized(fileList, spectraValue, filenameList, minIndex, maxIndex):\n",
    "        mineralScore = {}\n",
    "        for index in range(len(fileList)):\n",
    "            idealReflectance = fileList[index]\n",
    "            result = spectraValue[minIndex:maxIndex] - idealReflectance[minIndex:maxIndex]\n",
    "            score = np.sqrt(np.mean(result**2))\n",
    "            mineralScore[filenameList[index].split('/')[-1].split('_')[0]] = score\n",
    "        mineralScore = sorted(mineralScore.items(), key=lambda x: x[1])\n",
    "        return mineralScore\n",
    "    \n",
    "    def CrossCorrelation(fileList, spectraValue, filenameList, minIndex, maxIndex):\n",
    "        mineralScore = {}\n",
    "        for index in range(len(fileList)):\n",
    "            idealReflectance = fileList[index]\n",
    "            result = np.corrcoef(spectraValue[minIndex:maxIndex], idealReflectance[minIndex:maxIndex])\n",
    "            score = result[0, 1]\n",
    "            mineralScore[filenameList[index].split('/')[-1].split('_')[0]] = score\n",
    "        mineralScore = sorted(mineralScore.items(), key=lambda x: x[1], reverse=True)\n",
    "        return mineralScore\n",
    "    \n",
    "    def CosineSimilarityContinumRemoved(fileList, spectraValue, filenameList, minIndex, maxIndex):\n",
    "        mineralScore = {}\n",
    "        for index in range(len(fileList)):\n",
    "            idealReflectance = fileList[index]\n",
    "            score = SpectraComparision.cosine_similarity(spectraValue[minIndex:maxIndex], idealReflectance[minIndex:maxIndex])\n",
    "            mineralScore[filenameList[index].split('/')[-1].split('_')[0]] = score\n",
    "        mineralScore = sorted(mineralScore.items(), key=lambda x: x[1], reverse=True)\n",
    "        return mineralScore\n",
    "    \n",
    "    def computeSimilarityContinumRemoved(fileList, spectraValue, filenameList, minIndex, maxIndex):\n",
    "        mineralScore = {}\n",
    "        for index in range(len(fileList)):\n",
    "            idealReflectance = fileList[index]\n",
    "            score = SpectraComparision.compute_similarity(spectraValue[minIndex:maxIndex], idealReflectance[minIndex:maxIndex])\n",
    "            mineralScore[filenameList[index].split('/')[-1].split('_')[0]] = score\n",
    "        mineralScore = sorted(mineralScore.items(), key=lambda x: x[1])\n",
    "        return mineralScore\n",
    "    \n",
    "    def SAM(fileList, spectraValue, filenameList, minIndex, maxIndex):\n",
    "        mineralScore = {}\n",
    "        for index in range(len(fileList)):\n",
    "            idealReflectance = fileList[index]\n",
    "            score = distance.SAM(spectraValue[minIndex:maxIndex], idealReflectance[minIndex:maxIndex])\n",
    "            mineralScore[filenameList[index].split('/')[-1].split('_')[0]] = score\n",
    "        mineralScore = sorted(mineralScore.items(), key=lambda x: x[1], reverse=True)\n",
    "        return mineralScore\n",
    "    \n",
    "    def chebyshev(fileList, spectraValue, filenameList, minIndex, maxIndex):\n",
    "        mineralScore = {}\n",
    "        for index in range(len(fileList)):\n",
    "            idealReflectance = fileList[index]\n",
    "            score = distance.chebyshev(spectraValue[minIndex:maxIndex], idealReflectance[minIndex:maxIndex])\n",
    "            mineralScore[filenameList[index].split('/')[-1].split('_')[0]] = score\n",
    "        mineralScore = sorted(mineralScore.items(), key=lambda x: x[1])\n",
    "        return mineralScore\n",
    "\n",
    "    def SpectralInformationDivergence(fileList, spectraValue, fileListContinumRemoval, waveLength, minIndex, maxIndex):\n",
    "        mineralScore = {}\n",
    "        for index in range(len(fileList)):\n",
    "            idealReflectance = fileList[index]\n",
    "            score = distance.SID(spectraValue[minIndex:maxIndex], idealReflectance[minIndex:maxIndex])\n",
    "            mineralScore[filenameList[index].split('/')[-1].split('_')[0]] = score\n",
    "        mineralScore = sorted(mineralScore.items(), key=lambda x: x[1])\n",
    "        return mineralScore\n",
    "    \n",
    "    def compute_similarity(ref_rec,input_rec,weightage=[0.33,0.33,0.33]):\n",
    "        ref_rec = np.array(ref_rec)\n",
    "        input_rec = np.array(input_rec)\n",
    "        ## Time domain similarity\n",
    "        ref_time = np.correlate(ref_rec,ref_rec)    \n",
    "        inp_time = np.correlate(ref_rec,input_rec)\n",
    "        diff_time = abs(ref_time-inp_time)\n",
    "\n",
    "        ## Freq domain similarity\n",
    "        ref_freq = np.correlate(np.fft.fft(ref_rec),np.fft.fft(ref_rec)) \n",
    "        inp_freq = np.correlate(np.fft.fft(ref_rec),np.fft.fft(input_rec))\n",
    "        diff_freq = abs(ref_freq-inp_freq)\n",
    "\n",
    "        ## Power similarity\n",
    "        ref_power = np.sum(ref_rec**2)\n",
    "        inp_power = np.sum(input_rec**2)\n",
    "        diff_power = abs(ref_power-inp_power)\n",
    "        \n",
    "        return float(weightage[0]*diff_time+weightage[1]*diff_freq+weightage[2]*diff_power)\n",
    "    \n",
    "\n",
    "    \n",
    "    def square_rooted(x):\n",
    "        return round(sqrt(sum([a*a for a in x])),3)\n",
    " \n",
    "    def cosine_similarity(x,y):\n",
    "        numerator = sum(a*b for a,b in zip(x,y))\n",
    "        denominator = SpectraComparision.square_rooted(x)* SpectraComparision.square_rooted(y)\n",
    "        return round(numerator/float(denominator),3)"
   ]
  },
  {
   "cell_type": "markdown",
   "id": "49bd9a47",
   "metadata": {},
   "source": [
    "### Variable Declarations"
   ]
  },
  {
   "cell_type": "code",
   "execution_count": 162,
   "id": "ab966d87",
   "metadata": {},
   "outputs": [],
   "source": [
    "##txt file declarations\n",
    "txtPath = \"../data/LR-Raman_Processed/\"\n",
    "extensionTxt= 'txt'\n",
    "\n",
    "###sed file declarations\n",
    "espPath = \"../data/Vulcano Raman Processed/\"\n",
    "extensionEsp= 'txt'\n",
    "\n",
    "###Descibing wavelengths\n",
    "minWavelength = widgets.IntSlider(value=160, min=160, max=4000)\n",
    "maxWavelength = widgets.IntSlider(value=4000, min=160, max=4000)\n",
    "minWavelength.description = 'min wav'\n",
    "maxWavelength.description = 'max wav'\n",
    "        \n",
    "minWavelength.observe(Widegets.on_value_change_min, names='value')\n",
    "maxWavelength.observe(Widegets.on_value_change_max, names='value')"
   ]
  },
  {
   "cell_type": "markdown",
   "id": "5be077eb",
   "metadata": {},
   "source": [
    "### Select the wavelength range"
   ]
  },
  {
   "cell_type": "code",
   "execution_count": 173,
   "id": "47ea5fdc",
   "metadata": {},
   "outputs": [
    {
     "data": {
      "application/vnd.jupyter.widget-view+json": {
       "model_id": "f2b0047279a74f97b6667e005245a8c9",
       "version_major": 2,
       "version_minor": 0
      },
      "text/plain": [
       "IntSlider(value=160, description='min wav', max=4000, min=160)"
      ]
     },
     "metadata": {},
     "output_type": "display_data"
    },
    {
     "data": {
      "application/vnd.jupyter.widget-view+json": {
       "model_id": "195d8818526e4fbda374259ef8348597",
       "version_major": 2,
       "version_minor": 0
      },
      "text/plain": [
       "IntSlider(value=1300, description='max wav', max=4000, min=160)"
      ]
     },
     "metadata": {},
     "output_type": "display_data"
    }
   ],
   "source": [
    "display(minWavelength, maxWavelength)"
   ]
  },
  {
   "cell_type": "code",
   "execution_count": 165,
   "id": "38620cad",
   "metadata": {},
   "outputs": [],
   "source": [
    "minIndex = minWavelength.value - 160\n",
    "maxIndex = maxWavelength.value - 160 + 1"
   ]
  },
  {
   "cell_type": "code",
   "execution_count": 166,
   "id": "f44b3f53",
   "metadata": {},
   "outputs": [
    {
     "data": {
      "text/plain": [
       "1141"
      ]
     },
     "execution_count": 166,
     "metadata": {},
     "output_type": "execute_result"
    }
   ],
   "source": [
    "maxIndex"
   ]
  },
  {
   "cell_type": "markdown",
   "id": "c96be281",
   "metadata": {},
   "source": [
    "### Populating paths"
   ]
  },
  {
   "cell_type": "code",
   "execution_count": 167,
   "id": "ef81bce4",
   "metadata": {},
   "outputs": [],
   "source": [
    "txt_files = FolderAndFileProcessing.ReadFilePaths(txtPath,extensionTxt)\n",
    "esp_files = FolderAndFileProcessing.ReadFilePaths(espPath,extensionEsp)"
   ]
  },
  {
   "cell_type": "markdown",
   "id": "dc475914",
   "metadata": {},
   "source": [
    "### Loading Ideal Dataset"
   ]
  },
  {
   "cell_type": "code",
   "execution_count": 168,
   "id": "26a020bc",
   "metadata": {},
   "outputs": [],
   "source": [
    "idealFileList = []\n",
    "for index in range(len(txt_files)):\n",
    "    idealReflectance = FolderAndFileProcessing.GetValuesFromFile(txt_files[index], ' ','reflectance')\n",
    "    idealFileList.append(idealReflectance)"
   ]
  },
  {
   "cell_type": "code",
   "execution_count": 169,
   "id": "20ca91fd",
   "metadata": {},
   "outputs": [
    {
     "data": {
      "text/plain": [
       "'Antlerite'"
      ]
     },
     "execution_count": 169,
     "metadata": {},
     "output_type": "execute_result"
    }
   ],
   "source": [
    "txt_files[0].split('/')[-1].split('_')[0]"
   ]
  },
  {
   "cell_type": "markdown",
   "id": "68dbc2eb",
   "metadata": {},
   "source": [
    "### results"
   ]
  },
  {
   "cell_type": "code",
   "execution_count": 74,
   "id": "5ee94ed5",
   "metadata": {},
   "outputs": [],
   "source": [
    "for index in range(len(esp_files)):\n",
    "    testData = FolderAndFileProcessing.GetValuesFromFile(esp_files[index], ' ','reflectance')\n",
    "    dictMineralValue = SpectraComparision.CrossCorrelation(idealFileList, testData, txt_files, minIndex, maxIndex)\n",
    "    targetfilename = esp_files[index].replace('/Vulcano Raman Processed','/CrossCorrelation_1300').split('/')[-1].replace('.txt','.xlsx')\n",
    "    list_string = esp_files[index].replace('/Vulcano Raman Processed','/CrossCorrelation_1300').split('/')[0:-1]\n",
    "    targetPath = '/'.join(list_string) + '/'\n",
    "    FolderAndFileProcessing.WriteDictToExcel(targetPath, targetfilename, dictMineralValue)"
   ]
  },
  {
   "cell_type": "markdown",
   "id": "e6bb1247",
   "metadata": {},
   "source": [
    "### Plot images with the results"
   ]
  },
  {
   "cell_type": "code",
   "execution_count": 171,
   "id": "e2c2bab0",
   "metadata": {},
   "outputs": [],
   "source": [
    "for index in range(len(esp_files)):\n",
    "    testData = FolderAndFileProcessing.GetValuesFromFile(esp_files[index], ' ','reflectance')\n",
    "    dictMineralValue = SpectraComparision.CosineSimilarityContinumRemoved(idealFileList, testData, txt_files, minIndex, maxIndex)\n",
    "    targetfilename = esp_files[index].replace('/Vulcano Raman Processed','/CosineSimilarity_1300').split('/')[-1].replace('.txt','.xlsx')\n",
    "    list_string = esp_files[index].replace('/Vulcano Raman Processed','/CosineSimilarity_1300').split('/')[0:-1]\n",
    "    targetPath = '/'.join(list_string) + '/'\n",
    "    FolderAndFileProcessing.WriteDictToExcel(targetPath, targetfilename, dictMineralValue)\n",
    "    \n",
    "    mineral1 = dictMineralValue[0][0]\n",
    "    mineral2 = dictMineralValue[1][0]\n",
    "    mineral3 = dictMineralValue[2][0]\n",
    "    mineral4 = dictMineralValue[3][0]\n",
    "    mineral5 = dictMineralValue[4][0]\n",
    "    mineral6 = dictMineralValue[5][0]\n",
    "    \n",
    "    imagePath1 = list(s for s in txt_files if mineral1.lower() in s.lower())[0]\n",
    "    imagePath2 = list(s for s in txt_files if mineral2.lower() in s.lower())[0]\n",
    "    imagePath3 = list(s for s in txt_files if mineral3.lower() in s.lower())[0]\n",
    "    imagePath4 = list(s for s in txt_files if mineral4.lower() in s.lower())[0]\n",
    "    imagePath5 = list(s for s in txt_files if mineral5.lower() in s.lower())[0]\n",
    "    imagePath6 = list(s for s in txt_files if mineral6.lower() in s.lower())[0]\n",
    "    \n",
    "    signal1 = FolderAndFileProcessing.GetValuesFromFile(imagePath1, ' ','reflectance')\n",
    "    signal2 = FolderAndFileProcessing.GetValuesFromFile(imagePath2, ' ','reflectance')\n",
    "    signal3 = FolderAndFileProcessing.GetValuesFromFile(imagePath3, ' ','reflectance')\n",
    "    signal4 = FolderAndFileProcessing.GetValuesFromFile(imagePath4, ' ','reflectance')\n",
    "    signal5 = FolderAndFileProcessing.GetValuesFromFile(imagePath5, ' ','reflectance')\n",
    "    signal6 = FolderAndFileProcessing.GetValuesFromFile(imagePath6, ' ','reflectance')\n",
    "    \n",
    "    xaxis = list(range(minWavelength.value,maxWavelength.value + 1))\n",
    "    fig = plt.figure(figsize=(24, 12))\n",
    "    plt.plot(xaxis, testData[minIndex:maxIndex], label = targetfilename.replace('.xlsx',''))\n",
    "    plt.plot(xaxis, signal1[minIndex:maxIndex], label = mineral1)\n",
    "    plt.plot(xaxis, signal2[minIndex:maxIndex], label = mineral2)\n",
    "    plt.plot(xaxis, signal3[minIndex:maxIndex], label = mineral3)\n",
    "    plt.plot(xaxis, signal4[minIndex:maxIndex], label = mineral4)\n",
    "    plt.plot(xaxis, signal5[minIndex:maxIndex], label = mineral5)\n",
    "    plt.plot(xaxis, signal6[minIndex:maxIndex], label = mineral6)\n",
    "    plt.legend(loc=\"upper left\")\n",
    "    plt.savefig(esp_files[index].replace('/Vulcano Raman Processed', '/CosineSimilarity_1300').replace('txt','png'), dpi=500)\n",
    "    plt.close()"
   ]
  },
  {
   "cell_type": "code",
   "execution_count": null,
   "id": "9bf5b775",
   "metadata": {},
   "outputs": [],
   "source": []
  }
 ],
 "metadata": {
  "kernelspec": {
   "display_name": "Python 3 (ipykernel)",
   "language": "python",
   "name": "python3"
  },
  "language_info": {
   "codemirror_mode": {
    "name": "ipython",
    "version": 3
   },
   "file_extension": ".py",
   "mimetype": "text/x-python",
   "name": "python",
   "nbconvert_exporter": "python",
   "pygments_lexer": "ipython3",
   "version": "3.8.12"
  }
 },
 "nbformat": 4,
 "nbformat_minor": 5
}
