{
 "cells": [
  {
   "cell_type": "markdown",
   "id": "fba4423f",
   "metadata": {},
   "source": [
    "# Loading python libraries\n",
    "#### Python is developed under an OSI-approved open source license, making it freely usable and distributable, even for commercial use."
   ]
  },
  {
   "cell_type": "code",
   "execution_count": 316,
   "id": "9d303b1b",
   "metadata": {},
   "outputs": [],
   "source": [
    "import numpy as np\n",
    "import pandas as pd\n",
    "import matplotlib.pyplot as plt\n",
    "import scipy\n",
    "import os\n",
    "import glob\n",
    "from sklearn import preprocessing\n",
    "from pysptools import spectro as sp\n",
    "from pysptools import distance\n",
    "from IPython.display import display\n",
    "import ipywidgets as widgets\n",
    "from math import*\n",
    "from ipywidgets import IntProgress\n",
    "from sklearn.metrics import mean_squared_error, r2_score\n",
    "import seaborn as sns\n",
    "from sklearn.metrics import auc"
   ]
  },
  {
   "cell_type": "markdown",
   "id": "070b19a6",
   "metadata": {},
   "source": [
    "# Loading Functions\n",
    "\n",
    "* Widegets\n",
    "    * on_value_change_min - this function monitors the change in value of the slider\n",
    "    * on_value_change_max - this function monitors the change in value of the slider\n",
    "* FolderAndFileProcessing\n",
    "    * ReadFilePaths - This function takes input as source folder and file extension and returns the path of all the files inside the folder with the supplied extension\n",
    "    * ReadFile - This functions purpose is to read individual file, it takes file path, rows to skip while reading the file and type of seperation as input\n",
    "    * GetValuesFromFile - This function uses ReadFile read a file and then filters out desired column\n",
    "    * WriteDictToExcel - This function is used to write the output of the analysis to excel file\n",
    "    * combine_dicts - This function is used to combine two dictionaries in python into one dictionary\n",
    "* SpectraComparision(all functions normalizes and removes continum after subsetting the spectral signals)\n",
    "    * SFF - This function takes reference spectra and user input spectrum as input and process the signals using root mean squared algorithm and generates the score table with most probable mineral having the least score\n",
    "    * SAM - This function takes reference spectra and user input spectrum as input and process the signals using root mean squared algorithm and generates the score table with most probable mineral having the least score\n",
    "    * SFF_CrossCorrelation - This function takes reference spectra and user input spectrum as input and process the signals using cross-correlation algorithm and generates the score table with most probable mineral having the highest score(closer to 1) and least probable mineral having the lowest score(closer to -1)\n",
    "    * SpectralInformationDivergence - Computes the spectral information divergence between two vectors."
   ]
  },
  {
   "cell_type": "code",
   "execution_count": 317,
   "id": "ef3566c1",
   "metadata": {},
   "outputs": [],
   "source": [
    "### https://dataaspirant.com/five-most-popular-similarity-measures-implementation-in-python/\n",
    "### https://towardsdatascience.com/four-ways-to-quantify-synchrony-between-time-series-data-b99136c4a9c9\n",
    "        \n",
    "class FolderAndFileProcessing:\n",
    "    def ReadFilePaths(source, ext):\n",
    "        return glob.glob(source + \"/**/*.\" + ext, recursive = True)\n",
    "    \n",
    "    def ReadFile(file, rowToSkip, seperation):\n",
    "        return pd.read_csv(file ,skiprows = rowToSkip, sep = seperation) \n",
    "    \n",
    "    def GetValuesFromFile(file, rowToSkip, seperation, column):\n",
    "        fileData = FolderAndFileProcessing.ReadFile(file , rowToSkip, seperation)\n",
    "        return fileData[column]\n",
    "    \n",
    "    def WriteDictToExcel(targetPath, filename, dictionary):\n",
    "        df = pd.DataFrame.from_dict(dictionary)\n",
    "        os.makedirs(targetPath, exist_ok=True)\n",
    "        df.to_excel(targetPath+filename)\n",
    "    \n",
    "    def combine_dicts(a, b):\n",
    "        for key in b:\n",
    "            if key in a:\n",
    "                if b[key] <  a[key]:\n",
    "                    b[key] = a[key]\n",
    "                #b[key] = b[key] + a[key]\n",
    "        c = {**a, **b}\n",
    "        return c\n",
    "        \n",
    "class SpectraComparision:\n",
    "    \n",
    "    \n",
    "    \n",
    "    def SFF_SAM(fileList, spectraValue, fileListContinumRemoval, waveLength, minIndex, maxIndex, fileListNonContinumRemoval):\n",
    "        mineralScore = {}\n",
    "        normalized_spectraValue = preprocessing.normalize([spectraValue[minIndex:maxIndex]])[0]\n",
    "        try:\n",
    "            continumRemoved_spectraValue = sp.convex_hull_removal(normalized_spectraValue, waveLength[minIndex:maxIndex])[0]\n",
    "        except:\n",
    "            return mineralScore\n",
    "        for index in range(len(fileList)):\n",
    "            continumRemoved_idealReflectance = fileListContinumRemoval[index]\n",
    "            nonContinumRemoved_idealReflectance = fileListNonContinumRemoval[index]\n",
    "            \n",
    "            scoreSam = distance.SAM(normalized_spectraValue, nonContinumRemoved_idealReflectance)\n",
    "            scoreSam = 1 - scoreSam\n",
    "            scoreSFF = distance.NormXCorr(np.array(continumRemoved_spectraValue), np.array(continumRemoved_idealReflectance))\n",
    "            score = scoreSFF + scoreSam\n",
    "            mineralScore[fileList[index].split('/')[-1].replace('_AREF.txt','').replace('.txt','').replace('s07_ASD_','')] = score\n",
    "        mineralScore = sorted(mineralScore.items(), key=lambda x: x[1], reverse=True)\n",
    "        return mineralScore\n",
    "    \n",
    "    def SFF_SAM_BE(fileList, spectraValue, fileListContinumRemoval, waveLength, minIndex, maxIndex, fileListNonContinumRemoval):\n",
    "        mineralScore = {}\n",
    "        normalized_spectraValue = preprocessing.normalize([spectraValue[minIndex:maxIndex]])[0]\n",
    "        \n",
    "        normalized_spectraValueBE = np.array(preprocessing.normalize([spectraValue[minIndex:maxIndex]])[0])\n",
    "        normalized_spectraValueBE = normalized_spectraValueBE - normalized_spectraValueBE.mean()\n",
    "        normalized_spectraValueBE = 1*(normalized_spectraValueBE >= 0)\n",
    "        \n",
    "        try:\n",
    "            continumRemoved_spectraValue = sp.convex_hull_removal(normalized_spectraValue, waveLength[minIndex:maxIndex])[0]\n",
    "        except:\n",
    "            return mineralScore\n",
    "        for index in range(len(fileList)):\n",
    "            continumRemoved_idealReflectance = fileListContinumRemoval[index]\n",
    "            nonContinumRemoved_idealReflectance = fileListNonContinumRemoval[index]\n",
    "            \n",
    "            scoreSam = distance.SAM(normalized_spectraValue, nonContinumRemoved_idealReflectance)\n",
    "            scoreSam = 1 - scoreSam\n",
    "            scoreSFF = distance.NormXCorr(np.array(continumRemoved_spectraValue), np.array(continumRemoved_idealReflectance))\n",
    "            \n",
    "            noncontinumRemoved_idealReflectanceBE = np.array(fileListNonContinumRemoval[index])\n",
    "            noncontinumRemoved_idealReflectanceBE = noncontinumRemoved_idealReflectanceBE - noncontinumRemoved_idealReflectanceBE.mean()\n",
    "            noncontinumRemoved_idealReflectanceBE = 1*(noncontinumRemoved_idealReflectanceBE >= 0)\n",
    "            \n",
    "            scoreBE = 1*(normalized_spectraValueBE != noncontinumRemoved_idealReflectanceBE)\n",
    "            scoreBE = scoreBE.mean()\n",
    "            scoreBE = 1 - scoreBE\n",
    "            \n",
    "            \n",
    "            score = scoreSFF + scoreSam + scoreBE\n",
    "            mineralScore[fileList[index].split('/')[-1].replace('_AREF.txt','').replace('.txt','').replace('s07_ASD_','')] = score\n",
    "        mineralScore = sorted(mineralScore.items(), key=lambda x: x[1], reverse=True)\n",
    "        return mineralScore\n",
    "    \n",
    "    def CombinedAlgorithmsResult(fileList, spectraValue, fileListContinumRemoval, waveLength, minIndex, maxIndex, fileListNonContinumRemoval):\n",
    "        mineralScore = {}\n",
    "        normalized_spectraValue = preprocessing.normalize([spectraValue[minIndex:maxIndex]])[0]\n",
    "        try:\n",
    "            continumRemoved_spectraValue = sp.convex_hull_removal(normalized_spectraValue, waveLength[minIndex:maxIndex])[0]\n",
    "        except:\n",
    "            return mineralScore\n",
    "        for index in range(len(fileList)):\n",
    "            continumRemoved_idealReflectance = fileListContinumRemoval[index]\n",
    "            nonContinumRemoved_idealReflectance = fileListNonContinumRemoval[index]\n",
    "            \n",
    "            scoreSam = distance.SAM(normalized_spectraValue, nonContinumRemoved_idealReflectance)\n",
    "            scoreSam = 1 - scoreSam\n",
    "            \n",
    "            scoreSFF = distance.NormXCorr(np.array(continumRemoved_spectraValue), np.array(continumRemoved_idealReflectance))\n",
    "            \n",
    "            \n",
    "            scoreSID = distance.SID(normalized_spectraValue, nonContinumRemoved_idealReflectance)\n",
    "            scoreSID = 1 - scoreSID\n",
    "            \n",
    "            \n",
    "            score = scoreSFF + scoreSam + scoreSID\n",
    "            \n",
    "            \n",
    "            mineralScore[fileList[index].split('/')[-1].replace('_AREF.txt','').replace('.txt','').replace('s07_ASD_','')] = score\n",
    "        mineralScore = sorted(mineralScore.items(), key=lambda x: x[1], reverse=True)\n",
    "        return mineralScore\n",
    "    \n",
    "    def BinaryEncoding(fileList, spectraValue, fileListContinumRemoval, waveLength, minIndex, maxIndex):\n",
    "        \n",
    "        mineralScore = {}\n",
    "        normalized_spectraValue = np.array(preprocessing.normalize([spectraValue[minIndex:maxIndex]])[0])\n",
    "        normalized_spectraValue = normalized_spectraValue - normalized_spectraValue.mean()\n",
    "        normalized_spectraValue = 1*(normalized_spectraValue >= 0)\n",
    "\n",
    "        for index in range(len(fileList)):\n",
    "            continumRemoved_idealReflectance = np.array(fileListContinumRemoval[index])\n",
    "            continumRemoved_idealReflectance = continumRemoved_idealReflectance - continumRemoved_idealReflectance.mean()\n",
    "            continumRemoved_idealReflectance = 1*(continumRemoved_idealReflectance >= 0)\n",
    "            \n",
    "            score = 1*(normalized_spectraValue != continumRemoved_idealReflectance)\n",
    "            score = score.mean()\n",
    "            score = 1 - score\n",
    "            mineralScore[fileList[index].split('/')[-1].replace('_AREF.txt','').replace('.txt','').replace('s07_ASD_','')] = score\n",
    "        mineralScore = sorted(mineralScore.items(), key=lambda x: x[1], reverse=True)\n",
    "        return mineralScore\n",
    "    \n",
    "    def SFF(fileList, spectraValue, fileListContinumRemoval, waveLength, minIndex, maxIndex):\n",
    "        mineralScore = {}\n",
    "        normalized_spectraValue = preprocessing.normalize([spectraValue[minIndex:maxIndex]])[0]\n",
    "        try:\n",
    "            continumRemoved_spectraValue = sp.convex_hull_removal(normalized_spectraValue, waveLength[minIndex:maxIndex])[0]\n",
    "        except:\n",
    "            return mineralScore\n",
    "        for index in range(len(fileList)):\n",
    "            continumRemoved_idealReflectance = fileListContinumRemoval[index]\n",
    "            score = distance.NormXCorr(np.array(continumRemoved_spectraValue), np.array(continumRemoved_idealReflectance))\n",
    "            mineralScore[fileList[index].split('/')[-1].replace('_AREF.txt','').replace('.txt','').replace('s07_ASD_','')] = score\n",
    "        mineralScore = sorted(mineralScore.items(), key=lambda x: x[1], reverse=True)\n",
    "        return mineralScore\n",
    "    \n",
    "    def SAM(fileList, spectraValue, fileListContinumRemoval, waveLength, minIndex, maxIndex):\n",
    "        mineralScore = {}\n",
    "        normalized_spectraValue = preprocessing.normalize([spectraValue[minIndex:maxIndex]])[0]\n",
    "\n",
    "        for index in range(len(fileList)):\n",
    "            continumRemoved_idealReflectance = fileListContinumRemoval[index]\n",
    "            score = distance.SAM(normalized_spectraValue, continumRemoved_idealReflectance)\n",
    "            score = 1 - score\n",
    "            mineralScore[fileList[index].split('/')[-1].replace('_AREF.txt','').replace('.txt','').replace('s07_ASD_','')] = score\n",
    "        mineralScore = sorted(mineralScore.items(), key=lambda x: x[1], reverse=True)\n",
    "        return mineralScore\n",
    "\n",
    "    def chebyshev(fileList, spectraValue, fileListContinumRemoval, waveLength, minIndex, maxIndex):\n",
    "        mineralScore = {}\n",
    "        normalized_spectraValue = preprocessing.normalize([spectraValue[minIndex:maxIndex]])[0]\n",
    "        \n",
    "        for index in range(len(fileList)):\n",
    "            continumRemoved_idealReflectance = fileListContinumRemoval[index]\n",
    "            score = distance.chebyshev(np.array(normalized_spectraValue), np.array(continumRemoved_idealReflectance))\n",
    "            score = 1 - score\n",
    "            mineralScore[fileList[index].split('/')[-1].replace('_AREF.txt','').replace('.txt','').replace('s07_ASD_','')] = score\n",
    "        mineralScore = sorted(mineralScore.items(), key=lambda x: x[1])\n",
    "        return mineralScore\n",
    "\n",
    "    def SpectralInformationDivergence(fileList, spectraValue, fileListContinumRemoval, waveLength, minIndex, maxIndex):\n",
    "        mineralScore = {}\n",
    "        normalized_spectraValue = preprocessing.normalize([spectraValue[minIndex:maxIndex]])[0]\n",
    "\n",
    "        for index in range(len(fileList)):\n",
    "            continumRemoved_idealReflectance = fileListContinumRemoval[index]\n",
    "            score = distance.SID(normalized_spectraValue, continumRemoved_idealReflectance)\n",
    "            score = 1 - score\n",
    "            mineralScore[fileList[index].split('/')[-1].replace('_AREF.txt','').replace('.txt','').replace('s07_ASD_','')] = score\n",
    "        mineralScore = sorted(mineralScore.items(), key=lambda x: x[1], reverse=True)\n",
    "        return mineralScore\n",
    "    \n",
    "    def square_rooted(x):\n",
    "        return round(sqrt(sum([a*a for a in x])),3)\n",
    " \n",
    "    def cosine_similarity(x,y):\n",
    "        numerator = sum(a*b for a,b in zip(x,y))\n",
    "        denominator = SpectraComparision.square_rooted(x)* SpectraComparision.square_rooted(y)\n",
    "        #return round(numerator/float(denominator),3)\n",
    "        return numerator/float(denominator)\n",
    "    "
   ]
  },
  {
   "cell_type": "markdown",
   "id": "c868e1ec",
   "metadata": {},
   "source": [
    "### Algorithm Analysis defination"
   ]
  },
  {
   "cell_type": "code",
   "execution_count": 539,
   "id": "062d9642",
   "metadata": {},
   "outputs": [],
   "source": [
    "class algoAnalysis:\n",
    "    def FScore(n, dictionaryList, fileNameList):\n",
    "        #n = 50\n",
    "        f1ScoreMeanlist = []\n",
    "        results = pd.DataFrame(columns=['n', 'index', 'fScore'])\n",
    "        for i in range(n):\n",
    "            #print(i)\n",
    "            #ignoreList = [\"AlCU91\", \"AlCU98-8H\" ]\n",
    "            fscoreList = []\n",
    "            precisionResult=[]\n",
    "            recallResult=[]\n",
    "            tmp_results = pd.DataFrame()\n",
    "\n",
    "\n",
    "            for outerIndex in range(len(dictionaryList)):\n",
    "                TruePositive = 0\n",
    "                FalsePositive = 0\n",
    "                FalseNegative = 0\n",
    "\n",
    "                Precision = 0\n",
    "                Recall = 0\n",
    "                F1Score = 0\n",
    "\n",
    "                tempDictionary = dictionaryList[outerIndex]\n",
    "                fileNamesTemp = fileNameList[outerIndex].replace('.xlsx','').split('_')[1:]\n",
    "                falseList = dict.fromkeys(set(fileNamesTemp), True)\n",
    "                for innerIndex in range(len(tempDictionary)):\n",
    "                    tempBoolState = False\n",
    "                    mineralNameTemp = tempDictionary[innerIndex][0].split(' ')[0]\n",
    "                    for fileName in fileNamesTemp:\n",
    "                        if mineralNameTemp in fileName:\n",
    "                            #print(fileName)\n",
    "                            falseList[mineralNameTemp] = False\n",
    "                            TruePositive = TruePositive + 1\n",
    "                            tempBoolState = True\n",
    "                    if tempBoolState == False:\n",
    "                        FalsePositive = FalsePositive + 1\n",
    "                    if (innerIndex + 1 == i+1):\n",
    "                        FalseNegative = sum(falseList.values())\n",
    "                        Precision = TruePositive / (TruePositive + FalsePositive)\n",
    "                        Recall = TruePositive / (TruePositive + FalseNegative)\n",
    "                        if Precision != 0 or Recall != 0:\n",
    "                            F1Score = 2 * (Precision * Recall) / (Precision + Recall)\n",
    "                        else:\n",
    "                            F1Score = 0\n",
    "                        precisionResult.append(Precision)\n",
    "                        recallResult.append(Recall)\n",
    "                        fscoreList.append(F1Score)\n",
    "                        break\n",
    "            tmp_results['n'] = [i+1]*len(fscoreList)\n",
    "            tmp_results['index'] = range(len(fscoreList))\n",
    "            tmp_results['fScore'] = fscoreList\n",
    "            tmp_results['recall'] = recallResult\n",
    "            tmp_results['precision'] = precisionResult\n",
    "            results = results.append(tmp_results)\n",
    "        return results\n",
    "\n",
    "    def AUCScore(n, dictionaryList, fileNameList):\n",
    "        f1ScoreMeanlist = []\n",
    "        resultsAUC = pd.DataFrame(columns=['index', 'AUCScore'])\n",
    "\n",
    "        steps = 1/n\n",
    "        AUCScore = []\n",
    "        X = [0]\n",
    "        Y = [0]\n",
    "\n",
    "\n",
    "\n",
    "        for outerIndex in range(len(dictionaryList)):\n",
    "            X = [0]\n",
    "            Y = [0]\n",
    "            tempDictionary = dictionaryList[outerIndex]\n",
    "            fileNamesTemp = fileNameList[outerIndex].replace('.xlsx','').split('_')[1:]\n",
    "            falseList = dict.fromkeys(set(fileNamesTemp), True)\n",
    "            for innerIndex in range(len(tempDictionary)):\n",
    "                tempBoolState = False\n",
    "                mineralNameTemp = tempDictionary[innerIndex][0].split(' ')[0]\n",
    "                for fileName in fileNamesTemp:\n",
    "                    if mineralNameTemp in fileName:\n",
    "                        tempBoolState = True\n",
    "                        Y.append(Y[-1] + steps)\n",
    "                        X.append(X[-1])\n",
    "\n",
    "                if tempBoolState == False:\n",
    "                    Y.append(Y[-1])\n",
    "                    X.append(X[-1] + steps)\n",
    "                if (innerIndex + 1 == n):\n",
    "                    X = np.array(X)/np.max(X)\n",
    "                    Y = np.array(Y)/np.max(Y)\n",
    "                    AUCScore.append(auc(X,Y))\n",
    "                    break\n",
    "        resultsAUC['index'] = range(len(AUCScore))\n",
    "        resultsAUC['AUCScore'] = AUCScore\n",
    "        return resultsAUC"
   ]
  },
  {
   "cell_type": "code",
   "execution_count": 418,
   "id": "b8b5543b",
   "metadata": {},
   "outputs": [],
   "source": [
    "def ROC(scores, matches, rev=True):\n",
    "    values = sorted(zip(scores, matches), reverse=rev, key=lambda x: x[0])\n",
    "    tpr, fpr = [0], [0]\n",
    "    for score, match in values:\n",
    "        if match:\n",
    "            tpr.append(tpr[-1]+1)\n",
    "            fpr.append(fpr[-1])\n",
    "        else:\n",
    "            tpr.append(tpr[-1])\n",
    "            fpr.append(fpr[-1]+1)\n",
    "    tpr = np.array(tpr)/np.max(tpr)\n",
    "    fpr = np.array(fpr)/np.max(fpr)\n",
    "    AUC = auc(fpr, tpr)\n",
    "    return tpr, fpr, AUC"
   ]
  },
  {
   "cell_type": "code",
   "execution_count": null,
   "id": "80dc4a5d",
   "metadata": {},
   "outputs": [],
   "source": []
  },
  {
   "cell_type": "code",
   "execution_count": null,
   "id": "97229c5b",
   "metadata": {},
   "outputs": [],
   "source": []
  },
  {
   "cell_type": "code",
   "execution_count": null,
   "id": "43ceb707",
   "metadata": {},
   "outputs": [],
   "source": []
  },
  {
   "cell_type": "markdown",
   "id": "49bd9a47",
   "metadata": {},
   "source": [
    "### Variable Declarations"
   ]
  },
  {
   "cell_type": "code",
   "execution_count": 318,
   "id": "ab966d87",
   "metadata": {},
   "outputs": [],
   "source": [
    "##txt file declarations\n",
    "#txtPath = \"../data/enviData/cleanFolder/\"\n",
    "txtPath = \"../data/enviData/ENVIFilesUsgsProcessed/\"\n",
    "extensionTxt= 'txt'\n",
    "indidualplotlimit = 20\n",
    "\n",
    "\n",
    "###sed file declarations\n",
    "#sedPath = \"../data/vulcano/16062019/astrobay/Astrobay spot 2/\"\n",
    "#sedPath = \"../data/vulcano/16062019/volcanello/spot13/\"\n",
    "sedPath = \"../data/enviData/algorithmPredictionDataProcessed/\"\n",
    "extensionSed= 'txt'\n",
    "\n",
    "minWavelength = []\n",
    "maxWavelength = []\n",
    "\n",
    "minIndex = []\n",
    "maxIndex = []\n",
    "\n",
    "algorithmList = ['SFF', 'SFF_SAM', 'SFF_SAM_BE', 'SAM', 'BE', 'SID', 'Chebyshev']\n",
    "\n",
    "\n",
    "#numberOfFeatureToAnalyze = int(input(\"Enter the totlal number of features you want to anaylze: \"))"
   ]
  },
  {
   "cell_type": "code",
   "execution_count": null,
   "id": "8311287e",
   "metadata": {},
   "outputs": [],
   "source": []
  },
  {
   "cell_type": "code",
   "execution_count": null,
   "id": "e10090aa",
   "metadata": {},
   "outputs": [],
   "source": []
  },
  {
   "cell_type": "markdown",
   "id": "5be077eb",
   "metadata": {},
   "source": [
    "# Select the wavelength range\n",
    "### Select the range to subset the data"
   ]
  },
  {
   "cell_type": "code",
   "execution_count": 319,
   "id": "47ea5fdc",
   "metadata": {},
   "outputs": [],
   "source": [
    "numberOfFeatureToAnalyze = 5\n",
    "\n",
    "minWavelength = [400, 700, 1300, 1600, 2000]\n",
    "maxWavelength = [750, 1400, 1700, 2100, 2500]"
   ]
  },
  {
   "cell_type": "code",
   "execution_count": 320,
   "id": "38620cad",
   "metadata": {},
   "outputs": [],
   "source": [
    "minIndex = []\n",
    "maxIndex = []\n",
    "\n",
    "\n",
    "for ind in range(numberOfFeatureToAnalyze):\n",
    "    minIndex.append(minWavelength[ind] - 350)\n",
    "    maxIndex.append(maxWavelength[ind] - 350 + 1)"
   ]
  },
  {
   "cell_type": "code",
   "execution_count": 321,
   "id": "f44b3f53",
   "metadata": {},
   "outputs": [
    {
     "data": {
      "text/plain": [
       "401"
      ]
     },
     "execution_count": 321,
     "metadata": {},
     "output_type": "execute_result"
    }
   ],
   "source": [
    "maxIndex[0]"
   ]
  },
  {
   "cell_type": "markdown",
   "id": "c96be281",
   "metadata": {},
   "source": [
    "# Populating paths\n",
    "### Getting the paths to both reference spectrum and user input spectrum"
   ]
  },
  {
   "cell_type": "code",
   "execution_count": 322,
   "id": "ef81bce4",
   "metadata": {},
   "outputs": [],
   "source": [
    "txt_files = FolderAndFileProcessing.ReadFilePaths(txtPath,extensionTxt)\n",
    "sed_files = FolderAndFileProcessing.ReadFilePaths(sedPath,extensionSed)"
   ]
  },
  {
   "cell_type": "markdown",
   "id": "dc475914",
   "metadata": {},
   "source": [
    "# Defining wavelength range"
   ]
  },
  {
   "cell_type": "code",
   "execution_count": 323,
   "id": "280599f8",
   "metadata": {},
   "outputs": [],
   "source": [
    "waveLength = list(range(350,2501))"
   ]
  },
  {
   "cell_type": "markdown",
   "id": "ac3178d5",
   "metadata": {},
   "source": [
    "# Continium removal after splicing the data\n",
    "### Splice the ideal spectral data and remove the continium"
   ]
  },
  {
   "cell_type": "code",
   "execution_count": 324,
   "id": "cceacbe6",
   "metadata": {},
   "outputs": [
    {
     "data": {
      "application/vnd.jupyter.widget-view+json": {
       "model_id": "aef35f08d6f44fd5aead96367715d398",
       "version_major": 2,
       "version_minor": 0
      },
      "text/plain": [
       "IntProgress(value=0, max=480)"
      ]
     },
     "metadata": {},
     "output_type": "display_data"
    },
    {
     "data": {
      "application/vnd.jupyter.widget-view+json": {
       "model_id": "400e972c15f34bea8f40dac3af8d56bb",
       "version_major": 2,
       "version_minor": 0
      },
      "text/plain": [
       "IntProgress(value=0, max=480)"
      ]
     },
     "metadata": {},
     "output_type": "display_data"
    },
    {
     "data": {
      "application/vnd.jupyter.widget-view+json": {
       "model_id": "b72c2d801a90400e9e468deac39eaa3c",
       "version_major": 2,
       "version_minor": 0
      },
      "text/plain": [
       "IntProgress(value=0, max=480)"
      ]
     },
     "metadata": {},
     "output_type": "display_data"
    },
    {
     "data": {
      "application/vnd.jupyter.widget-view+json": {
       "model_id": "664acddf3d2747c586d23398eed87ed2",
       "version_major": 2,
       "version_minor": 0
      },
      "text/plain": [
       "IntProgress(value=0, max=480)"
      ]
     },
     "metadata": {},
     "output_type": "display_data"
    },
    {
     "data": {
      "application/vnd.jupyter.widget-view+json": {
       "model_id": "c611d56a002d444aa06c105b02d21a28",
       "version_major": 2,
       "version_minor": 0
      },
      "text/plain": [
       "IntProgress(value=0, max=480)"
      ]
     },
     "metadata": {},
     "output_type": "display_data"
    }
   ],
   "source": [
    "max_count = len(txt_files)\n",
    "for ind in range(numberOfFeatureToAnalyze):\n",
    "    minIndexTemp = minIndex[ind]\n",
    "    maxIndexTemp = maxIndex[ind]\n",
    "    globals()['fileListContinumRemoval_'+str(ind)] = []\n",
    "    globals()['fileListNonContinumRemoval_'+str(ind)] = []\n",
    "    globals()['progreesBar'+str(ind)] = IntProgress(min=0, max=max_count) # instantiate the bar\n",
    "    display(globals()['progreesBar'+str(ind)]) # display the bar\n",
    "\n",
    "    for index in range(len(txt_files)):\n",
    "        idealReflectance = FolderAndFileProcessing.GetValuesFromFile(txt_files[index], 0, ' ','reflectance')\n",
    "        normalized_idealReflectance = preprocessing.normalize([idealReflectance[minIndexTemp:maxIndexTemp]])[0]\n",
    "        continumRemoved_idealReflectance = sp.convex_hull_removal(normalized_idealReflectance, waveLength[minIndexTemp:maxIndexTemp])[0]\n",
    "        globals()['fileListContinumRemoval_'+str(ind)].append(continumRemoved_idealReflectance)\n",
    "        globals()['fileListNonContinumRemoval_'+str(ind)].append(normalized_idealReflectance)\n",
    "        \n",
    "        globals()['progreesBar'+str(ind)].style = {'description_width': 'initial'}\n",
    "        globals()['progreesBar'+str(ind)].description = 'Loading ideal files feature '+ str(ind + 1) + ': ' + str(index + 1) + '/' + str(max_count)\n",
    "        globals()['progreesBar'+str(ind)].value += 1 # signal to increment the progress bar\n",
    "        \n",
    "        "
   ]
  },
  {
   "cell_type": "markdown",
   "id": "2a77a943",
   "metadata": {},
   "source": [
    "### Remove the continium from the entire wavelegth of ideal spectral data "
   ]
  },
  {
   "cell_type": "markdown",
   "id": "f51e8510",
   "metadata": {},
   "source": [
    "# Analysis\n",
    "### Taking user data as input and writing the result in similar type of folder structure with weighted output for each input data stored with similar name in an excel file and graph plots stored as png"
   ]
  },
  {
   "cell_type": "code",
   "execution_count": 326,
   "id": "365bcb5b",
   "metadata": {},
   "outputs": [
    {
     "data": {
      "application/vnd.jupyter.widget-view+json": {
       "model_id": "45b33ad5fadb4232ac6ca6106d8f666c",
       "version_major": 2,
       "version_minor": 0
      },
      "text/plain": [
       "IntProgress(value=0, max=150)"
      ]
     },
     "metadata": {},
     "output_type": "display_data"
    },
    {
     "data": {
      "application/vnd.jupyter.widget-view+json": {
       "model_id": "9286961f68a04312b315c13bafe2926f",
       "version_major": 2,
       "version_minor": 0
      },
      "text/plain": [
       "IntProgress(value=0, max=150)"
      ]
     },
     "metadata": {},
     "output_type": "display_data"
    },
    {
     "data": {
      "application/vnd.jupyter.widget-view+json": {
       "model_id": "23e19efa8d524efa82626ac3b00fd339",
       "version_major": 2,
       "version_minor": 0
      },
      "text/plain": [
       "IntProgress(value=0, max=150)"
      ]
     },
     "metadata": {},
     "output_type": "display_data"
    },
    {
     "data": {
      "application/vnd.jupyter.widget-view+json": {
       "model_id": "672e10072a8b4488b021bee1ae2d9075",
       "version_major": 2,
       "version_minor": 0
      },
      "text/plain": [
       "IntProgress(value=0, max=150)"
      ]
     },
     "metadata": {},
     "output_type": "display_data"
    },
    {
     "data": {
      "application/vnd.jupyter.widget-view+json": {
       "model_id": "b5b1452cb5ef42f7824fb1c76a54b373",
       "version_major": 2,
       "version_minor": 0
      },
      "text/plain": [
       "IntProgress(value=0, max=150)"
      ]
     },
     "metadata": {},
     "output_type": "display_data"
    },
    {
     "data": {
      "application/vnd.jupyter.widget-view+json": {
       "model_id": "a9600b0717e744c0b07c0dd8ed3528af",
       "version_major": 2,
       "version_minor": 0
      },
      "text/plain": [
       "IntProgress(value=0, max=150)"
      ]
     },
     "metadata": {},
     "output_type": "display_data"
    },
    {
     "data": {
      "application/vnd.jupyter.widget-view+json": {
       "model_id": "c935bf51c4cb455e9007c55ab1fd0463",
       "version_major": 2,
       "version_minor": 0
      },
      "text/plain": [
       "IntProgress(value=0, max=150)"
      ]
     },
     "metadata": {},
     "output_type": "display_data"
    }
   ],
   "source": [
    "#dictionaryList = []\n",
    "#fileNameList = []\n",
    "max_countSed = len(sed_files)\n",
    "targetFolderToReplace = '/data/enviData'\n",
    "algorithmRunFunction = 'SpectraComparision.' + algorithmType\n",
    "minWav = '400'\n",
    "maxWav = '2500'\n",
    "areaName = 'mineral testing'\n",
    "\n",
    "for algorithmType in algorithmList:\n",
    "    globals()['dictionaryList_'+str(algorithmType)] = []\n",
    "    globals()['fileNameList_'+str(algorithmType)] = []\n",
    "\n",
    "    globals()['progreesBar'+str(algorithmType)] = IntProgress(min=0, max=max_countSed) # instantiate the bar\n",
    "    display(globals()['progreesBar'+str(algorithmType)])\n",
    "\n",
    "    #progreesBarSed = IntProgress(min=0, max=max_countSed) \n",
    "    #display(progreesBarSed)\n",
    "\n",
    "    #algorithmType = 'SFF_SAM_BE'\n",
    "\n",
    "\n",
    "    targetFolderNewName = '/' + algorithmType + '_' + minWav + '_' + maxWav + '_' + str(indidualplotlimit) + 'Top'\n",
    "\n",
    "    for index in range(len(sed_files)):  \n",
    "        totalDict = {}\n",
    "        targetfilename = sed_files[index].replace(targetFolderToReplace, targetFolderNewName).split('/')[-1].replace('.txt','.xlsx')\n",
    "        list_string = sed_files[index].replace(targetFolderToReplace, targetFolderNewName).split('/')[0:-1]\n",
    "        targetPath = '/'.join(list_string) + '/'\n",
    "        testData = FolderAndFileProcessing.GetValuesFromFile(sed_files[index],  0, ' ','reflectance')\n",
    "        minIndexTemp = 0\n",
    "        maxIndexTemp = 0\n",
    "        for indexRange in range(numberOfFeatureToAnalyze):\n",
    "            minIndexTemp = minIndex[indexRange]\n",
    "            maxIndexTemp = maxIndex[indexRange]\n",
    "            if algorithmType == 'SFF' or algorithmType == 'NormXCorr' or algorithmType == 'SFF_CrossCorrelation' or algorithmType == 'SFF_SAM' or algorithmType == 'SFF_SAM_BE' or algorithmType == 'CombinedAlgorithmsResult' or algorithmType == 'RMS':\n",
    "                fileListSelected = globals()['fileListContinumRemoval_'+str(indexRange)]\n",
    "                fileListSelectedNonContinumRemoval = globals()['fileListNonContinumRemoval_'+str(indexRange)]\n",
    "            else:\n",
    "                fileListSelected = globals()['fileListNonContinumRemoval_'+str(indexRange)]\n",
    "\n",
    "            if algorithmType == 'SFF_SAM_BE':\n",
    "                dictMineralValue = SpectraComparision.SFF_SAM_BE(txt_files, testData, fileListSelected, waveLength, minIndexTemp, maxIndexTemp, fileListSelectedNonContinumRemoval)\n",
    "            if algorithmType == 'SFF_SAM':\n",
    "                dictMineralValue = SpectraComparision.SFF_SAM(txt_files, testData, fileListSelected, waveLength, minIndexTemp, maxIndexTemp, fileListSelectedNonContinumRemoval)\n",
    "            if algorithmType == 'SAM':\n",
    "                dictMineralValue = SpectraComparision.SAM(txt_files, testData, fileListSelected, waveLength, minIndexTemp, maxIndexTemp)\n",
    "            if algorithmType == 'SFF':\n",
    "                dictMineralValue = SpectraComparision.SFF(txt_files, testData, fileListSelected, waveLength, minIndexTemp, maxIndexTemp)\n",
    "            if algorithmType == 'SID':\n",
    "                dictMineralValue = SpectraComparision.SpectralInformationDivergence(txt_files, testData, fileListSelected, waveLength, minIndexTemp, maxIndexTemp)\n",
    "            if algorithmType == 'Chebyshev':\n",
    "                dictMineralValue = SpectraComparision.chebyshev(txt_files, testData, fileListSelected, waveLength, minIndexTemp, maxIndexTemp)\n",
    "            if algorithmType == 'BE':\n",
    "                dictMineralValue = SpectraComparision.BinaryEncoding(txt_files, testData, fileListSelected, waveLength, minIndexTemp, maxIndexTemp)\n",
    "\n",
    "            if len(totalDict) == 0:\n",
    "                totalDict = dict(dictMineralValue)\n",
    "            else:\n",
    "                tempDict = dict(dictMineralValue)\n",
    "                totalDict = FolderAndFileProcessing.combine_dicts(totalDict, tempDict)\n",
    "\n",
    "        totalDict = sorted(totalDict.items(), key=lambda x: x[1], reverse=True)\n",
    "\n",
    "        globals()['dictionaryList_'+str(algorithmType)].append(totalDict)\n",
    "        globals()['fileNameList_'+str(algorithmType)].append(targetfilename)\n",
    "        #dictionaryList.append(totalDict)\n",
    "        #fileNameList.append(targetfilename)\n",
    "\n",
    "        #FolderAndFileProcessing.WriteDictToExcel(targetPath, targetfilename, totalDict)\n",
    "\n",
    "\n",
    "        #progreesBarSed.style = {'description_width': 'initial'}\n",
    "        #progreesBarSed.description = 'Processing files ' + str(index + 1)\n",
    "        #progreesBarSed.value += 1 # signal to increment the progress bar\n",
    "\n",
    "        globals()['progreesBar'+str(algorithmType)].style = {'description_width': 'initial'}\n",
    "        globals()['progreesBar'+str(algorithmType)].description = 'Processing files ('+ str(algorithmType) + ') ' + str(index + 1)\n",
    "        globals()['progreesBar'+str(algorithmType)].value += 1 # signal to increment the progress bar\n"
   ]
  },
  {
   "cell_type": "markdown",
   "id": "b5b47f1f",
   "metadata": {},
   "source": [
    "### FSCore"
   ]
  },
  {
   "cell_type": "code",
   "execution_count": 515,
   "id": "3b75d059",
   "metadata": {},
   "outputs": [],
   "source": [
    "for algorithmType in algorithmList:\n",
    "    dictList = globals()['dictionaryList_'+str(algorithmType)]\n",
    "    fileNameList = globals()['fileNameList_'+str(algorithmType)]\n",
    "    #globals()['DataFrame_'+str(algorithmType)] = []\n",
    "    globals()['DataFrame_'+str(algorithmType)] = algoAnalysis.FScore(50, dictList, fileNameList)"
   ]
  },
  {
   "cell_type": "code",
   "execution_count": null,
   "id": "8a3a62de",
   "metadata": {},
   "outputs": [],
   "source": []
  },
  {
   "cell_type": "code",
   "execution_count": null,
   "id": "57801695",
   "metadata": {},
   "outputs": [],
   "source": []
  },
  {
   "cell_type": "code",
   "execution_count": 522,
   "id": "f410bd21",
   "metadata": {},
   "outputs": [
    {
     "data": {
      "text/plain": [
       "<AxesSubplot:xlabel='n', ylabel='fScore'>"
      ]
     },
     "execution_count": 522,
     "metadata": {},
     "output_type": "execute_result"
    },
    {
     "data": {
      "image/png": "[encoded data removed]",
      "text/plain": [
       "<Figure size 1080x360 with 1 Axes>"
      ]
     },
     "metadata": {
      "needs_background": "light"
     },
     "output_type": "display_data"
    }
   ],
   "source": [
    "fig = plt.figure(figsize=(15, 5))\n",
    "sns.boxplot(data=DataFrame_SFF_SAM_BE, x='n', y='fScore', color='gray')"
   ]
  },
  {
   "cell_type": "code",
   "execution_count": null,
   "id": "5012430b",
   "metadata": {},
   "outputs": [],
   "source": []
  },
  {
   "cell_type": "markdown",
   "id": "0f49fa5a",
   "metadata": {},
   "source": [
    "### AUC "
   ]
  },
  {
   "cell_type": "code",
   "execution_count": 550,
   "id": "337dd024",
   "metadata": {},
   "outputs": [
    {
     "name": "stderr",
     "output_type": "stream",
     "text": [
      "/var/folders/2n/8qtpk81d3fs76p8xpr2dw1qm0000gr/T/ipykernel_38922/3259995386.py:89: RuntimeWarning: invalid value encountered in true_divide\n",
      "  Y = np.array(Y)/np.max(Y)\n"
     ]
    }
   ],
   "source": [
    "aucDataFrame = pd.DataFrame(columns=['algorithm', 'AUCScore'])\n",
    "for algorithmType in algorithmList:\n",
    "    tmp_results = pd.DataFrame()\n",
    "    dictList = globals()['dictionaryList_'+str(algorithmType)]\n",
    "    fileNameList = globals()['fileNameList_'+str(algorithmType)]\n",
    "    tempDataFrame = algoAnalysis.AUCScore(20, dictList, fileNameList)\n",
    "    tmp_results['algorithm'] = [algorithmType] * len(AUCScore)\n",
    "    tmp_results['AUCScore'] = tempDataFrame['AUCScore']\n",
    "    aucDataFrame = aucDataFrame.append(tmp_results)"
   ]
  },
  {
   "cell_type": "code",
   "execution_count": null,
   "id": "7700dbbb",
   "metadata": {},
   "outputs": [],
   "source": []
  },
  {
   "cell_type": "code",
   "execution_count": 554,
   "id": "c6c3efa6",
   "metadata": {},
   "outputs": [
    {
     "data": {
      "text/plain": [
       "<AxesSubplot:xlabel='algorithm', ylabel='AUCScore'>"
      ]
     },
     "execution_count": 554,
     "metadata": {},
     "output_type": "execute_result"
    },
    {
     "data": {
      "image/png": "[encoded data removed]",
      "text/plain": [
       "<Figure size 1080x360 with 1 Axes>"
      ]
     },
     "metadata": {
      "needs_background": "light"
     },
     "output_type": "display_data"
    }
   ],
   "source": [
    "fig = plt.figure(figsize=(15, 5))\n",
    "sns.boxplot(data=aucDataFrame, x='algorithm', y='AUCScore')\n"
   ]
  },
  {
   "cell_type": "code",
   "execution_count": null,
   "id": "2de44d8a",
   "metadata": {},
   "outputs": [],
   "source": []
  },
  {
   "cell_type": "code",
   "execution_count": null,
   "id": "fc4fdeae",
   "metadata": {},
   "outputs": [],
   "source": []
  },
  {
   "cell_type": "code",
   "execution_count": null,
   "id": "8989c1e0",
   "metadata": {},
   "outputs": [],
   "source": []
  },
  {
   "cell_type": "code",
   "execution_count": null,
   "id": "c8e249a2",
   "metadata": {},
   "outputs": [],
   "source": []
  },
  {
   "cell_type": "code",
   "execution_count": null,
   "id": "ec495044",
   "metadata": {},
   "outputs": [],
   "source": []
  },
  {
   "cell_type": "code",
   "execution_count": null,
   "id": "6382c719",
   "metadata": {},
   "outputs": [],
   "source": []
  },
  {
   "cell_type": "markdown",
   "id": "4a31327f",
   "metadata": {},
   "source": [
    "### Accuracy Report"
   ]
  },
  {
   "cell_type": "code",
   "execution_count": null,
   "id": "45485152",
   "metadata": {},
   "outputs": [],
   "source": [
    "progreesBarSed = IntProgress(min=0, max=max_countSed) \n",
    "display(progreesBarSed)\n",
    "\n",
    "\n",
    "##the accuracy table\n",
    "accuracyTable = pd.DataFrame(columns=['FileName', 'Predicted Mineral', 'Position', 'Individual Score', 'Algo Score', 'Algo Max Score'])\n",
    "accuracyResultTable = pd.DataFrame(columns=['Algorithm', 'Range', 'Score', 'Prediction Percentage', 'Total Files Predicted', 'Absolute FIle Prediction Percentage'])\n",
    "mineralFound = False\n",
    "individualScore = indidualplotlimit\n",
    "position = 0\n",
    "totalScore = 0\n",
    "pd.set_option('display.max_colwidth', 150)\n",
    "\n",
    "predictedFiles = 0\n",
    "\n",
    "for index in range(len(dictionaryList)):\n",
    "    mineralFound = False\n",
    "    individualScore = indidualplotlimit\n",
    "    position = 0\n",
    "    \n",
    "    try:\n",
    "        counterMineral = 0\n",
    "        mineralNameList = [i for i,j in dictionaryList[index]]\n",
    "        mineralNameListPruned = [i.split(' ')[0] for i in mineralNameList]\n",
    "\n",
    "\n",
    "        indexForWhile = 0\n",
    "        counterMineral = 0\n",
    "        mineralNameListDict = dict.fromkeys(set(mineralNameListPruned), False)\n",
    "        while counterMineral < indidualplotlimit:\n",
    "            mineralName = dictionaryList[index][indexForWhile][0]\n",
    "            position = position + 1\n",
    "\n",
    "            ##Report of algo\n",
    "            if mineralFound == False:\n",
    "                if fileNameList[index].replace('.xlsx','').find(mineralName.split(' ')[0]) != -1:\n",
    "                    mineralFound = True\n",
    "                    maxScore = dictionaryList[index][0][1]\n",
    "                    score = dictionaryList[index][indexForWhile][1]\n",
    "                    accuracyTable.loc[index] = [fileNameList[index].replace('.xlsx', '')] + [mineralName] + [position] + [individualScore] + [score] + [maxScore]\n",
    "                    totalScore = totalScore + individualScore\n",
    "                    predictedFiles = predictedFiles + 1\n",
    "\n",
    "            if mineralNameListDict[mineralName.split(' ')[0]] == False:\n",
    "\n",
    "                individualScore = individualScore - 1\n",
    "\n",
    "                mineralNameListDict[mineralName.split(' ')[0]] = True\n",
    "                counterMineral = counterMineral + 1\n",
    "\n",
    "            indexForWhile = indexForWhile + 1\n",
    "\n",
    "        if mineralFound == False:\n",
    "            mineralFound = True\n",
    "            maxScore = dictionaryList[index][0][1]\n",
    "\n",
    "            accuracyTable.loc[index] = [fileNameList[index].replace('.xlsx', '')] + ['None'] + [0] + [0] + [0] + [maxScore]\n",
    "    \n",
    "    except:\n",
    "        #continue\n",
    "        raise\n",
    "             \n",
    "            \n",
    "    progreesBarSed.style = {'description_width': 'initial'}\n",
    "    progreesBarSed.description = 'Processing files ' + str(index + 1)\n",
    "    progreesBarSed.value += 1 # signal to increment the progress bar \n",
    "\n",
    "\n",
    "###Accuray Table\n",
    "accuracyResultTable = pd.DataFrame(columns=['Algorithm', 'Range', 'Score', 'Prediction Percentage', 'Total Files Predicted', 'Absolute FIle Prediction Percentage'])\n",
    "accuracyResultTable.loc[0] = [algorithmType] + [minWav + '_' + maxWav] + [str(totalScore) + '/' + str(max_countSed * indidualplotlimit)] + [totalScore/(max_countSed * indidualplotlimit) * 100] + [predictedFiles] + [predictedFiles/max_countSed*100]\n",
    "with pd.ExcelWriter('../MineralPrediction'+ '_' + algorithmType + '_' + minWav + '_' + maxWav +'.xlsx') as writer:  \n",
    "    accuracyTable.to_excel(writer, sheet_name='Accuracy Result Table')\n",
    "    accuracyResultTable.to_excel(writer, sheet_name='Accuracy Prediction Result')"
   ]
  },
  {
   "cell_type": "code",
   "execution_count": null,
   "id": "4e5239cb",
   "metadata": {},
   "outputs": [],
   "source": []
  },
  {
   "cell_type": "markdown",
   "id": "0dda116b",
   "metadata": {},
   "source": [
    "# Testing Section\n",
    "### Everything below this section is to test new machanism or to check if something goes wrong above"
   ]
  },
  {
   "cell_type": "markdown",
   "id": "12934037",
   "metadata": {},
   "source": [
    "### FScore"
   ]
  },
  {
   "cell_type": "code",
   "execution_count": null,
   "id": "82b735a8",
   "metadata": {},
   "outputs": [],
   "source": [
    "ignoreList = [\"AlCU91\", \"AlCU98-8H\" ]\n",
    "fscoreList = []\n",
    "\n",
    "\n",
    "for outerIndex in range(len(dictionaryList)):\n",
    "    TruePositive = 0\n",
    "    FalsePositive = 0\n",
    "    FalseNegative = 0\n",
    "    \n",
    "    Precision = 0\n",
    "    Recall = 0\n",
    "    F1Score = 0\n",
    "    \n",
    "    tempDictionary = dictionaryList[outerIndex]\n",
    "    fileNamesTemp = fileNameList[outerIndex].replace('.xlsx','').split('_')[1:]\n",
    "    falseList = dict.fromkeys(set(fileNamesTemp), True)\n",
    "    for innerIndex in range(len(tempDictionary)):\n",
    "        tempBoolState = False\n",
    "        mineralNameTemp = tempDictionary[innerIndex][0].split(' ')[0]\n",
    "        for fileName in fileNamesTemp:\n",
    "            if mineralNameTemp in fileName:\n",
    "                #print(fileName)\n",
    "                falseList[mineralNameTemp] = False\n",
    "                TruePositive = TruePositive + 1\n",
    "                tempBoolState = True\n",
    "        if tempBoolState == False:\n",
    "            FalsePositive = FalsePositive + 1\n",
    "        if (innerIndex + 1 == n):\n",
    "            FalseNegative = sum(falseList.values())\n",
    "            Precision = TruePositive / (TruePositive + FalsePositive)\n",
    "            Recall = TruePositive / (TruePositive + FalseNegative)\n",
    "            if Precision != 0 or Recall != 0:\n",
    "                F1Score = 2 * (Precision * Recall) / (Precision + Recall)\n",
    "            else:\n",
    "                F1Score = 0\n",
    "            fscoreList.append(F1Score)\n",
    "            break"
   ]
  },
  {
   "cell_type": "code",
   "execution_count": null,
   "id": "75c5649f",
   "metadata": {},
   "outputs": [],
   "source": []
  },
  {
   "cell_type": "code",
   "execution_count": 228,
   "id": "b67057f5",
   "metadata": {},
   "outputs": [
    {
     "data": {
      "text/plain": [
       "2.1066666666666665"
      ]
     },
     "execution_count": 228,
     "metadata": {},
     "output_type": "execute_result"
    }
   ],
   "source": [
    "np.mean([len(f.replace('.xlsx', '').split('_')[1:]) for f in fileNameList])"
   ]
  },
  {
   "cell_type": "markdown",
   "id": "ebe5d9f2",
   "metadata": {},
   "source": [
    "### F Score Graph"
   ]
  },
  {
   "cell_type": "code",
   "execution_count": 219,
   "id": "b38d0d47",
   "metadata": {},
   "outputs": [],
   "source": [
    "n = 10\n",
    "f1ScoreMeanlist = []\n",
    "for i in range(n):\n",
    "    ignoreList = [\"AlCU91\", \"AlCU98-8H\" ]\n",
    "    fscoreList = []\n",
    "\n",
    "\n",
    "    for outerIndex in range(len(dictionaryList)):\n",
    "        TruePositive = 0\n",
    "        FalsePositive = 0\n",
    "        FalseNegative = 0\n",
    "\n",
    "        Precision = 0\n",
    "        Recall = 0\n",
    "        F1Score = 0\n",
    "\n",
    "        tempDictionary = dictionaryList[outerIndex]\n",
    "        fileNamesTemp = fileNameList[outerIndex].replace('.xlsx','').split('_')[1:]\n",
    "        falseList = dict.fromkeys(set(fileNamesTemp), True)\n",
    "        for innerIndex in range(len(tempDictionary)):\n",
    "            tempBoolState = False\n",
    "            mineralNameTemp = tempDictionary[innerIndex][0].split(' ')[0]\n",
    "            for fileName in fileNamesTemp:\n",
    "                if mineralNameTemp in fileName:\n",
    "                    #print(fileName)\n",
    "                    falseList[mineralNameTemp] = False\n",
    "                    TruePositive = TruePositive + 1\n",
    "                    tempBoolState = True\n",
    "            if tempBoolState == False:\n",
    "                FalsePositive = FalsePositive + 1\n",
    "            if (innerIndex + 1 == i+1):\n",
    "                FalseNegative = sum(falseList.values())\n",
    "                Precision = TruePositive / (TruePositive + FalsePositive)\n",
    "                Recall = TruePositive / (TruePositive + FalseNegative)\n",
    "                if Precision != 0 or Recall != 0:\n",
    "                    F1Score = 2 * (Precision * Recall) / (Precision + Recall)\n",
    "                else:\n",
    "                    F1Score = 0\n",
    "                fscoreList.append(F1Score)\n",
    "                break\n",
    "    f1ScoreMeanlist.append(sum(fscoreList)/len(fscoreList))"
   ]
  },
  {
   "cell_type": "code",
   "execution_count": 220,
   "id": "345ac5da",
   "metadata": {
    "scrolled": true
   },
   "outputs": [
    {
     "data": {
      "text/plain": [
       "[<matplotlib.lines.Line2D at 0x7fde8abb2d00>]"
      ]
     },
     "execution_count": 220,
     "metadata": {},
     "output_type": "execute_result"
    },
    {
     "data": {
      "image/png": "[encoded data removed]",
      "text/plain": [
       "<Figure size 432x288 with 1 Axes>"
      ]
     },
     "metadata": {
      "needs_background": "light"
     },
     "output_type": "display_data"
    }
   ],
   "source": [
    "plt.plot(f1ScoreMeanlist)"
   ]
  },
  {
   "cell_type": "markdown",
   "id": "3b7a573a",
   "metadata": {},
   "source": [
    "#### Box plot F Score"
   ]
  },
  {
   "cell_type": "code",
   "execution_count": 267,
   "id": "4c262181",
   "metadata": {},
   "outputs": [],
   "source": [
    "n = 50\n",
    "f1ScoreMeanlist = []\n",
    "results = pd.DataFrame(columns=['n', 'index', 'fScore'])\n",
    "for i in range(n):\n",
    "    ignoreList = [\"AlCU91\", \"AlCU98-8H\" ]\n",
    "    fscoreList = []\n",
    "    precisionResult=[]\n",
    "    recallResult=[]\n",
    "    tmp_results = pd.DataFrame()\n",
    "    \n",
    "\n",
    "    for outerIndex in range(len(dictionaryList)):\n",
    "        TruePositive = 0\n",
    "        FalsePositive = 0\n",
    "        FalseNegative = 0\n",
    "\n",
    "        Precision = 0\n",
    "        Recall = 0\n",
    "        F1Score = 0\n",
    "\n",
    "        tempDictionary = dictionaryList[outerIndex]\n",
    "        fileNamesTemp = fileNameList[outerIndex].replace('.xlsx','').split('_')[1:]\n",
    "        falseList = dict.fromkeys(set(fileNamesTemp), True)\n",
    "        for innerIndex in range(len(tempDictionary)):\n",
    "            tempBoolState = False\n",
    "            mineralNameTemp = tempDictionary[innerIndex][0].split(' ')[0]\n",
    "            for fileName in fileNamesTemp:\n",
    "                if mineralNameTemp in fileName:\n",
    "                    #print(fileName)\n",
    "                    falseList[mineralNameTemp] = False\n",
    "                    TruePositive = TruePositive + 1\n",
    "                    tempBoolState = True\n",
    "            if tempBoolState == False:\n",
    "                FalsePositive = FalsePositive + 1\n",
    "            if (innerIndex + 1 == i+1):\n",
    "                FalseNegative = sum(falseList.values())\n",
    "                Precision = TruePositive / (TruePositive + FalsePositive)\n",
    "                Recall = TruePositive / (TruePositive + FalseNegative)\n",
    "                if Precision != 0 or Recall != 0:\n",
    "                    F1Score = 2 * (Precision * Recall) / (Precision + Recall)\n",
    "                else:\n",
    "                    F1Score = 0\n",
    "                precisionResult.append(Precision)\n",
    "                recallResult.append(Recall)\n",
    "                fscoreList.append(F1Score)\n",
    "                break\n",
    "    tmp_results['n'] = [i+1]*len(fscoreList)\n",
    "    tmp_results['index'] = range(len(fscoreList))\n",
    "    tmp_results['fScore'] = fscoreList\n",
    "    tmp_results['recall'] = recallResult\n",
    "    tmp_results['precision'] = precisionResult\n",
    "    results = results.append(tmp_results)"
   ]
  },
  {
   "cell_type": "code",
   "execution_count": 480,
   "id": "215e4fbd",
   "metadata": {},
   "outputs": [
    {
     "data": {
      "text/html": [
       "<div>\n",
       "<style scoped>\n",
       "    .dataframe tbody tr th:only-of-type {\n",
       "        vertical-align: middle;\n",
       "    }\n",
       "\n",
       "    .dataframe tbody tr th {\n",
       "        vertical-align: top;\n",
       "    }\n",
       "\n",
       "    .dataframe thead th {\n",
       "        text-align: right;\n",
       "    }\n",
       "</style>\n",
       "<table border=\"1\" class=\"dataframe\">\n",
       "  <thead>\n",
       "    <tr style=\"text-align: right;\">\n",
       "      <th></th>\n",
       "      <th>n</th>\n",
       "      <th>index</th>\n",
       "      <th>fScore</th>\n",
       "      <th>recall</th>\n",
       "      <th>precision</th>\n",
       "    </tr>\n",
       "  </thead>\n",
       "  <tbody>\n",
       "    <tr>\n",
       "      <th>0</th>\n",
       "      <td>1</td>\n",
       "      <td>0</td>\n",
       "      <td>0.000000</td>\n",
       "      <td>0.000000</td>\n",
       "      <td>0.00</td>\n",
       "    </tr>\n",
       "    <tr>\n",
       "      <th>1</th>\n",
       "      <td>1</td>\n",
       "      <td>1</td>\n",
       "      <td>0.000000</td>\n",
       "      <td>0.000000</td>\n",
       "      <td>0.00</td>\n",
       "    </tr>\n",
       "    <tr>\n",
       "      <th>2</th>\n",
       "      <td>1</td>\n",
       "      <td>2</td>\n",
       "      <td>0.000000</td>\n",
       "      <td>0.000000</td>\n",
       "      <td>0.00</td>\n",
       "    </tr>\n",
       "    <tr>\n",
       "      <th>3</th>\n",
       "      <td>1</td>\n",
       "      <td>3</td>\n",
       "      <td>0.666667</td>\n",
       "      <td>0.500000</td>\n",
       "      <td>1.00</td>\n",
       "    </tr>\n",
       "    <tr>\n",
       "      <th>4</th>\n",
       "      <td>1</td>\n",
       "      <td>4</td>\n",
       "      <td>0.000000</td>\n",
       "      <td>0.000000</td>\n",
       "      <td>0.00</td>\n",
       "    </tr>\n",
       "    <tr>\n",
       "      <th>...</th>\n",
       "      <td>...</td>\n",
       "      <td>...</td>\n",
       "      <td>...</td>\n",
       "      <td>...</td>\n",
       "      <td>...</td>\n",
       "    </tr>\n",
       "    <tr>\n",
       "      <th>145</th>\n",
       "      <td>50</td>\n",
       "      <td>145</td>\n",
       "      <td>0.142857</td>\n",
       "      <td>0.666667</td>\n",
       "      <td>0.08</td>\n",
       "    </tr>\n",
       "    <tr>\n",
       "      <th>146</th>\n",
       "      <td>50</td>\n",
       "      <td>146</td>\n",
       "      <td>0.000000</td>\n",
       "      <td>0.000000</td>\n",
       "      <td>0.00</td>\n",
       "    </tr>\n",
       "    <tr>\n",
       "      <th>147</th>\n",
       "      <td>50</td>\n",
       "      <td>147</td>\n",
       "      <td>0.333333</td>\n",
       "      <td>1.000000</td>\n",
       "      <td>0.20</td>\n",
       "    </tr>\n",
       "    <tr>\n",
       "      <th>148</th>\n",
       "      <td>50</td>\n",
       "      <td>148</td>\n",
       "      <td>0.181818</td>\n",
       "      <td>1.000000</td>\n",
       "      <td>0.10</td>\n",
       "    </tr>\n",
       "    <tr>\n",
       "      <th>149</th>\n",
       "      <td>50</td>\n",
       "      <td>149</td>\n",
       "      <td>0.142857</td>\n",
       "      <td>0.666667</td>\n",
       "      <td>0.08</td>\n",
       "    </tr>\n",
       "  </tbody>\n",
       "</table>\n",
       "<p>7500 rows × 5 columns</p>\n",
       "</div>"
      ],
      "text/plain": [
       "      n index    fScore    recall  precision\n",
       "0     1     0  0.000000  0.000000       0.00\n",
       "1     1     1  0.000000  0.000000       0.00\n",
       "2     1     2  0.000000  0.000000       0.00\n",
       "3     1     3  0.666667  0.500000       1.00\n",
       "4     1     4  0.000000  0.000000       0.00\n",
       "..   ..   ...       ...       ...        ...\n",
       "145  50   145  0.142857  0.666667       0.08\n",
       "146  50   146  0.000000  0.000000       0.00\n",
       "147  50   147  0.333333  1.000000       0.20\n",
       "148  50   148  0.181818  1.000000       0.10\n",
       "149  50   149  0.142857  0.666667       0.08\n",
       "\n",
       "[7500 rows x 5 columns]"
      ]
     },
     "execution_count": 480,
     "metadata": {},
     "output_type": "execute_result"
    }
   ],
   "source": [
    "results"
   ]
  },
  {
   "cell_type": "code",
   "execution_count": 481,
   "id": "fd66874f",
   "metadata": {},
   "outputs": [
    {
     "data": {
      "text/html": [
       "<div>\n",
       "<style scoped>\n",
       "    .dataframe tbody tr th:only-of-type {\n",
       "        vertical-align: middle;\n",
       "    }\n",
       "\n",
       "    .dataframe tbody tr th {\n",
       "        vertical-align: top;\n",
       "    }\n",
       "\n",
       "    .dataframe thead th {\n",
       "        text-align: right;\n",
       "    }\n",
       "</style>\n",
       "<table border=\"1\" class=\"dataframe\">\n",
       "  <thead>\n",
       "    <tr style=\"text-align: right;\">\n",
       "      <th></th>\n",
       "      <th>n</th>\n",
       "      <th>index</th>\n",
       "      <th>fScore</th>\n",
       "      <th>recall</th>\n",
       "      <th>precision</th>\n",
       "    </tr>\n",
       "  </thead>\n",
       "  <tbody>\n",
       "    <tr>\n",
       "      <th>0</th>\n",
       "      <td>1</td>\n",
       "      <td>0</td>\n",
       "      <td>0.000000</td>\n",
       "      <td>0.000000</td>\n",
       "      <td>0.0</td>\n",
       "    </tr>\n",
       "    <tr>\n",
       "      <th>1</th>\n",
       "      <td>1</td>\n",
       "      <td>1</td>\n",
       "      <td>0.666667</td>\n",
       "      <td>0.500000</td>\n",
       "      <td>1.0</td>\n",
       "    </tr>\n",
       "    <tr>\n",
       "      <th>2</th>\n",
       "      <td>1</td>\n",
       "      <td>2</td>\n",
       "      <td>0.000000</td>\n",
       "      <td>0.000000</td>\n",
       "      <td>0.0</td>\n",
       "    </tr>\n",
       "    <tr>\n",
       "      <th>3</th>\n",
       "      <td>1</td>\n",
       "      <td>3</td>\n",
       "      <td>0.000000</td>\n",
       "      <td>0.000000</td>\n",
       "      <td>0.0</td>\n",
       "    </tr>\n",
       "    <tr>\n",
       "      <th>4</th>\n",
       "      <td>1</td>\n",
       "      <td>4</td>\n",
       "      <td>0.000000</td>\n",
       "      <td>0.000000</td>\n",
       "      <td>0.0</td>\n",
       "    </tr>\n",
       "    <tr>\n",
       "      <th>...</th>\n",
       "      <td>...</td>\n",
       "      <td>...</td>\n",
       "      <td>...</td>\n",
       "      <td>...</td>\n",
       "      <td>...</td>\n",
       "    </tr>\n",
       "    <tr>\n",
       "      <th>145</th>\n",
       "      <td>1</td>\n",
       "      <td>145</td>\n",
       "      <td>0.500000</td>\n",
       "      <td>0.333333</td>\n",
       "      <td>1.0</td>\n",
       "    </tr>\n",
       "    <tr>\n",
       "      <th>146</th>\n",
       "      <td>1</td>\n",
       "      <td>146</td>\n",
       "      <td>0.000000</td>\n",
       "      <td>0.000000</td>\n",
       "      <td>0.0</td>\n",
       "    </tr>\n",
       "    <tr>\n",
       "      <th>147</th>\n",
       "      <td>1</td>\n",
       "      <td>147</td>\n",
       "      <td>0.500000</td>\n",
       "      <td>0.333333</td>\n",
       "      <td>1.0</td>\n",
       "    </tr>\n",
       "    <tr>\n",
       "      <th>148</th>\n",
       "      <td>1</td>\n",
       "      <td>148</td>\n",
       "      <td>0.666667</td>\n",
       "      <td>0.500000</td>\n",
       "      <td>1.0</td>\n",
       "    </tr>\n",
       "    <tr>\n",
       "      <th>149</th>\n",
       "      <td>1</td>\n",
       "      <td>149</td>\n",
       "      <td>0.500000</td>\n",
       "      <td>0.333333</td>\n",
       "      <td>1.0</td>\n",
       "    </tr>\n",
       "  </tbody>\n",
       "</table>\n",
       "<p>150 rows × 5 columns</p>\n",
       "</div>"
      ],
      "text/plain": [
       "     n index    fScore    recall  precision\n",
       "0    1     0  0.000000  0.000000        0.0\n",
       "1    1     1  0.666667  0.500000        1.0\n",
       "2    1     2  0.000000  0.000000        0.0\n",
       "3    1     3  0.000000  0.000000        0.0\n",
       "4    1     4  0.000000  0.000000        0.0\n",
       "..  ..   ...       ...       ...        ...\n",
       "145  1   145  0.500000  0.333333        1.0\n",
       "146  1   146  0.000000  0.000000        0.0\n",
       "147  1   147  0.500000  0.333333        1.0\n",
       "148  1   148  0.666667  0.500000        1.0\n",
       "149  1   149  0.500000  0.333333        1.0\n",
       "\n",
       "[150 rows x 5 columns]"
      ]
     },
     "execution_count": 481,
     "metadata": {},
     "output_type": "execute_result"
    }
   ],
   "source": [
    "DataFrame_SFF"
   ]
  },
  {
   "cell_type": "code",
   "execution_count": 275,
   "id": "1938314d",
   "metadata": {},
   "outputs": [
    {
     "data": {
      "text/plain": [
       "<AxesSubplot:xlabel='n', ylabel='fScore'>"
      ]
     },
     "execution_count": 275,
     "metadata": {},
     "output_type": "execute_result"
    },
    {
     "data": {
      "image/png": "[encoded data removed]",
      "text/plain": [
       "<Figure size 1080x360 with 1 Axes>"
      ]
     },
     "metadata": {
      "needs_background": "light"
     },
     "output_type": "display_data"
    }
   ],
   "source": [
    "fig = plt.figure(figsize=(15, 5))\n",
    "sns.boxplot(data=results, x='n', y='fScore', color='gray')"
   ]
  },
  {
   "cell_type": "code",
   "execution_count": 270,
   "id": "3f9abae2",
   "metadata": {},
   "outputs": [
    {
     "data": {
      "text/plain": [
       "<AxesSubplot:xlabel='n', ylabel='precision'>"
      ]
     },
     "execution_count": 270,
     "metadata": {},
     "output_type": "execute_result"
    },
    {
     "data": {
      "image/png": "[encoded data removed]",
      "text/plain": [
       "<Figure size 936x360 with 1 Axes>"
      ]
     },
     "metadata": {
      "needs_background": "light"
     },
     "output_type": "display_data"
    }
   ],
   "source": [
    "fig = plt.figure(figsize=(13, 5))\n",
    "sns.boxplot(data=results, x='n', y='precision', color='gray')"
   ]
  },
  {
   "cell_type": "code",
   "execution_count": 271,
   "id": "6ea73c23",
   "metadata": {},
   "outputs": [
    {
     "data": {
      "text/plain": [
       "<AxesSubplot:xlabel='n', ylabel='recall'>"
      ]
     },
     "execution_count": 271,
     "metadata": {},
     "output_type": "execute_result"
    },
    {
     "data": {
      "image/png": "[encoded data removed]",
      "text/plain": [
       "<Figure size 936x360 with 1 Axes>"
      ]
     },
     "metadata": {
      "needs_background": "light"
     },
     "output_type": "display_data"
    }
   ],
   "source": [
    "fig = plt.figure(figsize=(13, 5))\n",
    "sns.boxplot(data=results, x='n', y='recall', color='gray')"
   ]
  },
  {
   "cell_type": "code",
   "execution_count": 274,
   "id": "e0fa86b4",
   "metadata": {},
   "outputs": [
    {
     "data": {
      "text/html": [
       "<div>\n",
       "<style scoped>\n",
       "    .dataframe tbody tr th:only-of-type {\n",
       "        vertical-align: middle;\n",
       "    }\n",
       "\n",
       "    .dataframe tbody tr th {\n",
       "        vertical-align: top;\n",
       "    }\n",
       "\n",
       "    .dataframe thead th {\n",
       "        text-align: right;\n",
       "    }\n",
       "</style>\n",
       "<table border=\"1\" class=\"dataframe\">\n",
       "  <thead>\n",
       "    <tr style=\"text-align: right;\">\n",
       "      <th></th>\n",
       "      <th>n</th>\n",
       "      <th>index</th>\n",
       "      <th>fScore</th>\n",
       "      <th>recall</th>\n",
       "      <th>precision</th>\n",
       "    </tr>\n",
       "  </thead>\n",
       "  <tbody>\n",
       "    <tr>\n",
       "      <th>0</th>\n",
       "      <td>1</td>\n",
       "      <td>0</td>\n",
       "      <td>0.000000</td>\n",
       "      <td>0.000000</td>\n",
       "      <td>0.00</td>\n",
       "    </tr>\n",
       "    <tr>\n",
       "      <th>1</th>\n",
       "      <td>1</td>\n",
       "      <td>1</td>\n",
       "      <td>0.000000</td>\n",
       "      <td>0.000000</td>\n",
       "      <td>0.00</td>\n",
       "    </tr>\n",
       "    <tr>\n",
       "      <th>2</th>\n",
       "      <td>1</td>\n",
       "      <td>2</td>\n",
       "      <td>0.000000</td>\n",
       "      <td>0.000000</td>\n",
       "      <td>0.00</td>\n",
       "    </tr>\n",
       "    <tr>\n",
       "      <th>3</th>\n",
       "      <td>1</td>\n",
       "      <td>3</td>\n",
       "      <td>0.666667</td>\n",
       "      <td>0.500000</td>\n",
       "      <td>1.00</td>\n",
       "    </tr>\n",
       "    <tr>\n",
       "      <th>4</th>\n",
       "      <td>1</td>\n",
       "      <td>4</td>\n",
       "      <td>0.000000</td>\n",
       "      <td>0.000000</td>\n",
       "      <td>0.00</td>\n",
       "    </tr>\n",
       "    <tr>\n",
       "      <th>...</th>\n",
       "      <td>...</td>\n",
       "      <td>...</td>\n",
       "      <td>...</td>\n",
       "      <td>...</td>\n",
       "      <td>...</td>\n",
       "    </tr>\n",
       "    <tr>\n",
       "      <th>145</th>\n",
       "      <td>50</td>\n",
       "      <td>145</td>\n",
       "      <td>0.142857</td>\n",
       "      <td>0.666667</td>\n",
       "      <td>0.08</td>\n",
       "    </tr>\n",
       "    <tr>\n",
       "      <th>146</th>\n",
       "      <td>50</td>\n",
       "      <td>146</td>\n",
       "      <td>0.000000</td>\n",
       "      <td>0.000000</td>\n",
       "      <td>0.00</td>\n",
       "    </tr>\n",
       "    <tr>\n",
       "      <th>147</th>\n",
       "      <td>50</td>\n",
       "      <td>147</td>\n",
       "      <td>0.333333</td>\n",
       "      <td>1.000000</td>\n",
       "      <td>0.20</td>\n",
       "    </tr>\n",
       "    <tr>\n",
       "      <th>148</th>\n",
       "      <td>50</td>\n",
       "      <td>148</td>\n",
       "      <td>0.181818</td>\n",
       "      <td>1.000000</td>\n",
       "      <td>0.10</td>\n",
       "    </tr>\n",
       "    <tr>\n",
       "      <th>149</th>\n",
       "      <td>50</td>\n",
       "      <td>149</td>\n",
       "      <td>0.142857</td>\n",
       "      <td>0.666667</td>\n",
       "      <td>0.08</td>\n",
       "    </tr>\n",
       "  </tbody>\n",
       "</table>\n",
       "<p>7500 rows × 5 columns</p>\n",
       "</div>"
      ],
      "text/plain": [
       "      n index    fScore    recall  precision\n",
       "0     1     0  0.000000  0.000000       0.00\n",
       "1     1     1  0.000000  0.000000       0.00\n",
       "2     1     2  0.000000  0.000000       0.00\n",
       "3     1     3  0.666667  0.500000       1.00\n",
       "4     1     4  0.000000  0.000000       0.00\n",
       "..   ..   ...       ...       ...        ...\n",
       "145  50   145  0.142857  0.666667       0.08\n",
       "146  50   146  0.000000  0.000000       0.00\n",
       "147  50   147  0.333333  1.000000       0.20\n",
       "148  50   148  0.181818  1.000000       0.10\n",
       "149  50   149  0.142857  0.666667       0.08\n",
       "\n",
       "[7500 rows x 5 columns]"
      ]
     },
     "execution_count": 274,
     "metadata": {},
     "output_type": "execute_result"
    }
   ],
   "source": [
    "results"
   ]
  },
  {
   "cell_type": "code",
   "execution_count": null,
   "id": "a2ea307a",
   "metadata": {},
   "outputs": [],
   "source": []
  },
  {
   "cell_type": "markdown",
   "id": "2762af33",
   "metadata": {},
   "source": [
    "### Area Under The Curve"
   ]
  },
  {
   "cell_type": "code",
   "execution_count": 299,
   "id": "de5ab8f2",
   "metadata": {},
   "outputs": [],
   "source": [
    "n = 100\n",
    "f1ScoreMeanlist = []\n",
    "resultsAUC = pd.DataFrame(columns=['index', 'AUCScore'])\n",
    "\n",
    "steps = 1/n\n",
    "AUCScore = []\n",
    "#ignoreList = [\"AlCU91\", \"AlCU98-8H\" ]\n",
    "fscoreList = []\n",
    "precisionResult=[]\n",
    "recallResult=[]\n",
    "X = [0]\n",
    "Y = [0]\n",
    "\n",
    "\n",
    "\n",
    "for outerIndex in range(len(dictionaryList)):\n",
    "    X = [0]\n",
    "    Y = [0]\n",
    "    tempDictionary = dictionaryList[outerIndex]\n",
    "    fileNamesTemp = fileNameList[outerIndex].replace('.xlsx','').split('_')[1:]\n",
    "    falseList = dict.fromkeys(set(fileNamesTemp), True)\n",
    "    for innerIndex in range(len(tempDictionary)):\n",
    "        tempBoolState = False\n",
    "        mineralNameTemp = tempDictionary[innerIndex][0].split(' ')[0]\n",
    "        for fileName in fileNamesTemp:\n",
    "            if mineralNameTemp in fileName:\n",
    "\n",
    "                tempBoolState = True\n",
    "                Y.append(Y[len(Y)-1] + steps)\n",
    "                \n",
    "        if tempBoolState == False:\n",
    "            Y.append(Y[len(Y)-1])\n",
    "            \n",
    "        X.append(X[len(X)-1] + steps)\n",
    "        if (innerIndex + 1 == n):\n",
    "            AUCScore.append(auc(X,Y))\n",
    "            break\n",
    "resultsAUC['index'] = range(len(AUCScore))\n",
    "resultsAUC['AUCScore'] = AUCScore"
   ]
  },
  {
   "cell_type": "code",
   "execution_count": 311,
   "id": "b6fb2eec",
   "metadata": {},
   "outputs": [
    {
     "data": {
      "text/plain": [
       "index       1.0000\n",
       "AUCScore    0.0672\n",
       "Name: 1, dtype: float64"
      ]
     },
     "execution_count": 311,
     "metadata": {},
     "output_type": "execute_result"
    }
   ],
   "source": [
    "scores = [1, 2, 4, 5, 1.3, 3, 7, 8, 2.5, 3.3]\n",
    "matches = [False, False, False, False, True, False, False, False, False, True]"
   ]
  },
  {
   "cell_type": "code",
   "execution_count": null,
   "id": "f13b0b53",
   "metadata": {},
   "outputs": [],
   "source": [
    "tpr, fpr, AUC = ROC(scores, matches, False)\n",
    "AUC"
   ]
  },
  {
   "cell_type": "code",
   "execution_count": null,
   "id": "1c86b0fa",
   "metadata": {},
   "outputs": [],
   "source": [
    "fig = plt.figure(figsize=(5,5))\n",
    "plt.plot(fpr, tpr)\n",
    "plt.plot([0,1], [0,1], '--r')"
   ]
  }
 ],
 "metadata": {
  "kernelspec": {
   "display_name": "Python 3 (ipykernel)",
   "language": "python",
   "name": "python3"
  },
  "language_info": {
   "codemirror_mode": {
    "name": "ipython",
    "version": 3
   },
   "file_extension": ".py",
   "mimetype": "text/x-python",
   "name": "python",
   "nbconvert_exporter": "python",
   "pygments_lexer": "ipython3",
   "version": "3.8.12"
  }
 },
 "nbformat": 4,
 "nbformat_minor": 5
}
