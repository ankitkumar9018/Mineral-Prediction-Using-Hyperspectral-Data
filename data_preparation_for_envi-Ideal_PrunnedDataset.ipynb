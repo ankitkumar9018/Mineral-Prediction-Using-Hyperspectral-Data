{
 "cells": [
  {
   "cell_type": "code",
   "execution_count": 1,
   "id": "9d303b1b",
   "metadata": {},
   "outputs": [],
   "source": [
    "import numpy as np\n",
    "import pandas as pd\n",
    "import matplotlib.pyplot as plt\n",
    "import scipy\n",
    "from scipy import signal\n",
    "import os\n",
    "import glob\n",
    "from sklearn import preprocessing\n",
    "from pysptools import spectro as sp\n",
    "from IPython.display import display\n",
    "import ipywidgets as widgets\n",
    "from math import*\n",
    "import peakutils\n",
    "import rampy as rp"
   ]
  },
  {
   "cell_type": "code",
   "execution_count": 2,
   "id": "2cfdce13",
   "metadata": {},
   "outputs": [],
   "source": [
    "path = \"../data/enviData/ENVIFilesUsgsOriginal/\"\n",
    "txt_files = glob.glob(path + \"/**/*.txt\", recursive = True)"
   ]
  },
  {
   "cell_type": "code",
   "execution_count": 3,
   "id": "1901517f",
   "metadata": {},
   "outputs": [
    {
     "data": {
      "text/plain": [
       "481"
      ]
     },
     "execution_count": 3,
     "metadata": {},
     "output_type": "execute_result"
    }
   ],
   "source": [
    "len(txt_files)"
   ]
  },
  {
   "cell_type": "code",
   "execution_count": 26,
   "id": "1e6fc483",
   "metadata": {},
   "outputs": [
    {
     "name": "stderr",
     "output_type": "stream",
     "text": [
      "/Users/ankit/opt/anaconda3/lib/python3.8/site-packages/pandas/util/_decorators.py:311: ParserWarning: Falling back to the 'python' engine because the 'c' engine does not support regex separators (separators > 1 char and different from '\\s+' are interpreted as regex); you can avoid this warning by specifying engine='python'.\n",
      "  return func(*args, **kwargs)\n"
     ]
    }
   ],
   "source": [
    "for index in range(len(txt_files)):\n",
    "    temp = pd.read_csv(txt_files[index], skiprows = 3, header = None, sep='  ')\n",
    "    x_old = list(map(float, temp[0]*1000))\n",
    "    #normalized_spectraValue = preprocessing.normalize([temp[1]])[0]\n",
    "    x_new = np.arange(350., 2501., 1.)\n",
    "    y_new = rp.resample(x_old, temp[1], x_new, fill_value=\"extrapolate\")\n",
    "    spect = pd.DataFrame(x_new)\n",
    "    spect[1] = y_new\n",
    "    spect.columns = ['wave','reflectance']\n",
    "    targetPath = txt_files[index].replace('ENVIFilesUsgsOriginal', 'ENVIFilesUsgsProcessed2')\n",
    "    spect.to_csv(targetPath, index=None, sep=' ')"
   ]
  },
  {
   "cell_type": "code",
   "execution_count": 22,
   "id": "a3152531",
   "metadata": {},
   "outputs": [
    {
     "data": {
      "text/plain": [
       "[<matplotlib.lines.Line2D at 0x7f79ecbe7580>]"
      ]
     },
     "execution_count": 22,
     "metadata": {},
     "output_type": "execute_result"
    },
    {
     "data": {
      "image/png": "[encoded data removed]",
      "text/plain": [
       "<Figure size 432x288 with 1 Axes>"
      ]
     },
     "metadata": {
      "needs_background": "light"
     },
     "output_type": "display_data"
    }
   ],
   "source": [
    "plt.plot(x_new, y_new)"
   ]
  },
  {
   "cell_type": "code",
   "execution_count": null,
   "id": "76477a85",
   "metadata": {},
   "outputs": [],
   "source": []
  }
 ],
 "metadata": {
  "kernelspec": {
   "display_name": "Python 3 (ipykernel)",
   "language": "python",
   "name": "python3"
  },
  "language_info": {
   "codemirror_mode": {
    "name": "ipython",
    "version": 3
   },
   "file_extension": ".py",
   "mimetype": "text/x-python",
   "name": "python",
   "nbconvert_exporter": "python",
   "pygments_lexer": "ipython3",
   "version": "3.8.12"
  }
 },
 "nbformat": 4,
 "nbformat_minor": 5
}
