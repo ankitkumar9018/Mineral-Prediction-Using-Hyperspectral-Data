{
 "cells": [
  {
   "cell_type": "code",
   "execution_count": 115,
   "id": "5e4567b7",
   "metadata": {},
   "outputs": [],
   "source": [
    "import pandas as pd\n",
    "import numpy as np\n",
    "import matplotlib.pyplot as plt\n",
    "import pysat as py\n",
    "import os\n",
    "import glob"
   ]
  },
  {
   "cell_type": "code",
   "execution_count": 116,
   "id": "417e5375",
   "metadata": {},
   "outputs": [],
   "source": [
    "path = \"../data\"\n",
    "esp_files = glob.glob(path + \"/**/*.esp\", recursive = True)"
   ]
  },
  {
   "cell_type": "code",
   "execution_count": 117,
   "id": "48054b40",
   "metadata": {},
   "outputs": [],
   "source": [
    "#py.Instrument"
   ]
  },
  {
   "cell_type": "code",
   "execution_count": 126,
   "id": "ba8e9514",
   "metadata": {},
   "outputs": [
    {
     "data": {
      "text/plain": [
       "<Figure size 864x432 with 0 Axes>"
      ]
     },
     "metadata": {},
     "output_type": "display_data"
    }
   ],
   "source": [
    "for index in range(len(esp_files)):\n",
    "    try:\n",
    "        raman = pd.read_fwf(esp_files[index], header = None)\n",
    "        if raman.isnull().values.any():\n",
    "            raise\n",
    "    except:\n",
    "        file = pd.read_fwf(esp_files[index], skiprows = 2, sep = ' ', header = None)\n",
    "        fileData = file[0]\n",
    "        fileData = fileData.str.split(' ')\n",
    "        result = [list( map(np.float128,i) ) for i in fileData]\n",
    "        raman = pd.DataFrame(result)\n",
    "    finally:\n",
    "        try:\n",
    "            target = esp_files[index].replace('/data','/imageFiles').replace('esp','png')\n",
    "            os.makedirs(target.rsplit('/', 1)[0], exist_ok=True)\n",
    "            #print(target)\n",
    "            fig = plt.figure(figsize=(12, 6))\n",
    "            plt.plot(raman[0], raman[1])\n",
    "            plt.savefig(target, dpi=fig.dpi)\n",
    "            plt.close()\n",
    "        except:\n",
    "            raman = pd.read_fwf(esp_files[index], header = None)\n",
    "            fileData = file[0]\n",
    "            fileData = fileData.str.split(' ')\n",
    "            result = [list( map(np.float128,i) ) for i in fileData]\n",
    "            raman = pd.DataFrame(result)\n",
    "            fig = plt.figure(figsize=(12, 6))\n",
    "            plt.plot(raman[0], raman[1])\n",
    "            plt.savefig(target, dpi=fig.dpi)\n",
    "            plt.close()"
   ]
  }
 ],
 "metadata": {
  "kernelspec": {
   "display_name": "Python 3",
   "language": "python",
   "name": "python3"
  },
  "language_info": {
   "codemirror_mode": {
    "name": "ipython",
    "version": 3
   },
   "file_extension": ".py",
   "mimetype": "text/x-python",
   "name": "python",
   "nbconvert_exporter": "python",
   "pygments_lexer": "ipython3",
   "version": "3.8.8"
  }
 },
 "nbformat": 4,
 "nbformat_minor": 5
}
