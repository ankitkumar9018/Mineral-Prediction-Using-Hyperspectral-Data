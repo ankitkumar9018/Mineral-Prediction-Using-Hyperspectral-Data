{
 "cells": [
  {
   "cell_type": "code",
   "execution_count": 272,
   "id": "9d303b1b",
   "metadata": {},
   "outputs": [],
   "source": [
    "import numpy as np\n",
    "import pandas as pd\n",
    "import matplotlib.pyplot as plt\n",
    "import scipy\n",
    "import os\n",
    "import glob"
   ]
  },
  {
   "cell_type": "code",
   "execution_count": 278,
   "id": "2cfdce13",
   "metadata": {},
   "outputs": [],
   "source": [
    "path = \"../data/enviData/ChapterM_Minerals/\"\n",
    "txt_files = glob.glob(path + \"/**/*.txt\", recursive = True)\n",
    "\n",
    "newList = []\n",
    "counter = 0"
   ]
  },
  {
   "cell_type": "code",
   "execution_count": 279,
   "id": "0ba4581e",
   "metadata": {},
   "outputs": [],
   "source": [
    "for index in range(len(txt_files)):\n",
    "    if txt_files[index].find('_NIC') == -1:\n",
    "        newList.append(txt_files[index])\n",
    "    #envi = pd.read_fwf(txt_files[index], skiprows = 1, header = None)\n",
    "    "
   ]
  },
  {
   "cell_type": "code",
   "execution_count": 280,
   "id": "9c6f85d2",
   "metadata": {},
   "outputs": [],
   "source": [
    "for index in range(len(newList)):\n",
    "    envi = pd.read_fwf(newList[index], skiprows = 1, header = None)\n",
    "    if envi[0][0] < 0:\n",
    "        envi[0][0] = envi[0][1]\n",
    "    if envi[0][2150] < 0:\n",
    "        envi[0][2150] = envi[0][2149]\n",
    "    if (envi.values < 0).any():\n",
    "        envi = envi.replace(-1.23e+34, np.nan)\n",
    "        envi = envi.interpolate()\n",
    "    if (envi.values == 0).any():\n",
    "        counter = counter +1\n",
    "    envi[1] = envi[0]\n",
    "    envi[0] = datax[0]\n",
    "    envi.columns = ['wave','reflectance']\n",
    "    envi.to_csv(newList[index].replace('ChapterM_Minerals', 'cleanFolder'), index=None, sep=' ')"
   ]
  },
  {
   "cell_type": "code",
   "execution_count": 281,
   "id": "c871c0fb",
   "metadata": {},
   "outputs": [
    {
     "data": {
      "text/html": [
       "<div>\n",
       "<style scoped>\n",
       "    .dataframe tbody tr th:only-of-type {\n",
       "        vertical-align: middle;\n",
       "    }\n",
       "\n",
       "    .dataframe tbody tr th {\n",
       "        vertical-align: top;\n",
       "    }\n",
       "\n",
       "    .dataframe thead th {\n",
       "        text-align: right;\n",
       "    }\n",
       "</style>\n",
       "<table border=\"1\" class=\"dataframe\">\n",
       "  <thead>\n",
       "    <tr style=\"text-align: right;\">\n",
       "      <th></th>\n",
       "      <th>wave</th>\n",
       "      <th>reflectance</th>\n",
       "    </tr>\n",
       "  </thead>\n",
       "  <tbody>\n",
       "    <tr>\n",
       "      <th>0</th>\n",
       "      <td>0.350</td>\n",
       "      <td>0.374813</td>\n",
       "    </tr>\n",
       "    <tr>\n",
       "      <th>1</th>\n",
       "      <td>0.351</td>\n",
       "      <td>0.374813</td>\n",
       "    </tr>\n",
       "    <tr>\n",
       "      <th>2</th>\n",
       "      <td>0.352</td>\n",
       "      <td>0.376043</td>\n",
       "    </tr>\n",
       "    <tr>\n",
       "      <th>3</th>\n",
       "      <td>0.353</td>\n",
       "      <td>0.378371</td>\n",
       "    </tr>\n",
       "    <tr>\n",
       "      <th>4</th>\n",
       "      <td>0.354</td>\n",
       "      <td>0.378754</td>\n",
       "    </tr>\n",
       "    <tr>\n",
       "      <th>...</th>\n",
       "      <td>...</td>\n",
       "      <td>...</td>\n",
       "    </tr>\n",
       "    <tr>\n",
       "      <th>2146</th>\n",
       "      <td>2.496</td>\n",
       "      <td>0.519968</td>\n",
       "    </tr>\n",
       "    <tr>\n",
       "      <th>2147</th>\n",
       "      <td>2.497</td>\n",
       "      <td>0.520822</td>\n",
       "    </tr>\n",
       "    <tr>\n",
       "      <th>2148</th>\n",
       "      <td>2.498</td>\n",
       "      <td>0.520634</td>\n",
       "    </tr>\n",
       "    <tr>\n",
       "      <th>2149</th>\n",
       "      <td>2.499</td>\n",
       "      <td>0.520458</td>\n",
       "    </tr>\n",
       "    <tr>\n",
       "      <th>2150</th>\n",
       "      <td>2.500</td>\n",
       "      <td>0.520458</td>\n",
       "    </tr>\n",
       "  </tbody>\n",
       "</table>\n",
       "<p>2151 rows × 2 columns</p>\n",
       "</div>"
      ],
      "text/plain": [
       "       wave  reflectance\n",
       "0     0.350     0.374813\n",
       "1     0.351     0.374813\n",
       "2     0.352     0.376043\n",
       "3     0.353     0.378371\n",
       "4     0.354     0.378754\n",
       "...     ...          ...\n",
       "2146  2.496     0.519968\n",
       "2147  2.497     0.520822\n",
       "2148  2.498     0.520634\n",
       "2149  2.499     0.520458\n",
       "2150  2.500     0.520458\n",
       "\n",
       "[2151 rows x 2 columns]"
      ]
     },
     "execution_count": 281,
     "metadata": {},
     "output_type": "execute_result"
    }
   ],
   "source": [
    "envi"
   ]
  },
  {
   "cell_type": "code",
   "execution_count": 265,
   "id": "de78cc63",
   "metadata": {},
   "outputs": [
    {
     "data": {
      "text/plain": [
       "[<matplotlib.lines.Line2D at 0x7fcda04cbbe0>]"
      ]
     },
     "execution_count": 265,
     "metadata": {},
     "output_type": "execute_result"
    },
    {
     "data": {
      "image/png": "[encoded data removed]",
      "text/plain": [
       "<Figure size 432x288 with 1 Axes>"
      ]
     },
     "metadata": {
      "needs_background": "light"
     },
     "output_type": "display_data"
    }
   ],
   "source": [
    "filedatax = '../data/enviData/s07_ASD_Wavelengths_ASD_0.35-2.5_microns_2151_ch.txt'\n",
    "filedatay = '../data/enviData/ChapterM_Minerals/s07_ASD_Axinite_HS342.2B_ASDFRb_AREF.txt'\n",
    "\n",
    "datax = pd.read_fwf(filedatax, skiprows = 1, header = None)\n",
    "datay = pd.read_fwf(filedatay, skiprows = 1, header = None)\n",
    "#datay = datay.replace(-1.23e+34, np.nan)\n",
    "#datay = datay.interpolate()\n",
    "plt.plot(datax, datay)\n"
   ]
  },
  {
   "cell_type": "code",
   "execution_count": 283,
   "id": "a2e27e74",
   "metadata": {},
   "outputs": [
    {
     "data": {
      "text/plain": [
       "0"
      ]
     },
     "execution_count": 283,
     "metadata": {},
     "output_type": "execute_result"
    }
   ],
   "source": [
    "counter"
   ]
  },
  {
   "cell_type": "code",
   "execution_count": null,
   "id": "fd6d7ffe",
   "metadata": {},
   "outputs": [],
   "source": []
  }
 ],
 "metadata": {
  "kernelspec": {
   "display_name": "Python 3 (ipykernel)",
   "language": "python",
   "name": "python3"
  },
  "language_info": {
   "codemirror_mode": {
    "name": "ipython",
    "version": 3
   },
   "file_extension": ".py",
   "mimetype": "text/x-python",
   "name": "python",
   "nbconvert_exporter": "python",
   "pygments_lexer": "ipython3",
   "version": "3.8.12"
  }
 },
 "nbformat": 4,
 "nbformat_minor": 5
}
