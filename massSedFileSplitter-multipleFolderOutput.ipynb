{
 "cells": [
  {
   "cell_type": "markdown",
   "id": "94fdebab",
   "metadata": {},
   "source": [
    "### Import Libraries"
   ]
  },
  {
   "cell_type": "code",
   "execution_count": 63,
   "id": "3fea02b9",
   "metadata": {},
   "outputs": [],
   "source": [
    "import pandas as pd\n",
    "import numpy as np\n",
    "import os\n",
    "import glob"
   ]
  },
  {
   "cell_type": "markdown",
   "id": "0889af13",
   "metadata": {},
   "source": [
    "### Function Declarations"
   ]
  },
  {
   "cell_type": "code",
   "execution_count": 64,
   "id": "2bea01a2",
   "metadata": {},
   "outputs": [],
   "source": [
    "class Spectrum:\n",
    "    \n",
    "    def __init__(self, RangeName, Spectrum_suffix, WaveLength_MIN = 0.0, Wavelength_MAX = 99999.9):\n",
    "        self.rangeName = RangeName\n",
    "        self.ext = \".sed\"\n",
    "        self.suffix = Spectrum_suffix\n",
    "        self.range = (WaveLength_MIN, Wavelength_MAX)\n",
    "        \n",
    "class SpectTools():\n",
    "    \n",
    "    def GetValueOfDataLine(line):\n",
    "        number_start = 1 * (str(line)[0:0] == ' ')\n",
    "        number_end = str(line).find(\"\\t\")\n",
    "        number = float(str(line)[number_start:number_end])\n",
    "        return number\n",
    "    \n",
    "    def GetFirstDataLine(data):\n",
    "        line_end = data.find(\"\\n\")+1\n",
    "        return data[0:line_end]\n",
    "    \n",
    "    def GetLastDataLine(data):\n",
    "        lastLine = data.rfind('\\n', 0,len(data)-1)+1\n",
    "        return(data[lastLine:len(data)])\n",
    "    \n",
    "    def DeleteFirstDataLine(data):\n",
    "        return data.replace(GetFirstDataLine,\"\")\n",
    "    \n",
    "    def GetDataRange(data):\n",
    "        first = SpectTools.GetValueOfDataLine(SpectTools.GetFirstDataLine(data))\n",
    "        last = SpectTools.GetValueOfDataLine(SpectTools.GetLastDataLine(data))\n",
    "        return(first,last)\n",
    "    \n",
    "    def GetData(source_target):\n",
    "        file = open(source_target).read()\n",
    "        data_start = file.rfind(\"]\")+2\n",
    "        return file[data_start:len(file)]\n",
    "    \n",
    "    def GetHeaderAndFilename(spectrum, source_target, dataRange, FileExtensionType = \".sed\"):\n",
    "        file = open(source_target, \"r\").read()\n",
    "        extType = FileExtensionType\n",
    "        filename_internal = file[file.rfind(\"\\\\\")+1:file.find(extType)+len(extType)]\n",
    "        filename_external = source_target[source_target.rfind(\"/\")+1:source_target.find(extType)+len(extType)]\n",
    "        #print(source_target)\n",
    "        newFileName_internal = filename_internal.replace(extType, spectrum.suffix+extType)\n",
    "        newFileName_external = filename_external.replace(extType, spectrum.suffix+extType)\n",
    "        range_min = max(dataRange[0],spectrum.range[0])\n",
    "        range_max = min(dataRange[1],spectrum.range[1])        \n",
    "        comment = \" This file has been automatically generated based on \\'\" + filename_external + \"\\' to only include only the subset of measurements that occur within the user-defined \\'\"+spectrum.rangeName+\"\\' EM range, with wavelengths between \"+str(spectrum.range[0])+\"nm and \"+str(spectrum.range[1])+\"nm.\"\n",
    "        channels_string = str(int(range_max - range_min + 1))\n",
    "        \n",
    "        if dataRange[1] < spectrum.range[0] or dataRange[0]>spectrum.range[1]:\n",
    "            WL_String = \" ERROR - SPECTRUM OUT OF RANGE\"\n",
    "            channels_string = \"0\"\n",
    "            comment = \" ERROR - No readings have been found within \\'\"+source_target+\"\\' for the spectrum given! (\" + spectrum.rangeName + \" band: \"+ str(spectrum.range[0]) + \"nm to \"+ str(spectrum.range[1]) +\"nm)\"\n",
    "            newFileName_internal += \".error\"\n",
    "            newFileName_external += \".error\"\n",
    "        else:\n",
    "            WL_String = str(int(range_min)) + \",\" + str(int(range_max))\n",
    "             \n",
    "        comment_index = len(\"Comment:\")\n",
    "        version_index = file.find(\"Version\")\n",
    "        extension_index = file.rfind(filename_internal)\n",
    "        instr_index = file.find(\"Instrument\")\n",
    "        wlr_index = file.find(\"Wavelength Range:\") + len(\"Wavelength Range:\") + 1\n",
    "        wlr_index_end = file.find(\"Latitude:\")\n",
    "        Channels_index =  file.find(\"Channels: \") + len(\"Channels: \")\n",
    "        Channels_index_end = file.find(\"Columns \")\n",
    "        header_end_index = file.find(\"Reflect. [1.0]\\n\") + len(\"Reflect. [1.0]\\n\")        \n",
    "                        \n",
    "        header = file[0:comment_index] + comment + \"\\n\"\n",
    "        header += file[version_index:extension_index] + newFileName_internal + \"\\n\"\n",
    "        header += file[instr_index:wlr_index] + WL_String + \"\\n\"\n",
    "        header += file[wlr_index_end:Channels_index] + channels_string + \"\\n\"\n",
    "        header += file[Channels_index_end:header_end_index]\n",
    "        \n",
    "        return (newFileName_external,header)\n",
    "   \n",
    "    def LineIfWithinRange(line, dataRange):\n",
    "        number = SpectTools.GetValueOfDataLine(line)\n",
    "        if (number >= dataRange[0]) and (number <= dataRange[1]):\n",
    "            return line\n",
    "        else:\n",
    "            return \"\"\n",
    "\n",
    "    def GetAllLinesInRange(data, dataRange):\n",
    "        dataset = \"\"\n",
    "        while len(data) > 7:\n",
    "            line = SpectTools.GetFirstDataLine(data)\n",
    "            dataset += SpectTools.LineIfWithinRange(line, dataRange)\n",
    "            data = data.replace(line, \"\")\n",
    "        return dataset\n",
    "    \n",
    "    def ProcessSpectra(Spectra, SED_Target):       \n",
    "        modifiedFiles = []        \n",
    "        data = SpectTools.GetData(SED_Target)\n",
    "        d_range = SpectTools.GetDataRange(data)\n",
    "        \n",
    "        for spectrum in Spectra:\n",
    "            headerInfo = SpectTools.GetHeaderAndFilename(spectrum, SED_Target, d_range)\n",
    "            fileData = SpectTools.GetAllLinesInRange(data, spectrum.range)\n",
    "            fileName = headerInfo[0]\n",
    "            fileHeader = headerInfo[1]\n",
    "            fileContent = fileHeader + fileData\n",
    "            file = (fileName, fileContent)\n",
    "            modifiedFiles.append(file)\n",
    "        return modifiedFiles\n",
    "    \n",
    "\n",
    "    \n",
    "class FileProcessing:\n",
    "    \n",
    "    def ReadAndWrite(spectra,source,target):\n",
    "        # output format: Tuple(External Filename, File Contents)[]\n",
    "        #os.makedirs(target, exist_ok=True)\n",
    "        NewFiles = SpectTools.ProcessSpectra(spectra, source)\n",
    "        for index in range(len(NewFiles)):\n",
    "            #print(NewFiles[index][0])\n",
    "            if \"_400_750_VIS\" in NewFiles[index][0]:\n",
    "                targetNew = target.replace('/splitFilesThesis','/400_750_VIS')\n",
    "            if \"_700_1400\" in NewFiles[index][0]:\n",
    "                targetNew = target.replace('/splitFilesThesis','/700_1400')\n",
    "            if \"_1300_1700\" in NewFiles[index][0]:\n",
    "                targetNew = target.replace('/splitFilesThesis','/1300_1700')\n",
    "            if \"_1600_2100\" in NewFiles[index][0]:\n",
    "                targetNew = target.replace('/splitFilesThesis','/1600_2100')\n",
    "            if \"_2000_2500\" in NewFiles[index][0]:\n",
    "                targetNew = target.replace('/splitFilesThesis','/2000_2500')\n",
    "            os.makedirs(targetNew, exist_ok=True)\n",
    "            writeFile = open(targetNew+NewFiles[index][0], \"w\")\n",
    "            writeFile.write(NewFiles[index][1])"
   ]
  },
  {
   "cell_type": "markdown",
   "id": "c2bdb11e",
   "metadata": {},
   "source": [
    "### Setting the Spectrum Range To Split The Files"
   ]
  },
  {
   "cell_type": "code",
   "execution_count": 65,
   "id": "26a594d6",
   "metadata": {},
   "outputs": [],
   "source": [
    "spectra = []\n",
    "#spectra.append(Spectrum(\"Full-Spectrum\", \"_ALL\"))\n",
    "spectra.append(Spectrum(\"Visual Spectrum\", \"_400_750_VIS\",400.0, 750.0))\n",
    "#spectra.append(Spectrum(\"350-900 Spectrum\", \"_350_900_VIS\",350.0, 900.0))\n",
    "spectra.append(Spectrum(\"700-1400 Broad Spectrum Absorption\", \"_700_1400\",700.0, 1400.0))\n",
    "spectra.append(Spectrum(\"1300-1700 OH-absorption different shapes Spectrum\", \"_1300_1700\",1300.0, 1700.0))\n",
    "spectra.append(Spectrum(\"1600-2100 OH absorptions at 1.9µm Spectrum\", \"_1600_2100\",1600.0, 2100.0))\n",
    "spectra.append(Spectrum(\"2000-2500 Me-OH absorptions Spectrum\", \"_2000_2500\",2000.0, 2500.0))\n",
    "#spectra.append(Spectrum(\"Near Infrared\", \"_IR1\", 750.0, 1400.0))\n",
    "#spectra.append(Spectrum(\"Short-wavelength Infrared\", \"_IR2\", 1400.0,3000.0))\n",
    "#spectra.append(Spectrum(\"Fake-Wavelength\", \"_none\", 200,201))"
   ]
  },
  {
   "cell_type": "markdown",
   "id": "28a87ae5",
   "metadata": {},
   "source": [
    "#### Below is example to use for single file"
   ]
  },
  {
   "cell_type": "code",
   "execution_count": 66,
   "id": "f06e4d68",
   "metadata": {},
   "outputs": [],
   "source": [
    "#source = \"/Users/ankit/Desktop/ASTRO_0001_00001.sed\"\n",
    "#target = \"/Users/ankit/Desktop/test/\"\n",
    "#FileProcessing.ReadAndWrite(spectra,source,target)"
   ]
  },
  {
   "cell_type": "markdown",
   "id": "c3f99637",
   "metadata": {},
   "source": [
    "### Reading the folder containg all SED files"
   ]
  },
  {
   "cell_type": "code",
   "execution_count": 67,
   "id": "1ebfc734",
   "metadata": {},
   "outputs": [],
   "source": [
    "path = \"../data\"\n",
    "sed_files = glob.glob(path + \"/**/*.sed\", recursive = True)"
   ]
  },
  {
   "cell_type": "markdown",
   "id": "4e57bc9f",
   "metadata": {},
   "source": [
    "### Splitting all Files"
   ]
  },
  {
   "cell_type": "code",
   "execution_count": 68,
   "id": "a60b931c",
   "metadata": {},
   "outputs": [],
   "source": [
    "for index in range(len(sed_files)):\n",
    "    FileProcessing.ReadAndWrite(spectra,sed_files[index],sed_files[index].replace('/data','/splitFilesThesis'))"
   ]
  },
  {
   "cell_type": "code",
   "execution_count": null,
   "id": "cee2eb05",
   "metadata": {},
   "outputs": [],
   "source": []
  }
 ],
 "metadata": {
  "kernelspec": {
   "display_name": "Python 3 (ipykernel)",
   "language": "python",
   "name": "python3"
  },
  "language_info": {
   "codemirror_mode": {
    "name": "ipython",
    "version": 3
   },
   "file_extension": ".py",
   "mimetype": "text/x-python",
   "name": "python",
   "nbconvert_exporter": "python",
   "pygments_lexer": "ipython3",
   "version": "3.8.12"
  }
 },
 "nbformat": 4,
 "nbformat_minor": 5
}
