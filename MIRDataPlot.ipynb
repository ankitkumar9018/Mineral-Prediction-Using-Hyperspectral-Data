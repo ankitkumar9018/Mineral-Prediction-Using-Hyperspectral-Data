{
 "cells": [
  {
   "cell_type": "code",
   "execution_count": 24,
   "id": "5e4567b7",
   "metadata": {},
   "outputs": [],
   "source": [
    "import pandas as pd\n",
    "import numpy as np\n",
    "import matplotlib.pyplot as plt\n",
    "import pysat as py\n",
    "import os\n",
    "import glob"
   ]
  },
  {
   "cell_type": "code",
   "execution_count": 25,
   "id": "417e5375",
   "metadata": {},
   "outputs": [],
   "source": [
    "path = \"../data/enviData/MIRnew/ChapterM_Minerals/\"\n",
    "esp_files = glob.glob(path + \"/**/*.txt\", recursive = True)"
   ]
  },
  {
   "cell_type": "code",
   "execution_count": 26,
   "id": "48054b40",
   "metadata": {},
   "outputs": [],
   "source": [
    "#py.Instrument"
   ]
  },
  {
   "cell_type": "code",
   "execution_count": 27,
   "id": "ba8e9514",
   "metadata": {},
   "outputs": [],
   "source": [
    "for index in range(len(esp_files)):\n",
    "    raman = pd.read_csv(esp_files[index],skiprows = 1, header = None, sep = ' ')[1]\n",
    "    target = esp_files[index].replace('/data','/imageFiles').replace('txt','png')\n",
    "    os.makedirs(target.rsplit('/', 1)[0], exist_ok=True)\n",
    "    #print(target)\n",
    "    fig = plt.figure(figsize=(12, 6))\n",
    "    plt.plot(raman)\n",
    "    plt.savefig(target, dpi=fig.dpi)\n",
    "    plt.close()"
   ]
  },
  {
   "cell_type": "code",
   "execution_count": 23,
   "id": "b516d8c2",
   "metadata": {},
   "outputs": [
    {
     "ename": "SyntaxError",
     "evalue": "unexpected EOF while parsing (2814916757.py, line 3)",
     "output_type": "error",
     "traceback": [
      "\u001b[0;36m  File \u001b[0;32m\"/var/folders/2n/8qtpk81d3fs76p8xpr2dw1qm0000gr/T/ipykernel_42515/2814916757.py\"\u001b[0;36m, line \u001b[0;32m3\u001b[0m\n\u001b[0;31m    raman = pd.read_csv(esp_files[index],skiprows = 1, header = None, sep = ' ')[1]\u001b[0m\n\u001b[0m                                                                                   ^\u001b[0m\n\u001b[0;31mSyntaxError\u001b[0m\u001b[0;31m:\u001b[0m unexpected EOF while parsing\n"
     ]
    }
   ],
   "source": [
    "for index in range(len(esp_files)):\n",
    "    try:\n",
    "        raman = pd.read_csv(esp_files[index],skiprows = 1, header = None, sep = ' ')[1]"
   ]
  },
  {
   "cell_type": "code",
   "execution_count": 17,
   "id": "710f2c8a",
   "metadata": {},
   "outputs": [
    {
     "data": {
      "text/plain": [
       "[<matplotlib.lines.Line2D at 0x7fa7e0e4c040>]"
      ]
     },
     "execution_count": 17,
     "metadata": {},
     "output_type": "execute_result"
    },
    {
     "data": {
      "image/png": "[encoded data removed]",
      "text/plain": [
       "<Figure size 432x288 with 1 Axes>"
      ]
     },
     "metadata": {
      "needs_background": "light"
     },
     "output_type": "display_data"
    }
   ],
   "source": [
    "plt.plot(raman)"
   ]
  },
  {
   "cell_type": "code",
   "execution_count": null,
   "id": "30fec679",
   "metadata": {},
   "outputs": [],
   "source": []
  }
 ],
 "metadata": {
  "kernelspec": {
   "display_name": "Python 3 (ipykernel)",
   "language": "python",
   "name": "python3"
  },
  "language_info": {
   "codemirror_mode": {
    "name": "ipython",
    "version": 3
   },
   "file_extension": ".py",
   "mimetype": "text/x-python",
   "name": "python",
   "nbconvert_exporter": "python",
   "pygments_lexer": "ipython3",
   "version": "3.8.12"
  }
 },
 "nbformat": 4,
 "nbformat_minor": 5
}
