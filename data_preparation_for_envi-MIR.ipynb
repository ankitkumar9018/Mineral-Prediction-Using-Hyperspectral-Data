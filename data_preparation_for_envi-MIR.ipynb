{
 "cells": [
  {
   "cell_type": "code",
   "execution_count": 1,
   "id": "9d303b1b",
   "metadata": {},
   "outputs": [],
   "source": [
    "import numpy as np\n",
    "import pandas as pd\n",
    "import matplotlib.pyplot as plt\n",
    "import scipy\n",
    "from scipy import signal\n",
    "import os\n",
    "import glob\n",
    "from sklearn import preprocessing\n",
    "from pysptools import spectro as sp\n",
    "from IPython.display import display\n",
    "import ipywidgets as widgets\n",
    "from math import*\n",
    "import peakutils\n",
    "import rampy as rp"
   ]
  },
  {
   "cell_type": "code",
   "execution_count": 2,
   "id": "2cfdce13",
   "metadata": {},
   "outputs": [],
   "source": [
    "path = \"../data/enviData/MIR/ChapterM_Minerals/\"\n",
    "txt_files = glob.glob(path + \"/**/*.txt\", recursive = True)\n",
    "\n",
    "\n",
    "\n",
    "\n",
    "x = pd.read_csv('../data/enviData/MIR/splib07b_Wavelengths_NIC4_Nicolet_1.12-216microns.txt', skiprows = 1, header = None)\n",
    "\n",
    "\n",
    "newList = []\n",
    "counter = 0"
   ]
  },
  {
   "cell_type": "code",
   "execution_count": 3,
   "id": "0ba4581e",
   "metadata": {},
   "outputs": [],
   "source": [
    "for index in range(len(txt_files)):\n",
    "    if txt_files[index].find('_NIC4') > 0 :\n",
    "        newList.append(txt_files[index])\n",
    "    #envi = pd.read_fwf(txt_files[index], skiprows = 1, header = None)\n",
    "    "
   ]
  },
  {
   "cell_type": "code",
   "execution_count": 8,
   "id": "1e6fc483",
   "metadata": {},
   "outputs": [],
   "source": [
    "for index in range(len(newList)):\n",
    "    temp = pd.read_csv(newList[index], skiprows = 1, header = None)\n",
    "    x_old = list(map(float, x[0]*1000))\n",
    "    normalized_spectraValue = preprocessing.normalize([temp[0]])[0]\n",
    "    x_new = np.arange(2080, 25000., 1.)\n",
    "    y_new = rp.resample(x_old, normalized_spectraValue, x_new, fill_value=\"extrapolate\")\n",
    "    mir = pd.DataFrame(x_new)\n",
    "    mir[1] = y_new\n",
    "    mir.columns = ['wave','reflectance']\n",
    "    targetPath = newList[index].replace('MIR', 'MIRnew')\n",
    "    mir.to_csv(targetPath, index=None, sep=' ')"
   ]
  },
  {
   "cell_type": "code",
   "execution_count": 55,
   "id": "4709cccf",
   "metadata": {},
   "outputs": [
    {
     "data": {
      "text/plain": [
       "0      -1.230000e+34\n",
       "1      -1.230000e+34\n",
       "2      -1.230000e+34\n",
       "3      -1.230000e+34\n",
       "4      -1.230000e+34\n",
       "            ...     \n",
       "4590   -1.230000e+34\n",
       "4591   -1.230000e+34\n",
       "4592   -1.230000e+34\n",
       "4593   -1.230000e+34\n",
       "4594   -1.230000e+34\n",
       "Name: 0, Length: 4595, dtype: float64"
      ]
     },
     "execution_count": 55,
     "metadata": {},
     "output_type": "execute_result"
    }
   ],
   "source": [
    "y = pd.read_csv(newList[45], skiprows = 1, header = None)\n",
    "y[0]"
   ]
  },
  {
   "cell_type": "code",
   "execution_count": 50,
   "id": "c28ebadf",
   "metadata": {},
   "outputs": [],
   "source": [
    "\n",
    "\n",
    "\n",
    "x = pd.read_csv('../data/enviData/MIR/splib07b_Wavelengths_NIC4_Nicolet_1.12-216microns.txt', skiprows = 1, header = None, sep=',')\n",
    "\n",
    "\n",
    "\n",
    "\n"
   ]
  },
  {
   "cell_type": "code",
   "execution_count": 10,
   "id": "a3152531",
   "metadata": {},
   "outputs": [
    {
     "data": {
      "text/plain": [
       "[<matplotlib.lines.Line2D at 0x7f9ed31b7c70>]"
      ]
     },
     "execution_count": 10,
     "metadata": {},
     "output_type": "execute_result"
    },
    {
     "data": {
      "image/png": "[encoded data removed]",
      "text/plain": [
       "<Figure size 432x288 with 1 Axes>"
      ]
     },
     "metadata": {
      "needs_background": "light"
     },
     "output_type": "display_data"
    }
   ],
   "source": [
    "plt.plot(x_new, y_new)"
   ]
  },
  {
   "cell_type": "code",
   "execution_count": 56,
   "id": "0ca1790d",
   "metadata": {},
   "outputs": [
    {
     "data": {
      "text/html": [
       "<div>\n",
       "<style scoped>\n",
       "    .dataframe tbody tr th:only-of-type {\n",
       "        vertical-align: middle;\n",
       "    }\n",
       "\n",
       "    .dataframe tbody tr th {\n",
       "        vertical-align: top;\n",
       "    }\n",
       "\n",
       "    .dataframe thead th {\n",
       "        text-align: right;\n",
       "    }\n",
       "</style>\n",
       "<table border=\"1\" class=\"dataframe\">\n",
       "  <thead>\n",
       "    <tr style=\"text-align: right;\">\n",
       "      <th></th>\n",
       "      <th>0</th>\n",
       "    </tr>\n",
       "  </thead>\n",
       "  <tbody>\n",
       "    <tr>\n",
       "      <th>0</th>\n",
       "      <td>1.122561</td>\n",
       "    </tr>\n",
       "    <tr>\n",
       "      <th>1</th>\n",
       "      <td>1.122804</td>\n",
       "    </tr>\n",
       "    <tr>\n",
       "      <th>2</th>\n",
       "      <td>1.123047</td>\n",
       "    </tr>\n",
       "    <tr>\n",
       "      <th>3</th>\n",
       "      <td>1.123290</td>\n",
       "    </tr>\n",
       "    <tr>\n",
       "      <th>4</th>\n",
       "      <td>1.123533</td>\n",
       "    </tr>\n",
       "    <tr>\n",
       "      <th>...</th>\n",
       "      <td>...</td>\n",
       "    </tr>\n",
       "    <tr>\n",
       "      <th>4590</th>\n",
       "      <td>185.148090</td>\n",
       "    </tr>\n",
       "    <tr>\n",
       "      <th>4591</th>\n",
       "      <td>192.005400</td>\n",
       "    </tr>\n",
       "    <tr>\n",
       "      <th>4592</th>\n",
       "      <td>199.390210</td>\n",
       "    </tr>\n",
       "    <tr>\n",
       "      <th>4593</th>\n",
       "      <td>207.365810</td>\n",
       "    </tr>\n",
       "    <tr>\n",
       "      <th>4594</th>\n",
       "      <td>216.006040</td>\n",
       "    </tr>\n",
       "  </tbody>\n",
       "</table>\n",
       "<p>4595 rows × 1 columns</p>\n",
       "</div>"
      ],
      "text/plain": [
       "               0\n",
       "0       1.122561\n",
       "1       1.122804\n",
       "2       1.123047\n",
       "3       1.123290\n",
       "4       1.123533\n",
       "...          ...\n",
       "4590  185.148090\n",
       "4591  192.005400\n",
       "4592  199.390210\n",
       "4593  207.365810\n",
       "4594  216.006040\n",
       "\n",
       "[4595 rows x 1 columns]"
      ]
     },
     "execution_count": 56,
     "metadata": {},
     "output_type": "execute_result"
    }
   ],
   "source": [
    "x[]"
   ]
  },
  {
   "cell_type": "code",
   "execution_count": null,
   "id": "76477a85",
   "metadata": {},
   "outputs": [],
   "source": []
  }
 ],
 "metadata": {
  "kernelspec": {
   "display_name": "Python 3 (ipykernel)",
   "language": "python",
   "name": "python3"
  },
  "language_info": {
   "codemirror_mode": {
    "name": "ipython",
    "version": 3
   },
   "file_extension": ".py",
   "mimetype": "text/x-python",
   "name": "python",
   "nbconvert_exporter": "python",
   "pygments_lexer": "ipython3",
   "version": "3.8.12"
  }
 },
 "nbformat": 4,
 "nbformat_minor": 5
}
